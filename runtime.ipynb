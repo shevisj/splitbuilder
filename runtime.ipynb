{
 "cells": [
  {
   "cell_type": "code",
   "execution_count": 1,
   "metadata": {},
   "outputs": [],
   "source": [
    "from time import sleep\n",
    "import pyautogui\n",
    "from os import path\n",
    "from random import uniform, seed\n",
    "import math\n",
    "import pprint\n",
    "from copy import deepcopy"
   ]
  },
  {
   "cell_type": "code",
   "execution_count": 2,
   "metadata": {},
   "outputs": [],
   "source": [
    "seed()"
   ]
  },
  {
   "cell_type": "code",
   "execution_count": 3,
   "metadata": {},
   "outputs": [],
   "source": [
    "ANIM_SECONDS_MIN = 0.01\n",
    "ANIM_SECONDS_MAX = 0.3\n",
    "CUR_DIR = \"C:\\\\Users\\\\Shevis\\\\src\\\\github.com\\\\shevisj\\\\splitbuilder\"\n",
    "BUILD_MODE = \"move_speed.png\"\n",
    "OBJECTS_MENU = \"objects_menu.png\"\n",
    "TOOLS_MENU = \"tools_menu.png\"\n",
    "MOVEMENT_MENU = \"movement_menu.png\"\n",
    "ROTATION_MENU = \"rotation_menu.png\"\n",
    "BLOCKS_MENU = \"blocks_menu.png\"\n",
    "RAMPS_MENU = \"blocks_ramps_menu.png\"\n",
    "FLOORS_MENU = \"blocks_floors_menu.png\"\n",
    "GLASS_RAMP = \"glass_ramp.png\"\n",
    "GLASS_FLOOR = \"glass_floor.png\"\n",
    "ENVIRONMENT_MENU = \"environment_menu.png\""
   ]
  },
  {
   "cell_type": "code",
   "execution_count": 4,
   "metadata": {},
   "outputs": [],
   "source": [
    "X_POS = (216, 935)\n",
    "Y_POS = (216, 1107)\n",
    "Z_POS = (216, 1280)\n",
    "SURF_RAMP_ANGLE = -31\n",
    "DOWN_STRAIGHT_START_ROT = (-135, 0, -45)"
   ]
  },
  {
   "cell_type": "markdown",
   "metadata": {},
   "source": [
    "# Types"
   ]
  },
  {
   "cell_type": "code",
   "execution_count": 5,
   "metadata": {},
   "outputs": [],
   "source": [
    "class Vector3:\n",
    "    def __init__(self, x=0.0, y=0.0, z=0.0):\n",
    "        self.x = round(float(x), 2)\n",
    "        self.y = round(float(y), 2)\n",
    "        self.z = round(float(z), 2)\n",
    "    \n",
    "    def __repr__(self):\n",
    "        return f\"(x: {self.x}, y: {self.y}, z: {self.z})\"\n",
    "\n",
    "    def angle_to(self, other: 'Vector3'):\n",
    "        pass\n",
    "\n",
    "class Transform:\n",
    "    def __init__(self, position: Vector3 = Vector3(), rotation: Vector3 = Vector3()):\n",
    "        self.position = position\n",
    "        self.rotation = rotation\n",
    "    \n",
    "    def forward(self, distance: float):\n",
    "        pos_x = self.position.x - round(math.sin(-1.0 * math.radians(self.rotation.y)) * distance, 2)\n",
    "        pos_z = self.position.z - round(math.cos(-1.0 * math.radians(self.rotation.y)) * distance, 2)\n",
    "        return self.copy(\n",
    "            position=Vector3(pos_x, self.position.y, pos_z)\n",
    "        )\n",
    "\n",
    "    def backward(self, distance: float):\n",
    "        pos_x = self.position.x + round(math.sin(-1.0 * math.radians(self.rotation.y)) * distance, 2)\n",
    "        pos_z = self.position.z + round(math.cos(-1.0 * math.radians(self.rotation.y)) * distance, 2)\n",
    "        return self.copy(\n",
    "            position=Vector3(pos_x, self.position.y, pos_z)\n",
    "        )\n",
    "\n",
    "    def left(self, distance: float):\n",
    "        pos_x = self.position.x - round(math.cos(-1.0 * math.radians(self.rotation.y)) * distance, 2)\n",
    "        pos_z = self.position.z + round(math.sin(-1.0 * math.radians(self.rotation.y)) * distance, 2)\n",
    "        return self.copy(\n",
    "            position=Vector3(pos_x, self.position.y, pos_z)\n",
    "        )\n",
    "\n",
    "    def right(self, distance: float):\n",
    "        pos_x = self.position.x + round(math.cos(-1.0 * math.radians(self.rotation.y)) * distance, 2)\n",
    "        pos_z = self.position.z - round(math.sin(-1.0 * math.radians(self.rotation.y)) * distance, 2)\n",
    "        return self.copy(\n",
    "            position=Vector3(pos_x, self.position.y, pos_z)\n",
    "        )\n",
    "    \n",
    "    def copy(self, position: Vector3 = None, rotation: Vector3 = None):\n",
    "        new = deepcopy(self)\n",
    "        if position is not None:\n",
    "            new.position = position\n",
    "        if rotation is not None:\n",
    "            new.rotation = rotation\n",
    "        return new\n",
    "\n",
    "    def __repr__(self):\n",
    "        return f\"Transform(\\n\\tposition: {self.position},\\n\\trotation: {self.rotation},\\n)\"\n"
   ]
  },
  {
   "cell_type": "code",
   "execution_count": 6,
   "metadata": {},
   "outputs": [],
   "source": [
    "t0 = Transform(rotation=Vector3(y=-45))"
   ]
  },
  {
   "cell_type": "code",
   "execution_count": 7,
   "metadata": {},
   "outputs": [
    {
     "data": {
      "text/plain": [
       "(x: -353.55, y: 0.0, z: 353.55)"
      ]
     },
     "execution_count": 7,
     "metadata": {},
     "output_type": "execute_result"
    }
   ],
   "source": [
    "t0.left(500).position"
   ]
  },
  {
   "cell_type": "code",
   "execution_count": null,
   "metadata": {},
   "outputs": [],
   "source": []
  },
  {
   "cell_type": "markdown",
   "metadata": {},
   "source": [
    "# Start Game"
   ]
  },
  {
   "cell_type": "code",
   "execution_count": 8,
   "metadata": {},
   "outputs": [],
   "source": [
    "def find_icon(icon_name, no_print=False):\n",
    "    # Find the game icon\n",
    "    image_path = path.join(CUR_DIR, 'images', icon_name)\n",
    "    try:\n",
    "        game_icon = pyautogui.locateOnScreen(image_path, confidence=0.8)\n",
    "        if game_icon:\n",
    "            if not no_print:\n",
    "                print(f\"{icon_name} found: {game_icon}\")\n",
    "            return pyautogui.center(game_icon)\n",
    "        return None\n",
    "    except pyautogui.ImageNotFoundException:\n",
    "        if not no_print:\n",
    "            print(\"Unable to locate image file\")\n",
    "        return None\n",
    "\n",
    "def click_icon(icon_name, no_print=False):\n",
    "    game_icon = find_icon(icon_name=icon_name, no_print=no_print)\n",
    "    if game_icon:\n",
    "        # Start the game\n",
    "        y_delta = int(game_icon.y + uniform(-20, 20))\n",
    "        x_delta = int(game_icon.x + uniform(-20, 20))\n",
    "        pyautogui.moveTo(x_delta, y_delta, duration=uniform(ANIM_SECONDS_MIN, ANIM_SECONDS_MAX))\n",
    "        pyautogui.click(game_icon)\n",
    "    elif not no_print:\n",
    "        print(\"Unable to locate game icon\", icon_name)\n",
    "\n",
    "def click_spot(x, y):\n",
    "    y_delta = int(y + uniform(-20, 20))\n",
    "    x_delta = int(x + uniform(-40, 40))\n",
    "    pyautogui.moveTo(x_delta, y_delta, duration=uniform(ANIM_SECONDS_MIN, ANIM_SECONDS_MAX))\n",
    "    pyautogui.click(x=x_delta, y=y_delta)"
   ]
  },
  {
   "cell_type": "markdown",
   "metadata": {},
   "source": [
    "# Movement"
   ]
  },
  {
   "cell_type": "code",
   "execution_count": 9,
   "metadata": {},
   "outputs": [],
   "source": [
    "def walk_wasd(dur=2):\n",
    "    pyautogui.keyDown('w')\n",
    "    sleep(dur)\n",
    "    pyautogui.keyUp('w')"
   ]
  },
  {
   "cell_type": "markdown",
   "metadata": {},
   "source": [
    "# Building"
   ]
  },
  {
   "cell_type": "code",
   "execution_count": 55,
   "metadata": {},
   "outputs": [],
   "source": [
    "def is_active(img):\n",
    "    icon_path = path.join(CUR_DIR, 'images', img)\n",
    "    icon = pyautogui.locateOnScreen(icon_path, confidence=0.8)\n",
    "    return icon is not None\n",
    "\n",
    "def activate_build_mode():\n",
    "    if not is_active(BUILD_MODE):\n",
    "        pyautogui.press('`', interval=uniform(ANIM_SECONDS_MIN, ANIM_SECONDS_MAX), _pause=True)\n",
    "\n",
    "def open_build_menu():\n",
    "    if not is_active(OBJECTS_MENU):\n",
    "        pyautogui.press('m', interval=uniform(ANIM_SECONDS_MIN, ANIM_SECONDS_MAX), _pause=True)\n",
    "\n",
    "def reset_build_menu():\n",
    "    open_build_menu()\n",
    "    click_icon(OBJECTS_MENU)\n",
    "    for _ in range(3):\n",
    "        if not is_active(ENVIRONMENT_MENU):\n",
    "            pyautogui.press('escape', interval=uniform(ANIM_SECONDS_MIN, ANIM_SECONDS_MAX), _pause=True)\n",
    "            continue\n",
    "        break\n",
    "\n",
    "def enter_value(spot, val):\n",
    "    click_spot(spot[0], spot[1])\n",
    "    val_chars = list(str(val))\n",
    "    for ch in val_chars:\n",
    "        pyautogui.press(ch, interval=uniform(ANIM_SECONDS_MIN, ANIM_SECONDS_MAX), _pause=True)\n",
    "    pyautogui.press('enter', interval=uniform(ANIM_SECONDS_MIN, ANIM_SECONDS_MAX), _pause=True)\n",
    "\n",
    "def place_object_base(transform: Transform):\n",
    "    click_icon(TOOLS_MENU)\n",
    "    click_icon(MOVEMENT_MENU)\n",
    "    enter_value(X_POS, transform.position.x)\n",
    "    enter_value(Y_POS, transform.position.y)\n",
    "    enter_value(Z_POS, transform.position.z)\n",
    "    click_icon(ROTATION_MENU)\n",
    "    enter_value(X_POS, transform.rotation.x)\n",
    "    enter_value(Y_POS, transform.rotation.y)\n",
    "    enter_value(Z_POS, transform.rotation.z)\n",
    "    click_spot(1132, 1132)\n",
    "\n",
    "def place_object(nav, transform: Transform):\n",
    "    click_icon(OBJECTS_MENU)\n",
    "    for menu in nav:\n",
    "        click_icon(menu, no_print=True)\n",
    "    place_object_base(transform)\n",
    "\n",
    "def place_previous_object(transform: Transform):\n",
    "    sleep(uniform(ANIM_SECONDS_MIN, ANIM_SECONDS_MAX))\n",
    "    pyautogui.press('z', interval=uniform(ANIM_SECONDS_MIN, ANIM_SECONDS_MAX), _pause=True)\n",
    "    place_object_base(transform)\n",
    "\n",
    "def straight_panal_extrapolator(transform: Transform, n_panals):\n",
    "    pos_x = transform.position.x\n",
    "    pos_y = transform.position.y\n",
    "    pos_z = transform.position.z\n",
    "    rot_x = transform.rotation.x\n",
    "    rot_y = transform.rotation.y\n",
    "    rot_z = transform.rotation.z\n",
    "    panal_width = 400\n",
    "    sign = math.copysign(1, n_panals)\n",
    "    panal_mag = abs(n_panals)\n",
    "    def extrapolate():\n",
    "        nonlocal pos_x, pos_z\n",
    "        for _ in range(panal_mag - 1):\n",
    "            pos_x = pos_x + round(math.sin(-1.0 * math.radians(rot_y)) * panal_width * sign, 2)\n",
    "            pos_z = pos_z + round(math.cos(-1.0 * math.radians(rot_y)) * panal_width * sign, 2)\n",
    "            yield Transform(\n",
    "                position=Vector3(pos_x, pos_y, pos_z),\n",
    "                rotation=Vector3(rot_x, rot_y, rot_z)\n",
    "            )\n",
    "    return extrapolate\n",
    "\n",
    "def place_surf_straight(transform: Transform, n_panals):\n",
    "    reset_build_menu()\n",
    "    place_object(\n",
    "        [OBJECTS_MENU, BLOCKS_MENU, FLOORS_MENU, GLASS_FLOOR],\n",
    "        transform\n",
    "    )\n",
    "    spe = straight_panal_extrapolator(transform, n_panals=n_panals)\n",
    "    for new_transform in spe():\n",
    "        place_previous_object(\n",
    "            new_transform\n",
    "        )\n",
    "\n",
    "def calc_sep_deg(radius, angle=45):\n",
    "    return math.degrees(math.atan(400.0 / (float(radius) + (800 * math.cos(math.radians(abs(angle)))))))\n",
    "\n",
    "# Radii is a list of 2-tuples with radius, count pairs\n",
    "def flex_curv_extrapolator(transform: Transform, radii, sign=1, h_deltas=None, extra_sep=0.0):\n",
    "    pos_x = transform.position.x\n",
    "    pos_y = transform.position.y\n",
    "    pos_z = transform.position.z\n",
    "    rot_x = transform.rotation.x\n",
    "    rot_y = transform.rotation.y\n",
    "    rot_z = transform.rotation.z\n",
    "    n_panals = sum([r[1] for r in radii])\n",
    "    if h_deltas is not None:\n",
    "        assert (isinstance(h_deltas, list))\n",
    "        n_deltas = sum([r[1] for r in h_deltas])\n",
    "        assert n_deltas == n_panals\n",
    "        result = []\n",
    "        for delta in h_deltas:\n",
    "            result.extend([delta[0]] * delta[1])\n",
    "        h_deltas = result\n",
    "    else:\n",
    "        h_deltas = [0] * n_panals\n",
    "    def extrapolate():\n",
    "        cur_pos_x = pos_x\n",
    "        cur_pos_z = pos_z\n",
    "        cur_rot_y = rot_y\n",
    "        cur_pos_y = pos_y\n",
    "        i = -1\n",
    "        for cur_radius in radii:\n",
    "            abs_cur_rad = abs(cur_radius[0])\n",
    "            cur_center_x = cur_pos_x + round(math.sin(-1.0 * math.radians(cur_rot_y + 90)) * cur_radius[0] * -1.0, 2)\n",
    "            cur_center_z = cur_pos_z + round(math.cos(-1.0 * math.radians(cur_rot_y + 90)) * cur_radius[0] * -1.0, 2)\n",
    "            deg_offset = (extra_sep + calc_sep_deg(abs_cur_rad, rot_z)) * sign\n",
    "            for _ in range(cur_radius[1]):\n",
    "                i += 1\n",
    "                cur_pos_y = cur_pos_y + h_deltas[i]\n",
    "                cur_rot_y = mod_rot(round(cur_rot_y + deg_offset, 2))\n",
    "                cur_pos_x = cur_center_x + round(math.sin(-1.0 * math.radians(cur_rot_y + 90)) * cur_radius[0], 2)\n",
    "                cur_pos_z = cur_center_z + round(math.cos(-1.0 * math.radians(cur_rot_y + 90)) * cur_radius[0], 2)\n",
    "                yield Transform(\n",
    "                    position=Vector3(cur_pos_x, cur_pos_y, cur_pos_z),\n",
    "                    rotation=Vector3(rot_x, cur_rot_y, rot_z)\n",
    "                )\n",
    "    return extrapolate\n",
    "\n",
    "def place_flex_curv(transform: Transform, radii, sign=1, h_deltas=None, ignore_first=False, extra_sep=0.0):\n",
    "    reset_build_menu()\n",
    "    if not ignore_first:\n",
    "        place_object(\n",
    "            [OBJECTS_MENU, BLOCKS_MENU, FLOORS_MENU, GLASS_FLOOR],\n",
    "            transform\n",
    "        )\n",
    "    fce = flex_curv_extrapolator(transform, radii, sign, h_deltas, extra_sep)\n",
    "    first = True\n",
    "    for new_transform in fce():\n",
    "        if ignore_first and first:\n",
    "            place_object(\n",
    "                [OBJECTS_MENU, BLOCKS_MENU, FLOORS_MENU, GLASS_FLOOR],\n",
    "                new_transform\n",
    "            )\n",
    "        else:\n",
    "            place_previous_object(\n",
    "                new_transform\n",
    "            )\n",
    "        first = False\n",
    "\n",
    "def mod_rot(rot):\n",
    "    currot = rot\n",
    "    while currot < -180.0:\n",
    "        currot += 360.0\n",
    "    return round(((rot + 180.0) % 360.0) - 180.0, 2)\n",
    "        \n",
    "\n",
    "def curv_extrapolator(transform: Transform, radius, n_panals=5, h_delta=0, r_delta=0, extra_sep=0.0):\n",
    "    pos_x = transform.position.x\n",
    "    pos_y = transform.position.y\n",
    "    pos_z = transform.position.z\n",
    "    rot_x = transform.rotation.x\n",
    "    rot_y = transform.rotation.y\n",
    "    rot_z = transform.rotation.z\n",
    "    r_sign = math.copysign(1.0, radius)\n",
    "    abs_radius = abs(radius)\n",
    "    sign = math.copysign(1.0, n_panals)\n",
    "    abs_n_panals = abs(n_panals)\n",
    "    center_x = pos_x + round(math.sin(-1.0 * math.radians(rot_y + 90)) * abs_radius * -1.0 * r_sign, 2)\n",
    "    center_z = pos_z + round(math.cos(-1.0 * math.radians(rot_y + 90)) * abs_radius * -1.0 * r_sign, 2)\n",
    "    def extrapolate():\n",
    "        deg_offset = 0\n",
    "        cur_pos_y = pos_y\n",
    "        cur_abs_radius = abs_radius\n",
    "        for _ in range(abs_n_panals - 1):\n",
    "            \n",
    "            cur_pos_y += h_delta\n",
    "            cur_abs_radius += r_delta\n",
    "\n",
    "            deg_offset += (extra_sep + calc_sep_deg(cur_abs_radius, rot_z)) * sign\n",
    "            new_x = center_x + round(math.sin(-1.0 * math.radians(rot_y + 90 + deg_offset)) * cur_abs_radius * r_sign, 2)\n",
    "            new_z = center_z + round(math.cos(-1.0 * math.radians(rot_y + 90 + deg_offset)) * cur_abs_radius * r_sign, 2)\n",
    "            yield Transform(\n",
    "                position=Vector3(new_x, cur_pos_y, new_z),\n",
    "                rotation=Vector3(rot_x, mod_rot(round(rot_y + deg_offset, 2)), rot_z)\n",
    "            )\n",
    "    return extrapolate\n",
    "\n",
    "def place_curv(transform: Transform, radius: int, n_panals=5, h_delta=0, r_delta=0, ignore_first=False):\n",
    "    reset_build_menu()\n",
    "    if not ignore_first:\n",
    "        place_object(\n",
    "            [OBJECTS_MENU, BLOCKS_MENU, FLOORS_MENU, GLASS_FLOOR],\n",
    "            transform\n",
    "        )\n",
    "    ce = curv_extrapolator(transform, radius, n_panals, h_delta, r_delta)\n",
    "    first = True\n",
    "    for new_transform in ce():\n",
    "        if ignore_first and first:\n",
    "            place_object(\n",
    "                [OBJECTS_MENU, BLOCKS_MENU, FLOORS_MENU, GLASS_FLOOR],\n",
    "                new_transform\n",
    "            )\n",
    "        else:\n",
    "            place_previous_object(\n",
    "                new_transform\n",
    "            )\n",
    "        first = False\n",
    "    "
   ]
  },
  {
   "cell_type": "markdown",
   "metadata": {},
   "source": [
    "# Arbitrary Circles"
   ]
  },
  {
   "cell_type": "code",
   "execution_count": 11,
   "metadata": {},
   "outputs": [],
   "source": [
    "def arb_curv_extrapolator(transform: Transform, radius, n_panals=5, h_delta=0, r_delta=0, deg_sep=0.0):\n",
    "    pos_x = transform.position.x\n",
    "    pos_y = transform.position.y\n",
    "    pos_z = transform.position.z\n",
    "    rot_x = transform.rotation.x\n",
    "    rot_y = transform.rotation.y\n",
    "    rot_z = transform.rotation.z\n",
    "    r_sign = math.copysign(1.0, radius)\n",
    "    abs_radius = abs(radius)\n",
    "    sign = math.copysign(1.0, n_panals)\n",
    "    abs_n_panals = abs(n_panals)\n",
    "    center_x = pos_x + round(math.sin(-1.0 * math.radians(rot_y + 90)) * abs_radius * -1.0 * r_sign, 2)\n",
    "    center_z = pos_z + round(math.cos(-1.0 * math.radians(rot_y + 90)) * abs_radius * -1.0 * r_sign, 2)\n",
    "    def extrapolate():\n",
    "        deg_offset = 0\n",
    "        cur_pos_y = pos_y\n",
    "        cur_abs_radius = abs_radius\n",
    "        for _ in range(abs_n_panals - 1):\n",
    "            \n",
    "            cur_pos_y += h_delta\n",
    "            cur_abs_radius += r_delta\n",
    "\n",
    "            deg_offset += deg_sep * sign\n",
    "            new_x = center_x + round(math.sin(-1.0 * math.radians(rot_y + 90 + deg_offset)) * cur_abs_radius * r_sign, 2)\n",
    "            new_z = center_z + round(math.cos(-1.0 * math.radians(rot_y + 90 + deg_offset)) * cur_abs_radius * r_sign, 2)\n",
    "            yield Transform(\n",
    "                position=Vector3(new_x, cur_pos_y, new_z),\n",
    "                rotation=Vector3(rot_x, mod_rot(round(rot_y + deg_offset, 2)), rot_z)\n",
    "            )\n",
    "    return extrapolate\n",
    "\n",
    "def place_arb_curv(transform: Transform, radius: int, n_panals=5, h_delta=0, r_delta=0, deg_sep=0.0):\n",
    "    reset_build_menu()\n",
    "    ce = arb_curv_extrapolator(transform, radius, n_panals, h_delta, r_delta, deg_sep=deg_sep)\n",
    "    for new_transform in ce():\n",
    "        place_previous_object(\n",
    "            new_transform\n",
    "        )"
   ]
  },
  {
   "cell_type": "markdown",
   "metadata": {},
   "source": [
    "# Composite structures"
   ]
  },
  {
   "cell_type": "code",
   "execution_count": 12,
   "metadata": {},
   "outputs": [],
   "source": [
    "roots = [\n",
    "    Transform(\n",
    "        position=Vector3(0, 19000, 19800),\n",
    "        rotation=Vector3(0, 0, 0)\n",
    "    ),\n",
    "    Transform(\n",
    "        position=Vector3(11638, 19000, 16019),\n",
    "        rotation=Vector3(0, -36, 0)\n",
    "    ),\n",
    "    Transform(\n",
    "        position=Vector3(18831, 19000, 6119),\n",
    "        rotation=Vector3(0, -72, 0)\n",
    "    ),\n",
    "    Transform(\n",
    "        position=Vector3(18831, 19000, -6119),\n",
    "        rotation=Vector3(0, -108, 0)\n",
    "    ),\n",
    "    Transform(\n",
    "        position=Vector3(11638, 19000, -16019),\n",
    "        rotation=Vector3(0, -144, 0)\n",
    "    ),\n",
    "    Transform(\n",
    "        position=Vector3(0, 19000, -19800),\n",
    "        rotation=Vector3(0, 180, 0)\n",
    "    ),\n",
    "    Transform(\n",
    "        position=Vector3(-11638, 19000, -16019),\n",
    "        rotation=Vector3(0, 144, 0)\n",
    "    ),\n",
    "    Transform(\n",
    "        position=Vector3(-18831, 19000, -6119),\n",
    "        rotation=Vector3(0, 108, 0)\n",
    "    ),\n",
    "    Transform(\n",
    "        position=Vector3(-188310, 19000, 6119),\n",
    "        rotation=Vector3(0, 72, 0)\n",
    "    ),\n",
    "    Transform(\n",
    "        position=Vector3(-11638, 19000, 16019),\n",
    "        rotation=Vector3(0, 36, 0)\n",
    "    ),\n",
    "]\n",
    "\n",
    "def build_whirlwind_arm(root: Transform):\n",
    "    reset_build_menu()\n",
    "    # Place root\n",
    "    place_object(\n",
    "        [BLOCKS_MENU, FLOORS_MENU, GLASS_FLOOR],\n",
    "        root\n",
    "    )\n",
    "\n",
    "    # Section A\n",
    "    section_a_transform = root.forward(2000)\n",
    "    section_a_transform.position.y -= 1000\n",
    "    section_a_transform.rotation = Vector3(root.rotation.x, root.rotation.y - 36, -45)\n",
    "    \n",
    "    place_curv(\n",
    "        section_a_transform,\n",
    "        10000,\n",
    "        3,\n",
    "        -200,\n",
    "        -198\n",
    "    )\n",
    "\n",
    "    section_a_transform_upper = section_a_transform.left(565)\n",
    "    section_a_transform_upper.position.y += 566\n",
    "    place_curv(\n",
    "        section_a_transform_upper,\n",
    "        10566,\n",
    "        3,\n",
    "        -200,\n",
    "        -198\n",
    "    )\n",
    "\n",
    "    #place_flex_curv(\n",
    "    #    Transform(\n",
    "    #        position=section_a_start_pos,\n",
    "    #        rotation=Vector3(root.rotation.x, root.rotation.y, -31)\n",
    "    #    ),\n",
    "    #   [\n",
    "    #        (5000, 1),\n",
    "    #        (4000, 2),\n",
    "    #        (3000, 3),\n",
    "    #        (4000, 2),\n",
    "    #        (5000, 1),\n",
    "    #    ],\n",
    "    #    1,\n",
    "    #    [\n",
    "    #        (-50, 9)\n",
    "    #    ]\n",
    "    #)\n",
    "\n",
    "def relative_position_test(start: Transform):\n",
    "    reset_build_menu()\n",
    "    place_object(\n",
    "        [OBJECTS_MENU, BLOCKS_MENU, RAMPS_MENU, GLASS_FLOOR],\n",
    "        start\n",
    "    )\n",
    "    for i in range(0, 360, 15):\n",
    "        start.rotation.y = mod_rot(i)\n",
    "        place_object(\n",
    "            [GLASS_FLOOR],\n",
    "            start.left(2000 + i)\n",
    "        )\n"
   ]
  },
  {
   "cell_type": "code",
   "execution_count": null,
   "metadata": {},
   "outputs": [],
   "source": []
  },
  {
   "cell_type": "markdown",
   "metadata": {},
   "source": [
    "# Runner"
   ]
  },
  {
   "cell_type": "code",
   "execution_count": 62,
   "metadata": {},
   "outputs": [
    {
     "name": "stdout",
     "output_type": "stream",
     "text": [
      "game_icon.png found: Box(left=1408, top=2115, width=30, height=20)\n",
      "objects_menu.png found: Box(left=315, top=371, width=144, height=24)\n",
      "objects_menu.png found: Box(left=315, top=371, width=144, height=24)\n",
      "tools_menu.png found: Box(left=557, top=371, width=104, height=24)\n",
      "movement_menu.png found: Box(left=401, top=572, width=142, height=20)\n",
      "rotation_menu.png found: Box(left=628, top=572, width=125, height=20)\n",
      "tools_menu.png found: Box(left=557, top=371, width=104, height=24)\n",
      "movement_menu.png found: Box(left=401, top=572, width=142, height=20)\n",
      "rotation_menu.png found: Box(left=628, top=572, width=125, height=20)\n",
      "tools_menu.png found: Box(left=557, top=371, width=104, height=24)\n",
      "movement_menu.png found: Box(left=401, top=572, width=142, height=20)\n",
      "rotation_menu.png found: Box(left=628, top=572, width=125, height=20)\n",
      "tools_menu.png found: Box(left=557, top=371, width=104, height=24)\n",
      "movement_menu.png found: Box(left=401, top=572, width=142, height=20)\n",
      "rotation_menu.png found: Box(left=628, top=572, width=125, height=20)\n",
      "tools_menu.png found: Box(left=557, top=371, width=104, height=24)\n",
      "movement_menu.png found: Box(left=401, top=572, width=142, height=20)\n",
      "rotation_menu.png found: Box(left=628, top=572, width=125, height=20)\n",
      "tools_menu.png found: Box(left=557, top=371, width=104, height=24)\n",
      "movement_menu.png found: Box(left=401, top=572, width=142, height=20)\n",
      "rotation_menu.png found: Box(left=628, top=572, width=125, height=20)\n",
      "tools_menu.png found: Box(left=557, top=371, width=104, height=24)\n",
      "movement_menu.png found: Box(left=401, top=572, width=142, height=20)\n",
      "rotation_menu.png found: Box(left=628, top=572, width=125, height=20)\n",
      "tools_menu.png found: Box(left=557, top=371, width=104, height=24)\n",
      "movement_menu.png found: Box(left=401, top=572, width=142, height=20)\n",
      "rotation_menu.png found: Box(left=628, top=572, width=125, height=20)\n",
      "tools_menu.png found: Box(left=557, top=371, width=104, height=24)\n",
      "movement_menu.png found: Box(left=401, top=572, width=142, height=20)\n",
      "rotation_menu.png found: Box(left=628, top=572, width=125, height=20)\n",
      "tools_menu.png found: Box(left=557, top=371, width=104, height=24)\n",
      "movement_menu.png found: Box(left=401, top=572, width=142, height=20)\n",
      "rotation_menu.png found: Box(left=628, top=572, width=125, height=20)\n",
      "objects_menu.png found: Box(left=315, top=371, width=144, height=24)\n",
      "objects_menu.png found: Box(left=315, top=371, width=144, height=24)\n",
      "tools_menu.png found: Box(left=557, top=371, width=104, height=24)\n",
      "movement_menu.png found: Box(left=401, top=572, width=142, height=20)\n",
      "rotation_menu.png found: Box(left=628, top=573, width=125, height=20)\n",
      "tools_menu.png found: Box(left=557, top=371, width=104, height=24)\n",
      "movement_menu.png found: Box(left=401, top=572, width=142, height=20)\n",
      "rotation_menu.png found: Box(left=628, top=573, width=125, height=20)\n",
      "tools_menu.png found: Box(left=557, top=371, width=104, height=24)\n",
      "movement_menu.png found: Box(left=401, top=572, width=142, height=20)\n",
      "rotation_menu.png found: Box(left=628, top=573, width=125, height=20)\n",
      "tools_menu.png found: Box(left=557, top=371, width=104, height=24)\n",
      "movement_menu.png found: Box(left=401, top=572, width=142, height=20)\n",
      "rotation_menu.png found: Box(left=628, top=573, width=125, height=20)\n",
      "tools_menu.png found: Box(left=557, top=371, width=104, height=24)\n",
      "movement_menu.png found: Box(left=401, top=572, width=142, height=20)\n",
      "rotation_menu.png found: Box(left=628, top=573, width=125, height=20)\n",
      "tools_menu.png found: Box(left=557, top=371, width=104, height=24)\n",
      "movement_menu.png found: Box(left=401, top=572, width=142, height=20)\n",
      "rotation_menu.png found: Box(left=628, top=573, width=125, height=20)\n",
      "tools_menu.png found: Box(left=557, top=371, width=104, height=24)\n",
      "movement_menu.png found: Box(left=401, top=572, width=142, height=20)\n",
      "rotation_menu.png found: Box(left=628, top=573, width=125, height=20)\n",
      "tools_menu.png found: Box(left=557, top=371, width=104, height=24)\n",
      "movement_menu.png found: Box(left=401, top=572, width=142, height=20)\n",
      "rotation_menu.png found: Box(left=628, top=573, width=125, height=20)\n",
      "tools_menu.png found: Box(left=557, top=371, width=104, height=24)\n",
      "movement_menu.png found: Box(left=401, top=572, width=142, height=20)\n",
      "rotation_menu.png found: Box(left=628, top=573, width=125, height=20)\n"
     ]
    }
   ],
   "source": [
    "try:\n",
    "    click_icon('game_icon.png')\n",
    "    activate_build_mode()\n",
    "    # place_flex_curv(\n",
    "    #     transform=Transform(\n",
    "    #         position=Vector3(17800, 18400, 18300),\n",
    "    #         rotation=Vector3(0, 135, -31)\n",
    "    #     ),\n",
    "    #     radii=[\n",
    "    #        (-5000, 1),\n",
    "    #        (-4000, 2),\n",
    "    #        (-3000, 3),\n",
    "    #        (-4000, 2),\n",
    "    #        (-5000, 1),\n",
    "    #     ],\n",
    "    #     sign=-1,\n",
    "    #     h_deltas=[(0, 9)],\n",
    "    #     ignore_first=True\n",
    "    #     # [\n",
    "    #     #    (-10, 1),\n",
    "    #     #    (-15, 2),\n",
    "    #     #    (-20, 3),\n",
    "    #     #    (-25, 2),\n",
    "    #     #    (-30, 1),\n",
    "    #     # ]\n",
    "    # )\n",
    "    # place_curv(\n",
    "    #    transform=Transform(\n",
    "    #         position=Vector3(-15200, 11080, 17600),\n",
    "    #         rotation=Vector3(0, -135, -45)\n",
    "    #     ),\n",
    "    #    radius=3500,\n",
    "    #    n_panals=11,\n",
    "    #    h_delta=-50,\n",
    "    #    r_delta=-50,\n",
    "    #    ignore_first=False\n",
    "    # )\n",
    "    # place_curv(\n",
    "    #     transform=Transform(\n",
    "    #         position=Vector3(17600, 11080, -15200),\n",
    "    #         rotation=Vector3(0, 45, 45)\n",
    "    #     ),\n",
    "    #    radius=-3500,\n",
    "    #    n_panals=-11,\n",
    "    #    h_delta=-50,\n",
    "    #    r_delta=-50,\n",
    "    #    ignore_first=True\n",
    "    # )\n",
    "\n",
    "    place_flex_curv(\n",
    "        transform=Transform(\n",
    "            position=Vector3(600, 14600, 3600),\n",
    "            rotation=Vector3(0, -68.01, -45)\n",
    "        ),\n",
    "        radii=[\n",
    "           (4000, 1),\n",
    "           (3000, 2),\n",
    "           (2000, 3),\n",
    "           (3000, 2),\n",
    "           (4000, 1),\n",
    "        ],\n",
    "        sign=1,\n",
    "        h_deltas=[(0, 9)],\n",
    "        ignore_first=False,\n",
    "        #extra_sep=5.0\n",
    "    )\n",
    "    place_flex_curv(\n",
    "        transform=Transform(\n",
    "            position=Vector3(3600, 14600, 600),\n",
    "            rotation=Vector3(0, -21.99, 45)\n",
    "        ),\n",
    "        radii=[\n",
    "           (-4000, 1),\n",
    "           (-3000, 2),\n",
    "           (-2000, 3),\n",
    "           (-3000, 2),\n",
    "           (-4000, 1),\n",
    "        ],\n",
    "        sign=-1,\n",
    "        h_deltas=[(0, 9)],\n",
    "        ignore_first=True,\n",
    "        #extra_sep=5.0\n",
    "    )\n",
    "\n",
    "\n",
    "    # place_arb_curv(\n",
    "    #     transform=Transform(\n",
    "    #         position=Vector3(-5560.73, 16250, 6228.47),\n",
    "    #         rotation=Vector3(0, 63, 0)\n",
    "    #     ),\n",
    "    #    radius=-2950,\n",
    "    #    n_panals=18,\n",
    "    #    deg_sep=18\n",
    "    # )\n",
    "except KeyboardInterrupt as e:\n",
    "    print(\"Exiting\")"
   ]
  },
  {
   "cell_type": "code",
   "execution_count": 25,
   "metadata": {},
   "outputs": [],
   "source": [
    "image = pyautogui.screenshot()\n",
    "image.save('testing.png')"
   ]
  },
  {
   "cell_type": "code",
   "execution_count": null,
   "metadata": {},
   "outputs": [],
   "source": [
    "ep = straight_panal_extrapolator((0, 0, 0), (0, 0, 0), 4)"
   ]
  },
  {
   "cell_type": "code",
   "execution_count": null,
   "metadata": {},
   "outputs": [
    {
     "name": "stdout",
     "output_type": "stream",
     "text": [
      "(400, 0, 0) (0, 0, 0)\n",
      "(800, 0, 0) (0, 0, 0)\n",
      "(1200, 0, 0) (0, 0, 0)\n"
     ]
    }
   ],
   "source": [
    "for p, r in ep():\n",
    "    print(p, r)"
   ]
  },
  {
   "cell_type": "code",
   "execution_count": null,
   "metadata": {},
   "outputs": [
    {
     "name": "stdout",
     "output_type": "stream",
     "text": [
      "0 5000 -1000\n"
     ]
    }
   ],
   "source": [
    "curv_extrapolator((0, 5000, 0), (0, -90, -31), 1000, 5)"
   ]
  },
  {
   "cell_type": "code",
   "execution_count": null,
   "metadata": {},
   "outputs": [],
   "source": [
    "ce = curv_extrapolator((-1546, 12890, 1235), (0, 0, -31), 1000, 5)"
   ]
  },
  {
   "cell_type": "code",
   "execution_count": null,
   "metadata": {},
   "outputs": [
    {
     "name": "stdout",
     "output_type": "stream",
     "text": [
      "(-1546, 12890, 1235) (0, 0, -31)\n",
      "(-1542, 12890, 1148) (0, 5.0, -31)\n",
      "(-1531, 12890, 1061) (0, 10.0, -31)\n",
      "(-1512, 12890, 976) (0, 15.0, -31)\n",
      "(-1486, 12890, 893) (0, 20.0, -31)\n"
     ]
    }
   ],
   "source": [
    "print((-1546, 12890, 1235), (0, 0, -31))\n",
    "for loc, rot in ce():\n",
    "    print(loc, rot)"
   ]
  },
  {
   "cell_type": "code",
   "execution_count": null,
   "metadata": {},
   "outputs": [
    {
     "data": {
      "text/plain": [
       "11.309932474020215"
      ]
     },
     "execution_count": 49,
     "metadata": {},
     "output_type": "execute_result"
    }
   ],
   "source": [
    "math.degrees(math.atan(400.0 / float(2000)))"
   ]
  },
  {
   "cell_type": "code",
   "execution_count": 24,
   "metadata": {},
   "outputs": [
    {
     "data": {
      "text/plain": [
       "565.685424949238"
      ]
     },
     "execution_count": 24,
     "metadata": {},
     "output_type": "execute_result"
    }
   ],
   "source": [
    "800 * math.cos(math.radians(45))"
   ]
  },
  {
   "cell_type": "code",
   "execution_count": null,
   "metadata": {},
   "outputs": [
    {
     "data": {
      "text/plain": [
       "0.8571673007021123"
      ]
     },
     "execution_count": 54,
     "metadata": {},
     "output_type": "execute_result"
    }
   ],
   "source": [
    "math.cos(math.radians(31))"
   ]
  },
  {
   "cell_type": "code",
   "execution_count": 74,
   "metadata": {},
   "outputs": [
    {
     "data": {
      "text/plain": [
       "-66"
      ]
     },
     "execution_count": 74,
     "metadata": {},
     "output_type": "execute_result"
    }
   ],
   "source": [
    "mod_rot(-66666)"
   ]
  },
  {
   "cell_type": "code",
   "execution_count": 85,
   "metadata": {},
   "outputs": [],
   "source": [
    "fce = flex_curv_extrapolator((-1546, 12890, 1235), (0, 0, -31), [(1000, 2), (500, 3), (1000, 2)])"
   ]
  },
  {
   "cell_type": "code",
   "execution_count": 87,
   "metadata": {},
   "outputs": [
    {
     "name": "stdout",
     "output_type": "stream",
     "text": [
      "(-1546, 12890, 1235) (0, 0, -31)\n",
      "(-1516, 12890, 993) (0, 14, -31)\n",
      "(-1277, 12890, 553) (0, 43, -31)\n",
      "(-1130, 12890, 445) (0, 64, -31)\n",
      "(-782, 12890, 411) (0, 105, -31)\n",
      "(-424, 12890, 782) (0, 167, -31)\n",
      "(-398, 12890, 1024) (0, -179, -31)\n",
      "(-532, 12890, 1507) (0, -150, -31)\n"
     ]
    }
   ],
   "source": [
    "print((-1546, 12890, 1235), (0, 0, -31))\n",
    "for loc, rot in fce():\n",
    "    print(loc, rot)"
   ]
  },
  {
   "cell_type": "code",
   "execution_count": 21,
   "metadata": {},
   "outputs": [
    {
     "name": "stdout",
     "output_type": "stream",
     "text": [
      "-180\n",
      "-144\n",
      "-108\n",
      "-72\n",
      "-36\n",
      "0\n",
      "36\n",
      "72\n",
      "108\n",
      "144\n"
     ]
    }
   ],
   "source": [
    "for i in range(-180, 180, 36):\n",
    "    print(i)"
   ]
  },
  {
   "cell_type": "code",
   "execution_count": 39,
   "metadata": {},
   "outputs": [],
   "source": [
    "r = roots[0]"
   ]
  },
  {
   "cell_type": "code",
   "execution_count": 40,
   "metadata": {},
   "outputs": [
    {
     "data": {
      "text/plain": [
       "Transform(\n",
       "\tposition: (x: 0, y: 1900, z: 19800),\n",
       "\trotation: (x: 0, y: 0, z: 0),\n",
       ")"
      ]
     },
     "execution_count": 40,
     "metadata": {},
     "output_type": "execute_result"
    }
   ],
   "source": [
    "r"
   ]
  },
  {
   "cell_type": "code",
   "execution_count": 41,
   "metadata": {},
   "outputs": [
    {
     "data": {
      "text/plain": [
       "(x: 0, y: 1900, z: 20800)"
      ]
     },
     "execution_count": 41,
     "metadata": {},
     "output_type": "execute_result"
    }
   ],
   "source": [
    "r.forward(1000)"
   ]
  },
  {
   "cell_type": "code",
   "execution_count": 24,
   "metadata": {},
   "outputs": [
    {
     "data": {
      "text/plain": [
       "565.685424949238"
      ]
     },
     "execution_count": 24,
     "metadata": {},
     "output_type": "execute_result"
    }
   ],
   "source": [
    "(800 * math.cos(math.radians(45)))"
   ]
  },
  {
   "cell_type": "code",
   "execution_count": 61,
   "metadata": {},
   "outputs": [],
   "source": [
    "root = roots[2]"
   ]
  },
  {
   "cell_type": "code",
   "execution_count": 73,
   "metadata": {},
   "outputs": [],
   "source": [
    "section_a_transform = root.forward(2000)\n",
    "section_a_transform.position.y -= 1000\n",
    "section_a_transform.rotation = Vector3(root.rotation.x, root.rotation.y - 36, -31)"
   ]
  },
  {
   "cell_type": "code",
   "execution_count": 65,
   "metadata": {},
   "outputs": [],
   "source": [
    "section_a_transform.position = Vector3(y=1000)"
   ]
  },
  {
   "cell_type": "code",
   "execution_count": 74,
   "metadata": {},
   "outputs": [
    {
     "data": {
      "text/plain": [
       "Transform(\n",
       "\tposition: (x: 16929, y: 18000, z: 5501),\n",
       "\trotation: (x: 0, y: -108, z: -31),\n",
       ")"
      ]
     },
     "execution_count": 74,
     "metadata": {},
     "output_type": "execute_result"
    }
   ],
   "source": [
    "section_a_transform"
   ]
  },
  {
   "cell_type": "code",
   "execution_count": 75,
   "metadata": {},
   "outputs": [
    {
     "data": {
      "text/plain": [
       "Transform(\n",
       "\tposition: (x: 16754, y: 18000, z: 6038),\n",
       "\trotation: (x: 0, y: -108, z: -31),\n",
       ")"
      ]
     },
     "execution_count": 75,
     "metadata": {},
     "output_type": "execute_result"
    }
   ],
   "source": [
    "section_a_transform.left(565)"
   ]
  },
  {
   "cell_type": "code",
   "execution_count": 6,
   "metadata": {},
   "outputs": [],
   "source": [
    "import numpy as np\n",
    "import math as m\n",
    "  \n",
    "def Rx(theta):\n",
    "  return np.matrix([[ 1, 0           , 0           ],\n",
    "                   [ 0, m.cos(theta),-m.sin(theta)],\n",
    "                   [ 0, m.sin(theta), m.cos(theta)]])\n",
    "  \n",
    "def Ry(theta):\n",
    "  return np.matrix([[ m.cos(theta), 0, m.sin(theta)],\n",
    "                   [ 0           , 1, 0           ],\n",
    "                   [-m.sin(theta), 0, m.cos(theta)]])\n",
    "  \n",
    "def Rz(theta):\n",
    "  return np.matrix([[ m.cos(theta), -m.sin(theta), 0 ],\n",
    "                   [ m.sin(theta), m.cos(theta) , 0 ],\n",
    "                   [ 0           , 0            , 1 ]])"
   ]
  },
  {
   "cell_type": "code",
   "execution_count": 7,
   "metadata": {},
   "outputs": [
    {
     "name": "stdout",
     "output_type": "stream",
     "text": [
      "phi = 1.5707963267948966\n",
      "theta  = 0.7853981633974483\n",
      "psi = 1.5707963267948966\n",
      "[[ 0.   -0.    1.  ]\n",
      " [ 0.71  0.71 -0.  ]\n",
      " [-0.71  0.71  0.  ]]\n"
     ]
    }
   ],
   "source": [
    "phi = m.pi/2\n",
    "theta = m.pi/4\n",
    "psi = m.pi/2\n",
    "print(\"phi =\", phi)\n",
    "print(\"theta  =\", theta)\n",
    "print(\"psi =\", psi)\n",
    "  \n",
    "  \n",
    "R = Rz(psi) * Ry(theta) * Rx(phi)\n",
    "print(np.round(R, decimals=2))"
   ]
  },
  {
   "cell_type": "code",
   "execution_count": 8,
   "metadata": {},
   "outputs": [
    {
     "name": "stdout",
     "output_type": "stream",
     "text": [
      "phi = 1.5707963267948966\n",
      "theta  = 0.7853981633974483\n",
      "psi = 1.5707963267948966\n"
     ]
    }
   ],
   "source": [
    "import sys\n",
    "tol = sys.float_info.epsilon * 10\n",
    "  \n",
    "if abs(R.item(0,0))< tol and abs(R.item(1,0)) < tol:\n",
    "   eul1 = 0\n",
    "   eul2 = m.atan2(-R.item(2,0), R.item(0,0))\n",
    "   eul3 = m.atan2(-R.item(1,2), R.item(1,1))\n",
    "else:   \n",
    "   eul1 = m.atan2(R.item(1,0),R.item(0,0))\n",
    "   sp = m.sin(eul1)\n",
    "   cp = m.cos(eul1)\n",
    "   eul2 = m.atan2(-R.item(2,0),cp*R.item(0,0)+sp*R.item(1,0))\n",
    "   eul3 = m.atan2(sp*R.item(0,2)-cp*R.item(1,2),cp*R.item(1,1)-sp*R.item(0,1))\n",
    "  \n",
    "print(\"phi =\", eul1)\n",
    "print(\"theta  =\", eul2)\n",
    "print(\"psi =\", eul3)"
   ]
  },
  {
   "cell_type": "code",
   "execution_count": 36,
   "metadata": {},
   "outputs": [
    {
     "data": {
      "text/plain": [
       "3065.685424949238"
      ]
     },
     "execution_count": 36,
     "metadata": {},
     "output_type": "execute_result"
    }
   ],
   "source": [
    "math.sqrt((400**2)*2) + 2500"
   ]
  },
  {
   "cell_type": "code",
   "execution_count": 98,
   "metadata": {},
   "outputs": [
    {
     "data": {
      "text/plain": [
       "11.996066542829778"
      ]
     },
     "execution_count": 98,
     "metadata": {},
     "output_type": "execute_result"
    }
   ],
   "source": [
    "math.sqrt((8.4825**2)*2)"
   ]
  },
  {
   "cell_type": "code",
   "execution_count": 100,
   "metadata": {},
   "outputs": [
    {
     "data": {
      "text/plain": [
       "5.996265504461923"
      ]
     },
     "execution_count": 100,
     "metadata": {},
     "output_type": "execute_result"
    }
   ],
   "source": [
    "math.sqrt((8.48**2)/2)"
   ]
  },
  {
   "cell_type": "code",
   "execution_count": 33,
   "metadata": {},
   "outputs": [
    {
     "data": {
      "text/plain": [
       "40000.0"
      ]
     },
     "execution_count": 33,
     "metadata": {},
     "output_type": "execute_result"
    }
   ],
   "source": [
    "80000/2"
   ]
  },
  {
   "cell_type": "code",
   "execution_count": 25,
   "metadata": {},
   "outputs": [
    {
     "data": {
      "text/plain": [
       "3.5355339059327378"
      ]
     },
     "execution_count": 25,
     "metadata": {},
     "output_type": "execute_result"
    }
   ],
   "source": [
    "math.sqrt(12.5)"
   ]
  },
  {
   "cell_type": "code",
   "execution_count": 26,
   "metadata": {},
   "outputs": [
    {
     "data": {
      "text/plain": [
       "11.3"
      ]
     },
     "execution_count": 26,
     "metadata": {},
     "output_type": "execute_result"
    }
   ],
   "source": [
    "5.65*2"
   ]
  },
  {
   "cell_type": "code",
   "execution_count": 68,
   "metadata": {},
   "outputs": [
    {
     "data": {
      "text/plain": [
       "2.33"
      ]
     },
     "execution_count": 68,
     "metadata": {},
     "output_type": "execute_result"
    }
   ],
   "source": [
    "round(2.3345, 2)"
   ]
  },
  {
   "cell_type": "code",
   "execution_count": 73,
   "metadata": {},
   "outputs": [
    {
     "data": {
      "text/plain": [
       "-47.85"
      ]
     },
     "execution_count": 73,
     "metadata": {},
     "output_type": "execute_result"
    }
   ],
   "source": [
    "-90 + 42.15"
   ]
  },
  {
   "cell_type": "code",
   "execution_count": 15,
   "metadata": {},
   "outputs": [
    {
     "data": {
      "text/plain": [
       "31.300827005537716"
      ]
     },
     "execution_count": 15,
     "metadata": {},
     "output_type": "execute_result"
    }
   ],
   "source": [
    "math.degrees(math.tan(0.5))"
   ]
  },
  {
   "cell_type": "code",
   "execution_count": 19,
   "metadata": {},
   "outputs": [
    {
     "data": {
      "text/plain": [
       "12.5"
      ]
     },
     "execution_count": 19,
     "metadata": {},
     "output_type": "execute_result"
    }
   ],
   "source": [
    "25/2"
   ]
  },
  {
   "cell_type": "code",
   "execution_count": 27,
   "metadata": {},
   "outputs": [
    {
     "data": {
      "text/plain": [
       "24.031067811865476"
      ]
     },
     "execution_count": 27,
     "metadata": {},
     "output_type": "execute_result"
    }
   ],
   "source": [
    "(3.5355339059327378*2) + (8.48*2)"
   ]
  },
  {
   "cell_type": "code",
   "execution_count": 32,
   "metadata": {},
   "outputs": [
    {
     "data": {
      "text/plain": [
       "7.0710678118654755"
      ]
     },
     "execution_count": 32,
     "metadata": {},
     "output_type": "execute_result"
    }
   ],
   "source": [
    "3.5355339059327378*2"
   ]
  },
  {
   "cell_type": "code",
   "execution_count": 2,
   "metadata": {},
   "outputs": [
    {
     "data": {
      "text/plain": [
       "13.48"
      ]
     },
     "execution_count": 2,
     "metadata": {},
     "output_type": "execute_result"
    }
   ],
   "source": [
    "(6.37+11.31)-4.2"
   ]
  },
  {
   "cell_type": "code",
   "execution_count": 3,
   "metadata": {},
   "outputs": [
    {
     "data": {
      "text/plain": [
       "6.74"
      ]
     },
     "execution_count": 3,
     "metadata": {},
     "output_type": "execute_result"
    }
   ],
   "source": [
    "13.48/2"
   ]
  },
  {
   "cell_type": "code",
   "execution_count": 4,
   "metadata": {},
   "outputs": [
    {
     "data": {
      "text/plain": [
       "9.496445"
      ]
     },
     "execution_count": 4,
     "metadata": {},
     "output_type": "execute_result"
    }
   ],
   "source": [
    "18.99289 / 2"
   ]
  },
  {
   "cell_type": "code",
   "execution_count": 27,
   "metadata": {},
   "outputs": [
    {
     "data": {
      "text/plain": [
       "2.83"
      ]
     },
     "execution_count": 27,
     "metadata": {},
     "output_type": "execute_result"
    }
   ],
   "source": [
    "14.14-11.31"
   ]
  },
  {
   "cell_type": "code",
   "execution_count": 28,
   "metadata": {},
   "outputs": [
    {
     "data": {
      "text/plain": [
       "8.48"
      ]
     },
     "execution_count": 28,
     "metadata": {},
     "output_type": "execute_result"
    }
   ],
   "source": [
    "11.31 - 2.83"
   ]
  },
  {
   "cell_type": "code",
   "execution_count": 33,
   "metadata": {},
   "outputs": [
    {
     "data": {
      "text/plain": [
       "21.91"
      ]
     },
     "execution_count": 33,
     "metadata": {},
     "output_type": "execute_result"
    }
   ],
   "source": [
    "13.43 + 8.48"
   ]
  },
  {
   "cell_type": "code",
   "execution_count": 71,
   "metadata": {},
   "outputs": [
    {
     "data": {
      "text/plain": [
       "4.242640687119285"
      ]
     },
     "execution_count": 71,
     "metadata": {},
     "output_type": "execute_result"
    }
   ],
   "source": [
    "8.48528137423857 / 2"
   ]
  },
  {
   "cell_type": "code",
   "execution_count": 42,
   "metadata": {},
   "outputs": [
    {
     "data": {
      "text/plain": [
       "282.842712474619"
      ]
     },
     "execution_count": 42,
     "metadata": {},
     "output_type": "execute_result"
    }
   ],
   "source": [
    "math.sqrt((400**2)/2)"
   ]
  },
  {
   "cell_type": "code",
   "execution_count": 44,
   "metadata": {},
   "outputs": [
    {
     "data": {
      "text/plain": [
       "399.9961639816062"
      ]
     },
     "execution_count": 44,
     "metadata": {},
     "output_type": "execute_result"
    }
   ],
   "source": [
    "math.sqrt(282.84**2 + 282.84**2)"
   ]
  },
  {
   "cell_type": "code",
   "execution_count": 47,
   "metadata": {},
   "outputs": [
    {
     "data": {
      "text/plain": [
       "2.4492935982947064e-14"
      ]
     },
     "execution_count": 47,
     "metadata": {},
     "output_type": "execute_result"
    }
   ],
   "source": [
    "math.cos(math.radians(90)) * 400"
   ]
  },
  {
   "cell_type": "code",
   "execution_count": 72,
   "metadata": {},
   "outputs": [
    {
     "data": {
      "text/plain": [
       "18.39"
      ]
     },
     "execution_count": 72,
     "metadata": {},
     "output_type": "execute_result"
    }
   ],
   "source": [
    "3.54+3.54+11.31"
   ]
  },
  {
   "cell_type": "code",
   "execution_count": 73,
   "metadata": {},
   "outputs": [
    {
     "data": {
      "text/plain": [
       "12.739999999999998"
      ]
     },
     "execution_count": 73,
     "metadata": {},
     "output_type": "execute_result"
    }
   ],
   "source": [
    "8.54+4.2"
   ]
  },
  {
   "cell_type": "code",
   "execution_count": 74,
   "metadata": {},
   "outputs": [
    {
     "data": {
      "text/plain": [
       "5.650000000000002"
      ]
     },
     "execution_count": 74,
     "metadata": {},
     "output_type": "execute_result"
    }
   ],
   "source": [
    "18.39 - 12.739999999999998"
   ]
  },
  {
   "cell_type": "code",
   "execution_count": 94,
   "metadata": {},
   "outputs": [
    {
     "data": {
      "text/plain": [
       "23.322640687119282"
      ]
     },
     "execution_count": 94,
     "metadata": {},
     "output_type": "execute_result"
    }
   ],
   "source": [
    "7.77 + 11.31 + 4.242640687119285"
   ]
  },
  {
   "cell_type": "code",
   "execution_count": 93,
   "metadata": {},
   "outputs": [
    {
     "data": {
      "text/plain": [
       "15.552640687119286"
      ]
     },
     "execution_count": 93,
     "metadata": {},
     "output_type": "execute_result"
    }
   ],
   "source": [
    "11.31 + 4.242640687119285"
   ]
  },
  {
   "cell_type": "code",
   "execution_count": 83,
   "metadata": {},
   "outputs": [
    {
     "data": {
      "text/plain": [
       "2.8284271247461903"
      ]
     },
     "execution_count": 83,
     "metadata": {},
     "output_type": "execute_result"
    }
   ],
   "source": [
    "5.656854249492381/2"
   ]
  },
  {
   "cell_type": "code",
   "execution_count": 84,
   "metadata": {},
   "outputs": [
    {
     "data": {
      "text/plain": [
       "5.655"
      ]
     },
     "execution_count": 84,
     "metadata": {},
     "output_type": "execute_result"
    }
   ],
   "source": [
    "11.31/2"
   ]
  },
  {
   "cell_type": "code",
   "execution_count": 88,
   "metadata": {},
   "outputs": [
    {
     "data": {
      "text/plain": [
       "30.3925"
      ]
     },
     "execution_count": 88,
     "metadata": {},
     "output_type": "execute_result"
    }
   ],
   "source": [
    "21.91+(11.31 - 2.8275)"
   ]
  },
  {
   "cell_type": "code",
   "execution_count": 87,
   "metadata": {},
   "outputs": [
    {
     "data": {
      "text/plain": [
       "2.8275"
      ]
     },
     "execution_count": 87,
     "metadata": {},
     "output_type": "execute_result"
    }
   ],
   "source": [
    "5.655/2"
   ]
  },
  {
   "cell_type": "code",
   "execution_count": 90,
   "metadata": {},
   "outputs": [
    {
     "data": {
      "text/plain": [
       "24.737499999999997"
      ]
     },
     "execution_count": 90,
     "metadata": {},
     "output_type": "execute_result"
    }
   ],
   "source": [
    "33.22 - (11.31 - 2.8275)"
   ]
  },
  {
   "cell_type": "code",
   "execution_count": 92,
   "metadata": {},
   "outputs": [
    {
     "data": {
      "text/plain": [
       "4.24125"
      ]
     },
     "execution_count": 92,
     "metadata": {},
     "output_type": "execute_result"
    }
   ],
   "source": [
    "8.4825 / 2"
   ]
  },
  {
   "cell_type": "code",
   "execution_count": 95,
   "metadata": {},
   "outputs": [
    {
     "data": {
      "text/plain": [
       "12.723749999999999"
      ]
     },
     "execution_count": 95,
     "metadata": {},
     "output_type": "execute_result"
    }
   ],
   "source": [
    "8.4825 + 4.24125"
   ]
  },
  {
   "cell_type": "code",
   "execution_count": 99,
   "metadata": {},
   "outputs": [
    {
     "data": {
      "text/plain": [
       "2.1213203435596424"
      ]
     },
     "execution_count": 99,
     "metadata": {},
     "output_type": "execute_result"
    }
   ],
   "source": [
    "4.242640687119285 / 2"
   ]
  },
  {
   "cell_type": "code",
   "execution_count": 102,
   "metadata": {},
   "outputs": [
    {
     "data": {
      "text/plain": [
       "6.185"
      ]
     },
     "execution_count": 102,
     "metadata": {},
     "output_type": "execute_result"
    }
   ],
   "source": [
    "24.74/4"
   ]
  },
  {
   "cell_type": "code",
   "execution_count": 103,
   "metadata": {},
   "outputs": [
    {
     "data": {
      "text/plain": [
       "8.4825"
      ]
     },
     "execution_count": 103,
     "metadata": {},
     "output_type": "execute_result"
    }
   ],
   "source": [
    "(11.31 - 2.8275)"
   ]
  },
  {
   "cell_type": "code",
   "execution_count": 114,
   "metadata": {},
   "outputs": [
    {
     "data": {
      "text/plain": [
       "[Transform(\n",
       " \tposition: (x: 3.04, y: 0.0, z: -34.73),\n",
       " \trotation: (x: 0.0, y: 10.0, z: 0.0),\n",
       " ),\n",
       " Transform(\n",
       " \tposition: (x: 12.06, y: 0.0, z: -68.4),\n",
       " \trotation: (x: 0.0, y: 20.0, z: 0.0),\n",
       " ),\n",
       " Transform(\n",
       " \tposition: (x: 26.79, y: 0.0, z: -100.0),\n",
       " \trotation: (x: 0.0, y: 30.0, z: 0.0),\n",
       " ),\n",
       " Transform(\n",
       " \tposition: (x: 46.79, y: 0.0, z: -128.56),\n",
       " \trotation: (x: 0.0, y: 40.0, z: 0.0),\n",
       " )]"
      ]
     },
     "execution_count": 114,
     "metadata": {},
     "output_type": "execute_result"
    }
   ],
   "source": [
    "list(arb_curv_extrapolator(Transform(), 200, 5, 0, 0, deg_sep=10.0)())"
   ]
  },
  {
   "cell_type": "code",
   "execution_count": null,
   "metadata": {},
   "outputs": [],
   "source": [
    "t = Transform(\n",
    "    position=Vector3(\n",
    "        x=14900,\n",
    "        y=12800,\n",
    "        z=-12700,\n",
    "    ),\n",
    "    rotation=Vector3(\n",
    "        x=-45,\n",
    "        y=40,\n",
    "        z=-25,\n",
    "    ),\n",
    ")\n",
    "t2 = Transform(\n",
    "    position=Vector3(\n",
    "        x=15500,\n",
    "        y=12800,\n",
    "        z=-12000,\n",
    "    ),\n",
    "    rotation=Vector3(\n",
    "        x=45,\n",
    "        y=40,\n",
    "        z=-25,\n",
    "    ),\n",
    ")"
   ]
  }
 ],
 "metadata": {
  "kernelspec": {
   "display_name": "Python 3.10.5 64-bit (windows store)",
   "language": "python",
   "name": "python3"
  },
  "language_info": {
   "codemirror_mode": {
    "name": "ipython",
    "version": 3
   },
   "file_extension": ".py",
   "mimetype": "text/x-python",
   "name": "python",
   "nbconvert_exporter": "python",
   "pygments_lexer": "ipython3",
   "version": "3.10.6"
  },
  "orig_nbformat": 4,
  "vscode": {
   "interpreter": {
    "hash": "a0e22ae3c8aa5c2c5262c64072f6a25b93ef971aa6947536f3568c6b9664087c"
   }
  }
 },
 "nbformat": 4,
 "nbformat_minor": 2
}
