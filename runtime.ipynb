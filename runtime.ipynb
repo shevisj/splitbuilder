{
 "cells": [
  {
   "cell_type": "code",
   "execution_count": 8,
   "metadata": {},
   "outputs": [],
   "source": [
    "from time import sleep\n",
    "import pyautogui\n",
    "from os import path\n",
    "from random import uniform, seed\n",
    "import math"
   ]
  },
  {
   "cell_type": "code",
   "execution_count": 2,
   "metadata": {},
   "outputs": [],
   "source": [
    "seed()"
   ]
  },
  {
   "cell_type": "code",
   "execution_count": 53,
   "metadata": {},
   "outputs": [],
   "source": [
    "ANIM_SECONDS = 0.01\n",
    "CUR_DIR = \"C:\\\\Users\\\\Shevis\\\\src\\\\local\\\\splitbuilder\"\n",
    "BUILD_MODE = \"move_speed.png\"\n",
    "OBJECTS_MENU = \"objects_menu.png\"\n",
    "TOOLS_MENU = \"tools_menu.png\"\n",
    "MOVEMENT_MENU = \"movement_menu.png\"\n",
    "ROTATION_MENU = \"rotation_menu.png\"\n",
    "BLOCKS_MENU = \"blocks_menu.png\"\n",
    "RAMPS_MENU = \"blocks_ramps_menu.png\"\n",
    "GLASS_RAMP = \"glass_ramp.png\""
   ]
  },
  {
   "cell_type": "code",
   "execution_count": 28,
   "metadata": {},
   "outputs": [],
   "source": [
    "X_POS = (216, 935)\n",
    "Y_POS = (216, 1107)\n",
    "Z_POS = (216, 1280)"
   ]
  },
  {
   "cell_type": "markdown",
   "metadata": {},
   "source": [
    "# Start Game"
   ]
  },
  {
   "cell_type": "code",
   "execution_count": 46,
   "metadata": {},
   "outputs": [],
   "source": [
    "def find_icon(icon_name, no_print=False):\n",
    "    # Find the game icon\n",
    "    image_path = path.join(CUR_DIR, 'images', icon_name)\n",
    "    try:\n",
    "        game_icon = pyautogui.locateOnScreen(image_path, confidence=0.9)\n",
    "        if game_icon:\n",
    "            if not no_print:\n",
    "                print(f\"{icon_name} found: {game_icon}\")\n",
    "            return pyautogui.center(game_icon)\n",
    "        return None\n",
    "    except pyautogui.ImageNotFoundException:\n",
    "        if not no_print:\n",
    "            print(\"Unable to locate image file\")\n",
    "        return None\n",
    "\n",
    "def click_icon(icon_name, no_print=False):\n",
    "    game_icon = find_icon(icon_name=icon_name, no_print=no_print)\n",
    "    if game_icon:\n",
    "        # Start the game\n",
    "        pyautogui.moveTo(game_icon.x, game_icon.y, duration=ANIM_SECONDS)\n",
    "        pyautogui.click(game_icon)\n",
    "    elif not no_print:\n",
    "        print(\"Unable to locate game icon\", icon_name)\n",
    "\n",
    "def click_spot(x, y, dur=ANIM_SECONDS):\n",
    "    pyautogui.moveTo(x, y, duration=dur)\n",
    "    pyautogui.click(x=x, y=y)"
   ]
  },
  {
   "cell_type": "markdown",
   "metadata": {},
   "source": [
    "# Movement"
   ]
  },
  {
   "cell_type": "code",
   "execution_count": 10,
   "metadata": {},
   "outputs": [],
   "source": [
    "def walk_wasd(dur=2):\n",
    "    pyautogui.keyDown('w')\n",
    "    sleep(dur)\n",
    "    pyautogui.keyUp('w')"
   ]
  },
  {
   "cell_type": "markdown",
   "metadata": {},
   "source": [
    "# Building"
   ]
  },
  {
   "cell_type": "code",
   "execution_count": 97,
   "metadata": {},
   "outputs": [],
   "source": [
    "def is_active(img):\n",
    "    icon_path = path.join(CUR_DIR, 'images', img)\n",
    "    icon = pyautogui.locateOnScreen(icon_path, confidence=0.9)\n",
    "    return icon is not None\n",
    "\n",
    "def activate_build_mode():\n",
    "    if not is_active(BUILD_MODE):\n",
    "        pyautogui.press('`')\n",
    "\n",
    "def open_build_menu():\n",
    "    if not is_active(OBJECTS_MENU):\n",
    "        pyautogui.press('m')\n",
    "\n",
    "def enter_value(spot, val):\n",
    "    click_spot(spot[0], spot[1])\n",
    "    val_chars = list(str(val))\n",
    "    for ch in val_chars:\n",
    "        pyautogui.press(ch)\n",
    "    pyautogui.press('enter')\n",
    "\n",
    "def place_object(nav, loc, rot):\n",
    "    click_icon(OBJECTS_MENU)\n",
    "    for menu in nav:\n",
    "        click_icon(menu, no_print=True)\n",
    "    click_icon(TOOLS_MENU)\n",
    "    click_icon(MOVEMENT_MENU)\n",
    "    enter_value(X_POS, loc[0])\n",
    "    enter_value(Y_POS, loc[1])\n",
    "    enter_value(Z_POS, loc[2])\n",
    "    click_icon(ROTATION_MENU)\n",
    "    enter_value(X_POS, rot[0])\n",
    "    enter_value(Y_POS, rot[1])\n",
    "    enter_value(Z_POS, rot[2])\n",
    "    click_spot(1122, 1122)\n",
    "\n",
    "def straight_panal_extrapolator(start_loc, start_rot, n_panals):\n",
    "    pos_x = start_loc[0]\n",
    "    pos_y = start_loc[1]\n",
    "    pos_z = start_loc[2]\n",
    "    rot_x = start_rot[0]\n",
    "    rot_y = start_rot[1]\n",
    "    rot_z = start_rot[2]\n",
    "    panal_width = 400\n",
    "    sign = math.copysign(1, n_panals)\n",
    "    panal_mag = abs(n_panals)\n",
    "    def extrapolate():\n",
    "        nonlocal pos_x, pos_z\n",
    "        for _ in range(panal_mag - 1):\n",
    "            pos_x = pos_x + round(math.sin(-1.0 * math.radians(rot_y)) * panal_width * sign)\n",
    "            pos_z = pos_z + round(math.cos(-1.0 * math.radians(rot_y)) * panal_width * sign)\n",
    "            yield (pos_x, pos_y, pos_z), (rot_x, rot_y, rot_z)\n",
    "    return extrapolate\n",
    "\n",
    "def place_surf_straight(start_loc, start_rot, n_panals):\n",
    "    place_object(\n",
    "        [OBJECTS_MENU, BLOCKS_MENU, RAMPS_MENU, GLASS_RAMP],\n",
    "        start_loc,\n",
    "        start_rot\n",
    "    )\n",
    "    spe = straight_panal_extrapolator(start_loc=start_loc, start_rot=start_rot, n_panals=n_panals)\n",
    "    for loc, rot in spe():\n",
    "        place_object(\n",
    "            [GLASS_RAMP],\n",
    "            loc,\n",
    "            rot\n",
    "        )\n",
    "    "
   ]
  },
  {
   "cell_type": "markdown",
   "metadata": {},
   "source": [
    "# Runner"
   ]
  },
  {
   "cell_type": "code",
   "execution_count": 99,
   "metadata": {},
   "outputs": [
    {
     "name": "stdout",
     "output_type": "stream",
     "text": [
      "game_icon.png found: Box(left=1582, top=2115, width=30, height=20)\n",
      "objects_menu.png found: Box(left=119, top=372, width=144, height=24)\n",
      "tools_menu.png found: Box(left=557, top=372, width=104, height=24)\n",
      "movement_menu.png found: Box(left=401, top=573, width=142, height=20)\n",
      "rotation_menu.png found: Box(left=628, top=573, width=125, height=20)\n",
      "objects_menu.png found: Box(left=315, top=372, width=144, height=24)\n",
      "tools_menu.png found: Box(left=557, top=372, width=104, height=24)\n",
      "movement_menu.png found: Box(left=401, top=573, width=142, height=20)\n",
      "rotation_menu.png found: Box(left=628, top=573, width=125, height=20)\n",
      "objects_menu.png found: Box(left=315, top=372, width=144, height=24)\n",
      "tools_menu.png found: Box(left=557, top=372, width=104, height=24)\n",
      "movement_menu.png found: Box(left=401, top=573, width=142, height=20)\n",
      "rotation_menu.png found: Box(left=628, top=573, width=125, height=20)\n",
      "objects_menu.png found: Box(left=315, top=372, width=144, height=24)\n",
      "tools_menu.png found: Box(left=557, top=372, width=104, height=24)\n",
      "movement_menu.png found: Box(left=401, top=573, width=142, height=20)\n",
      "rotation_menu.png found: Box(left=628, top=573, width=125, height=20)\n",
      "objects_menu.png found: Box(left=315, top=372, width=144, height=24)\n",
      "tools_menu.png found: Box(left=557, top=372, width=104, height=24)\n",
      "movement_menu.png found: Box(left=401, top=573, width=142, height=20)\n",
      "rotation_menu.png found: Box(left=628, top=573, width=125, height=20)\n"
     ]
    }
   ],
   "source": [
    "click_icon('game_icon.png')\n",
    "activate_build_mode()\n",
    "open_build_menu()\n",
    "place_surf_straight(\n",
    "    (-1546, 10890, 1235),\n",
    "    (0, -14, -31),\n",
    "    5\n",
    ")"
   ]
  },
  {
   "cell_type": "code",
   "execution_count": 12,
   "metadata": {},
   "outputs": [],
   "source": []
  },
  {
   "cell_type": "code",
   "execution_count": 26,
   "metadata": {},
   "outputs": [],
   "source": [
    "image = pyautogui.screenshot()\n",
    "image.save('testing.png')"
   ]
  },
  {
   "cell_type": "code",
   "execution_count": 94,
   "metadata": {},
   "outputs": [],
   "source": [
    "ep = straight_panal_extrapolator((0, 0, 0), (0, 0, 0), 4)"
   ]
  },
  {
   "cell_type": "code",
   "execution_count": 95,
   "metadata": {},
   "outputs": [
    {
     "name": "stdout",
     "output_type": "stream",
     "text": [
      "(400, 0, 0) (0, 0, 0)\n",
      "(800, 0, 0) (0, 0, 0)\n",
      "(1200, 0, 0) (0, 0, 0)\n"
     ]
    }
   ],
   "source": [
    "for p, r in ep():\n",
    "    print(p, r)"
   ]
  },
  {
   "cell_type": "code",
   "execution_count": null,
   "metadata": {},
   "outputs": [],
   "source": []
  }
 ],
 "metadata": {
  "kernelspec": {
   "display_name": "Python 3.10.5 64-bit (windows store)",
   "language": "python",
   "name": "python3"
  },
  "language_info": {
   "codemirror_mode": {
    "name": "ipython",
    "version": 3
   },
   "file_extension": ".py",
   "mimetype": "text/x-python",
   "name": "python",
   "nbconvert_exporter": "python",
   "pygments_lexer": "ipython3",
   "version": "3.10.5"
  },
  "orig_nbformat": 4,
  "vscode": {
   "interpreter": {
    "hash": "a0e22ae3c8aa5c2c5262c64072f6a25b93ef971aa6947536f3568c6b9664087c"
   }
  }
 },
 "nbformat": 4,
 "nbformat_minor": 2
}
