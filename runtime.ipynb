{
 "cells": [
  {
   "cell_type": "code",
   "execution_count": 1,
   "metadata": {},
   "outputs": [],
   "source": [
    "from time import sleep\n",
    "import pyautogui\n",
    "from os import path\n",
    "from random import uniform, seed\n",
    "import math"
   ]
  },
  {
   "cell_type": "code",
   "execution_count": 2,
   "metadata": {},
   "outputs": [],
   "source": [
    "seed()"
   ]
  },
  {
   "cell_type": "code",
   "execution_count": 25,
   "metadata": {},
   "outputs": [],
   "source": [
    "ANIM_SECONDS = 0.01\n",
    "CUR_DIR = \"C:\\\\Users\\\\Shevis\\\\src\\\\github.com\\\\shevisj\\\\splitbuilder\"\n",
    "BUILD_MODE = \"move_speed.png\"\n",
    "OBJECTS_MENU = \"objects_menu.png\"\n",
    "TOOLS_MENU = \"tools_menu.png\"\n",
    "MOVEMENT_MENU = \"movement_menu.png\"\n",
    "ROTATION_MENU = \"rotation_menu.png\"\n",
    "BLOCKS_MENU = \"blocks_menu.png\"\n",
    "RAMPS_MENU = \"blocks_ramps_menu.png\"\n",
    "GLASS_RAMP = \"glass_ramp.png\""
   ]
  },
  {
   "cell_type": "code",
   "execution_count": 4,
   "metadata": {},
   "outputs": [],
   "source": [
    "X_POS = (216, 935)\n",
    "Y_POS = (216, 1107)\n",
    "Z_POS = (216, 1280)"
   ]
  },
  {
   "cell_type": "markdown",
   "metadata": {},
   "source": [
    "# Start Game"
   ]
  },
  {
   "cell_type": "code",
   "execution_count": 5,
   "metadata": {},
   "outputs": [],
   "source": [
    "def find_icon(icon_name, no_print=False):\n",
    "    # Find the game icon\n",
    "    image_path = path.join(CUR_DIR, 'images', icon_name)\n",
    "    try:\n",
    "        game_icon = pyautogui.locateOnScreen(image_path, confidence=0.9)\n",
    "        if game_icon:\n",
    "            if not no_print:\n",
    "                print(f\"{icon_name} found: {game_icon}\")\n",
    "            return pyautogui.center(game_icon)\n",
    "        return None\n",
    "    except pyautogui.ImageNotFoundException:\n",
    "        if not no_print:\n",
    "            print(\"Unable to locate image file\")\n",
    "        return None\n",
    "\n",
    "def click_icon(icon_name, no_print=False):\n",
    "    game_icon = find_icon(icon_name=icon_name, no_print=no_print)\n",
    "    if game_icon:\n",
    "        # Start the game\n",
    "        pyautogui.moveTo(game_icon.x, game_icon.y, duration=ANIM_SECONDS)\n",
    "        pyautogui.click(game_icon)\n",
    "    elif not no_print:\n",
    "        print(\"Unable to locate game icon\", icon_name)\n",
    "\n",
    "def click_spot(x, y, dur=ANIM_SECONDS):\n",
    "    pyautogui.moveTo(x, y, duration=dur)\n",
    "    pyautogui.click(x=x, y=y)"
   ]
  },
  {
   "cell_type": "markdown",
   "metadata": {},
   "source": [
    "# Movement"
   ]
  },
  {
   "cell_type": "code",
   "execution_count": 10,
   "metadata": {},
   "outputs": [],
   "source": [
    "def walk_wasd(dur=2):\n",
    "    pyautogui.keyDown('w')\n",
    "    sleep(dur)\n",
    "    pyautogui.keyUp('w')"
   ]
  },
  {
   "cell_type": "markdown",
   "metadata": {},
   "source": [
    "# Building"
   ]
  },
  {
   "cell_type": "code",
   "execution_count": 91,
   "metadata": {},
   "outputs": [],
   "source": [
    "def is_active(img):\n",
    "    icon_path = path.join(CUR_DIR, 'images', img)\n",
    "    icon = pyautogui.locateOnScreen(icon_path, confidence=0.9)\n",
    "    return icon is not None\n",
    "\n",
    "def activate_build_mode():\n",
    "    if not is_active(BUILD_MODE):\n",
    "        pyautogui.press('`')\n",
    "\n",
    "def open_build_menu():\n",
    "    if not is_active(OBJECTS_MENU):\n",
    "        pyautogui.press('m')\n",
    "\n",
    "def enter_value(spot, val):\n",
    "    click_spot(spot[0], spot[1])\n",
    "    val_chars = list(str(val))\n",
    "    for ch in val_chars:\n",
    "        pyautogui.press(ch)\n",
    "    pyautogui.press('enter')\n",
    "\n",
    "def place_object(nav, loc, rot):\n",
    "    click_icon(OBJECTS_MENU)\n",
    "    for menu in nav:\n",
    "        click_icon(menu, no_print=True)\n",
    "    click_icon(TOOLS_MENU)\n",
    "    click_icon(MOVEMENT_MENU)\n",
    "    enter_value(X_POS, loc[0])\n",
    "    enter_value(Y_POS, loc[1])\n",
    "    enter_value(Z_POS, loc[2])\n",
    "    click_icon(ROTATION_MENU)\n",
    "    enter_value(X_POS, rot[0])\n",
    "    enter_value(Y_POS, rot[1])\n",
    "    enter_value(Z_POS, rot[2])\n",
    "    click_spot(1122, 1122)\n",
    "\n",
    "def straight_panal_extrapolator(start_loc, start_rot, n_panals):\n",
    "    pos_x = start_loc[0]\n",
    "    pos_y = start_loc[1]\n",
    "    pos_z = start_loc[2]\n",
    "    rot_x = start_rot[0]\n",
    "    rot_y = start_rot[1]\n",
    "    rot_z = start_rot[2]\n",
    "    panal_width = 400\n",
    "    sign = math.copysign(1, n_panals)\n",
    "    panal_mag = abs(n_panals)\n",
    "    def extrapolate():\n",
    "        nonlocal pos_x, pos_z\n",
    "        for _ in range(panal_mag - 1):\n",
    "            pos_x = pos_x + round(math.sin(-1.0 * math.radians(rot_y)) * panal_width * sign)\n",
    "            pos_z = pos_z + round(math.cos(-1.0 * math.radians(rot_y)) * panal_width * sign)\n",
    "            yield (pos_x, pos_y, pos_z), (rot_x, rot_y, rot_z)\n",
    "    return extrapolate\n",
    "\n",
    "def place_surf_straight(start_loc, start_rot, n_panals):\n",
    "    place_object(\n",
    "        [OBJECTS_MENU, BLOCKS_MENU, RAMPS_MENU, GLASS_RAMP],\n",
    "        start_loc,\n",
    "        start_rot\n",
    "    )\n",
    "    spe = straight_panal_extrapolator(start_loc=start_loc, start_rot=start_rot, n_panals=n_panals)\n",
    "    for loc, rot in spe():\n",
    "        place_object(\n",
    "            [GLASS_RAMP],\n",
    "            loc,\n",
    "            rot\n",
    "        )\n",
    "\n",
    "def calc_sep_deg(radius):\n",
    "    return math.degrees(math.atan(400.0 / (float(radius) + (800 * math.cos(math.radians(45))))))\n",
    "\n",
    "# Radii is a list of 2-tuples with radius, count pairs\n",
    "def flex_curv_extrapolator(start_loc, start_rot, radii, sign=1):\n",
    "    pos_x = start_loc[0]\n",
    "    pos_y = start_loc[1]\n",
    "    pos_z = start_loc[2]\n",
    "    rot_x = start_rot[0]\n",
    "    rot_y = start_rot[1]\n",
    "    rot_z = start_rot[2]\n",
    "    n_panals = sum([r[1] for r in radii])\n",
    "    def extrapolate():\n",
    "        cur_pos_x = pos_x\n",
    "        cur_pos_z = pos_z\n",
    "        cur_rot_y = rot_y\n",
    "        for cur_radius in radii:\n",
    "            cur_center_x = cur_pos_x + round(math.sin(-1.0 * math.radians(cur_rot_y + 90)) * cur_radius[0] * -1.0)\n",
    "            cur_center_z = cur_pos_z + round(math.cos(-1.0 * math.radians(cur_rot_y + 90)) * cur_radius[0] * -1.0)\n",
    "            deg_offset = calc_sep_deg(cur_radius[0]) * sign\n",
    "            for _ in range(cur_radius[1]):\n",
    "                cur_rot_y = mod_rot(round(cur_rot_y + deg_offset))\n",
    "                cur_pos_x = cur_center_x + round(math.sin(-1.0 * math.radians(cur_rot_y + 90)) * cur_radius[0])\n",
    "                cur_pos_z = cur_center_z + round(math.cos(-1.0 * math.radians(cur_rot_y + 90)) * cur_radius[0])\n",
    "                yield (cur_pos_x, pos_y, cur_pos_z), (rot_x, cur_rot_y, rot_z)\n",
    "    return extrapolate\n",
    "\n",
    "def place_flex_curv(start_loc, start_rot, radii, sign=1, ignore_first=False):\n",
    "    if not ignore_first:\n",
    "        place_object(\n",
    "            [OBJECTS_MENU, BLOCKS_MENU, RAMPS_MENU, GLASS_RAMP],\n",
    "            start_loc,\n",
    "            start_rot\n",
    "        )\n",
    "    fce = flex_curv_extrapolator(start_loc, start_rot, radii, sign)\n",
    "    first = True\n",
    "    for loc, rot in fce():\n",
    "        print(loc, rot)\n",
    "        place_object(\n",
    "            [OBJECTS_MENU, BLOCKS_MENU, RAMPS_MENU, GLASS_RAMP] if ignore_first and first else [GLASS_RAMP],\n",
    "            loc,\n",
    "            rot\n",
    "        )\n",
    "        first = False\n",
    "\n",
    "def mod_rot(rot):\n",
    "    currot = rot\n",
    "    while currot < -180:\n",
    "        currot += 360\n",
    "    return ((rot + 180) % 360) - 180\n",
    "        \n",
    "\n",
    "def curv_extrapolator(start_loc, start_rot, radius, n_panals=5, h_delta=0, r_delta=0):\n",
    "    pos_x = start_loc[0]\n",
    "    pos_y = start_loc[1]\n",
    "    pos_z = start_loc[2]\n",
    "    rot_x = start_rot[0]\n",
    "    rot_y = start_rot[1]\n",
    "    rot_z = start_rot[2]\n",
    "    abs_radius = abs(radius)\n",
    "    sign = math.copysign(1, n_panals)\n",
    "    abs_n_panals = abs(n_panals)\n",
    "    center_x = pos_x + round(math.sin(-1.0 * math.radians(rot_y + 90)) * abs_radius * -1.0)\n",
    "    center_z = pos_z + round(math.cos(-1.0 * math.radians(rot_y + 90)) * abs_radius * -1.0)\n",
    "    def extrapolate():\n",
    "        deg_offset = 0\n",
    "        cur_pos_y = pos_y\n",
    "        cur_abs_radius = abs_radius\n",
    "        for _ in range(abs_n_panals - 1):\n",
    "            \n",
    "            cur_pos_y += h_delta\n",
    "            cur_abs_radius += r_delta\n",
    "\n",
    "            deg_offset += calc_sep_deg(cur_abs_radius) * sign\n",
    "            new_x = center_x + round(math.sin(-1.0 * math.radians(rot_y + 90 + deg_offset)) * cur_abs_radius)\n",
    "            new_z = center_z + round(math.cos(-1.0 * math.radians(rot_y + 90 + deg_offset)) * cur_abs_radius)\n",
    "            yield (new_x, cur_pos_y, new_z), (rot_x, mod_rot(round(rot_y + deg_offset)), rot_z)\n",
    "    return extrapolate\n",
    "\n",
    "def place_curv(start_loc, start_rot, radius, n_panals=5, h_delta=0, r_delta=0, ignore_first=False):\n",
    "    if not ignore_first:\n",
    "        place_object(\n",
    "            [OBJECTS_MENU, BLOCKS_MENU, RAMPS_MENU, GLASS_RAMP],\n",
    "            start_loc,\n",
    "            start_rot\n",
    "        )\n",
    "    ce = curv_extrapolator(start_loc, start_rot, radius, n_panals, h_delta, r_delta)\n",
    "    first = True\n",
    "    for loc, rot in ce():\n",
    "        print(loc, rot)\n",
    "        place_object(\n",
    "            [OBJECTS_MENU, BLOCKS_MENU, RAMPS_MENU, GLASS_RAMP] if ignore_first and first else [GLASS_RAMP],\n",
    "            loc,\n",
    "            rot\n",
    "        )\n",
    "        first = False\n",
    "    "
   ]
  },
  {
   "cell_type": "markdown",
   "metadata": {},
   "source": [
    "# Runner"
   ]
  },
  {
   "cell_type": "code",
   "execution_count": 93,
   "metadata": {},
   "outputs": [
    {
     "name": "stdout",
     "output_type": "stream",
     "text": [
      "game_icon.png found: Box(left=1321, top=2115, width=30, height=20)\n",
      "objects_menu.png found: Box(left=121, top=372, width=144, height=24)\n",
      "tools_menu.png found: Box(left=557, top=372, width=104, height=24)\n",
      "movement_menu.png found: Box(left=401, top=573, width=142, height=20)\n",
      "rotation_menu.png found: Box(left=628, top=573, width=125, height=20)\n",
      "(2430, 11890, -14463) (0, -42, -31)\n",
      "objects_menu.png found: Box(left=315, top=372, width=144, height=24)\n",
      "tools_menu.png found: Box(left=557, top=372, width=104, height=24)\n",
      "movement_menu.png found: Box(left=401, top=573, width=142, height=20)\n",
      "rotation_menu.png found: Box(left=628, top=573, width=125, height=20)\n",
      "(2206, 11890, -14731) (0, -38, -31)\n",
      "objects_menu.png found: Box(left=315, top=372, width=144, height=24)\n",
      "tools_menu.png found: Box(left=557, top=372, width=104, height=24)\n",
      "movement_menu.png found: Box(left=401, top=573, width=142, height=20)\n",
      "rotation_menu.png found: Box(left=628, top=573, width=125, height=20)\n",
      "(2001, 11890, -15013) (0, -34, -31)\n",
      "objects_menu.png found: Box(left=315, top=372, width=144, height=24)\n",
      "tools_menu.png found: Box(left=557, top=372, width=104, height=24)\n",
      "movement_menu.png found: Box(left=401, top=573, width=142, height=20)\n",
      "rotation_menu.png found: Box(left=628, top=573, width=125, height=20)\n",
      "(1819, 11890, -15311) (0, -29, -31)\n",
      "objects_menu.png found: Box(left=315, top=372, width=144, height=24)\n",
      "tools_menu.png found: Box(left=557, top=372, width=104, height=24)\n",
      "movement_menu.png found: Box(left=401, top=573, width=142, height=20)\n",
      "rotation_menu.png found: Box(left=628, top=573, width=125, height=20)\n",
      "(1663, 11890, -15623) (0, -24, -31)\n",
      "objects_menu.png found: Box(left=315, top=372, width=144, height=24)\n",
      "tools_menu.png found: Box(left=557, top=372, width=104, height=24)\n",
      "movement_menu.png found: Box(left=401, top=573, width=142, height=20)\n",
      "rotation_menu.png found: Box(left=628, top=573, width=125, height=20)\n",
      "(1535, 11890, -15948) (0, -19, -31)\n",
      "objects_menu.png found: Box(left=315, top=372, width=144, height=24)\n",
      "tools_menu.png found: Box(left=557, top=372, width=104, height=24)\n",
      "movement_menu.png found: Box(left=401, top=573, width=142, height=20)\n",
      "rotation_menu.png found: Box(left=628, top=573, width=125, height=20)\n",
      "(1449, 11890, -16250) (0, -13, -31)\n",
      "objects_menu.png found: Box(left=315, top=372, width=144, height=24)\n",
      "tools_menu.png found: Box(left=557, top=372, width=104, height=24)\n",
      "movement_menu.png found: Box(left=401, top=573, width=142, height=20)\n",
      "rotation_menu.png found: Box(left=628, top=573, width=125, height=20)\n",
      "(1394, 11890, -16559) (0, -7, -31)\n",
      "objects_menu.png found: Box(left=315, top=372, width=144, height=24)\n",
      "tools_menu.png found: Box(left=557, top=372, width=104, height=24)\n",
      "movement_menu.png found: Box(left=401, top=573, width=142, height=20)\n",
      "rotation_menu.png found: Box(left=628, top=573, width=125, height=20)\n",
      "(1372, 11890, -16873) (0, -1, -31)\n",
      "objects_menu.png found: Box(left=315, top=372, width=144, height=24)\n",
      "tools_menu.png found: Box(left=557, top=372, width=104, height=24)\n",
      "movement_menu.png found: Box(left=401, top=573, width=142, height=20)\n",
      "rotation_menu.png found: Box(left=628, top=573, width=125, height=20)\n",
      "(1383, 11890, -17186) (0, 5, -31)\n",
      "objects_menu.png found: Box(left=315, top=372, width=144, height=24)\n",
      "tools_menu.png found: Box(left=557, top=372, width=104, height=24)\n",
      "movement_menu.png found: Box(left=401, top=573, width=142, height=20)\n",
      "rotation_menu.png found: Box(left=628, top=573, width=125, height=20)\n",
      "(1434, 11890, -17496) (0, 14, -31)\n",
      "objects_menu.png found: Box(left=315, top=372, width=144, height=24)\n",
      "tools_menu.png found: Box(left=557, top=372, width=104, height=24)\n",
      "movement_menu.png found: Box(left=401, top=573, width=142, height=20)\n",
      "rotation_menu.png found: Box(left=628, top=573, width=125, height=20)\n",
      "(1534, 11890, -17793) (0, 23, -31)\n",
      "objects_menu.png found: Box(left=315, top=372, width=144, height=24)\n",
      "tools_menu.png found: Box(left=557, top=372, width=104, height=24)\n",
      "movement_menu.png found: Box(left=401, top=573, width=142, height=20)\n",
      "rotation_menu.png found: Box(left=628, top=573, width=125, height=20)\n",
      "(1679, 11890, -18072) (0, 32, -31)\n",
      "objects_menu.png found: Box(left=315, top=372, width=144, height=24)\n",
      "tools_menu.png found: Box(left=557, top=372, width=104, height=24)\n",
      "movement_menu.png found: Box(left=401, top=573, width=142, height=20)\n",
      "rotation_menu.png found: Box(left=628, top=573, width=125, height=20)\n",
      "(1866, 11890, -18324) (0, 41, -31)\n",
      "objects_menu.png found: Box(left=315, top=372, width=144, height=24)\n",
      "tools_menu.png found: Box(left=557, top=372, width=104, height=24)\n",
      "movement_menu.png found: Box(left=401, top=573, width=142, height=20)\n",
      "rotation_menu.png found: Box(left=628, top=573, width=125, height=20)\n",
      "(2089, 11890, -18544) (0, 50, -31)\n",
      "objects_menu.png found: Box(left=315, top=372, width=144, height=24)\n",
      "tools_menu.png found: Box(left=557, top=372, width=104, height=24)\n",
      "movement_menu.png found: Box(left=401, top=573, width=142, height=20)\n",
      "rotation_menu.png found: Box(left=628, top=573, width=125, height=20)\n",
      "(2339, 11890, -18733) (0, 56, -31)\n",
      "objects_menu.png found: Box(left=315, top=372, width=144, height=24)\n",
      "tools_menu.png found: Box(left=557, top=372, width=104, height=24)\n",
      "movement_menu.png found: Box(left=401, top=573, width=142, height=20)\n",
      "rotation_menu.png found: Box(left=628, top=573, width=125, height=20)\n",
      "(2609, 11890, -18895) (0, 62, -31)\n",
      "objects_menu.png found: Box(left=315, top=372, width=144, height=24)\n",
      "tools_menu.png found: Box(left=557, top=372, width=104, height=24)\n",
      "movement_menu.png found: Box(left=401, top=573, width=142, height=20)\n",
      "rotation_menu.png found: Box(left=628, top=573, width=125, height=20)\n",
      "(2893, 11890, -19028) (0, 68, -31)\n",
      "objects_menu.png found: Box(left=315, top=372, width=144, height=24)\n",
      "tools_menu.png found: Box(left=557, top=372, width=104, height=24)\n",
      "movement_menu.png found: Box(left=401, top=573, width=142, height=20)\n",
      "rotation_menu.png found: Box(left=628, top=573, width=125, height=20)\n",
      "(3190, 11890, -19130) (0, 74, -31)\n",
      "objects_menu.png found: Box(left=315, top=372, width=144, height=24)\n",
      "tools_menu.png found: Box(left=557, top=372, width=104, height=24)\n",
      "movement_menu.png found: Box(left=401, top=573, width=142, height=20)\n",
      "rotation_menu.png found: Box(left=628, top=573, width=125, height=20)\n",
      "(3530, 11890, -19212) (0, 79, -31)\n",
      "objects_menu.png found: Box(left=315, top=372, width=144, height=24)\n",
      "tools_menu.png found: Box(left=557, top=372, width=104, height=24)\n",
      "movement_menu.png found: Box(left=401, top=573, width=142, height=20)\n",
      "rotation_menu.png found: Box(left=628, top=573, width=125, height=20)\n",
      "(3875, 11890, -19263) (0, 84, -31)\n",
      "objects_menu.png found: Box(left=315, top=372, width=144, height=24)\n",
      "tools_menu.png found: Box(left=557, top=372, width=104, height=24)\n",
      "movement_menu.png found: Box(left=401, top=573, width=142, height=20)\n",
      "rotation_menu.png found: Box(left=628, top=573, width=125, height=20)\n",
      "(4223, 11890, -19284) (0, 89, -31)\n",
      "objects_menu.png found: Box(left=315, top=372, width=144, height=24)\n",
      "tools_menu.png found: Box(left=557, top=372, width=104, height=24)\n",
      "movement_menu.png found: Box(left=401, top=573, width=142, height=20)\n",
      "rotation_menu.png found: Box(left=628, top=573, width=125, height=20)\n",
      "(4572, 11890, -19278) (0, 93, -31)\n",
      "objects_menu.png found: Box(left=315, top=372, width=144, height=24)\n",
      "tools_menu.png found: Box(left=557, top=372, width=104, height=24)\n",
      "movement_menu.png found: Box(left=401, top=573, width=142, height=20)\n",
      "rotation_menu.png found: Box(left=628, top=573, width=125, height=20)\n",
      "(4919, 11890, -19248) (0, 97, -31)\n",
      "objects_menu.png found: Box(left=315, top=372, width=144, height=24)\n",
      "tools_menu.png found: Box(left=557, top=372, width=104, height=24)\n",
      "movement_menu.png found: Box(left=401, top=573, width=142, height=20)\n",
      "rotation_menu.png found: Box(left=628, top=573, width=125, height=20)\n",
      "(5230, 11890, -19202) (0, 100, -31)\n",
      "objects_menu.png found: Box(left=315, top=372, width=144, height=24)\n",
      "tools_menu.png found: Box(left=557, top=372, width=104, height=24)\n",
      "movement_menu.png found: Box(left=401, top=573, width=142, height=20)\n",
      "rotation_menu.png found: Box(left=628, top=573, width=125, height=20)\n"
     ]
    }
   ],
   "source": [
    "try:\n",
    "    click_icon('game_icon.png')\n",
    "    activate_build_mode()\n",
    "    open_build_menu()\n",
    "    place_flex_curv(\n",
    "        (2646, 11890, -14235),\n",
    "        (0, -45, -31),\n",
    "        [\n",
    "            (6000, 1),\n",
    "            (5000, 2),\n",
    "            (4000, 3),\n",
    "            (3000, 4),\n",
    "            (2000, 5),\n",
    "            (3000, 4),\n",
    "            (4000, 3),\n",
    "            (5000, 2),\n",
    "            (6000, 1),\n",
    "        ]\n",
    "    )\n",
    "    #place_curv(\n",
    "    #    (2646, 18890, -14235),\n",
    "    #    (0, 100, -31),\n",
    "    #    1500,\n",
    "    #    28,\n",
    "    #    -50,\n",
    "    #    -50\n",
    "    #)\n",
    "except KeyboardInterrupt as e:\n",
    "    print(\"Exiting\")"
   ]
  },
  {
   "cell_type": "code",
   "execution_count": null,
   "metadata": {},
   "outputs": [],
   "source": []
  },
  {
   "cell_type": "code",
   "execution_count": null,
   "metadata": {},
   "outputs": [],
   "source": [
    "image = pyautogui.screenshot()\n",
    "image.save('testing.png')"
   ]
  },
  {
   "cell_type": "code",
   "execution_count": null,
   "metadata": {},
   "outputs": [],
   "source": [
    "ep = straight_panal_extrapolator((0, 0, 0), (0, 0, 0), 4)"
   ]
  },
  {
   "cell_type": "code",
   "execution_count": null,
   "metadata": {},
   "outputs": [
    {
     "name": "stdout",
     "output_type": "stream",
     "text": [
      "(400, 0, 0) (0, 0, 0)\n",
      "(800, 0, 0) (0, 0, 0)\n",
      "(1200, 0, 0) (0, 0, 0)\n"
     ]
    }
   ],
   "source": [
    "for p, r in ep():\n",
    "    print(p, r)"
   ]
  },
  {
   "cell_type": "code",
   "execution_count": null,
   "metadata": {},
   "outputs": [
    {
     "name": "stdout",
     "output_type": "stream",
     "text": [
      "0 5000 -1000\n"
     ]
    }
   ],
   "source": [
    "curv_extrapolator((0, 5000, 0), (0, -90, -31), 1000, 5)"
   ]
  },
  {
   "cell_type": "code",
   "execution_count": null,
   "metadata": {},
   "outputs": [],
   "source": [
    "ce = curv_extrapolator((-1546, 12890, 1235), (0, 0, -31), 1000, 5)"
   ]
  },
  {
   "cell_type": "code",
   "execution_count": null,
   "metadata": {},
   "outputs": [
    {
     "name": "stdout",
     "output_type": "stream",
     "text": [
      "(-1546, 12890, 1235) (0, 0, -31)\n",
      "(-1542, 12890, 1148) (0, 5.0, -31)\n",
      "(-1531, 12890, 1061) (0, 10.0, -31)\n",
      "(-1512, 12890, 976) (0, 15.0, -31)\n",
      "(-1486, 12890, 893) (0, 20.0, -31)\n"
     ]
    }
   ],
   "source": [
    "print((-1546, 12890, 1235), (0, 0, -31))\n",
    "for loc, rot in ce():\n",
    "    print(loc, rot)"
   ]
  },
  {
   "cell_type": "code",
   "execution_count": null,
   "metadata": {},
   "outputs": [
    {
     "data": {
      "text/plain": [
       "11.309932474020215"
      ]
     },
     "execution_count": 49,
     "metadata": {},
     "output_type": "execute_result"
    }
   ],
   "source": [
    "math.degrees(math.atan(400.0 / float(2000)))"
   ]
  },
  {
   "cell_type": "code",
   "execution_count": null,
   "metadata": {},
   "outputs": [
    {
     "data": {
      "text/plain": [
       "685.7338405616898"
      ]
     },
     "execution_count": 55,
     "metadata": {},
     "output_type": "execute_result"
    }
   ],
   "source": [
    "800 * math.cos(math.radians(31))"
   ]
  },
  {
   "cell_type": "code",
   "execution_count": null,
   "metadata": {},
   "outputs": [
    {
     "data": {
      "text/plain": [
       "0.8571673007021123"
      ]
     },
     "execution_count": 54,
     "metadata": {},
     "output_type": "execute_result"
    }
   ],
   "source": [
    "math.cos(math.radians(31))"
   ]
  },
  {
   "cell_type": "code",
   "execution_count": 74,
   "metadata": {},
   "outputs": [
    {
     "data": {
      "text/plain": [
       "-66"
      ]
     },
     "execution_count": 74,
     "metadata": {},
     "output_type": "execute_result"
    }
   ],
   "source": [
    "mod_rot(-66666)"
   ]
  },
  {
   "cell_type": "code",
   "execution_count": 85,
   "metadata": {},
   "outputs": [],
   "source": [
    "fce = flex_curv_extrapolator((-1546, 12890, 1235), (0, 0, -31), [(1000, 2), (500, 3), (1000, 2)])"
   ]
  },
  {
   "cell_type": "code",
   "execution_count": 87,
   "metadata": {},
   "outputs": [
    {
     "name": "stdout",
     "output_type": "stream",
     "text": [
      "(-1546, 12890, 1235) (0, 0, -31)\n",
      "(-1516, 12890, 993) (0, 14, -31)\n",
      "(-1277, 12890, 553) (0, 43, -31)\n",
      "(-1130, 12890, 445) (0, 64, -31)\n",
      "(-782, 12890, 411) (0, 105, -31)\n",
      "(-424, 12890, 782) (0, 167, -31)\n",
      "(-398, 12890, 1024) (0, -179, -31)\n",
      "(-532, 12890, 1507) (0, -150, -31)\n"
     ]
    }
   ],
   "source": [
    "print((-1546, 12890, 1235), (0, 0, -31))\n",
    "for loc, rot in fce():\n",
    "    print(loc, rot)"
   ]
  },
  {
   "cell_type": "code",
   "execution_count": null,
   "metadata": {},
   "outputs": [],
   "source": []
  }
 ],
 "metadata": {
  "kernelspec": {
   "display_name": "Python 3.10.5 64-bit (windows store)",
   "language": "python",
   "name": "python3"
  },
  "language_info": {
   "codemirror_mode": {
    "name": "ipython",
    "version": 3
   },
   "file_extension": ".py",
   "mimetype": "text/x-python",
   "name": "python",
   "nbconvert_exporter": "python",
   "pygments_lexer": "ipython3",
   "version": "3.10.5"
  },
  "orig_nbformat": 4,
  "vscode": {
   "interpreter": {
    "hash": "a0e22ae3c8aa5c2c5262c64072f6a25b93ef971aa6947536f3568c6b9664087c"
   }
  }
 },
 "nbformat": 4,
 "nbformat_minor": 2
}
