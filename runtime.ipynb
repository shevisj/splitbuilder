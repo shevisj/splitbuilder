{
 "cells": [
  {
   "cell_type": "code",
   "execution_count": 15,
   "metadata": {},
   "outputs": [],
   "source": [
    "from time import sleep\n",
    "import pyautogui\n",
    "from os import path\n",
    "from random import uniform, seed\n",
    "import math\n",
    "import pprint\n",
    "from copy import deepcopy"
   ]
  },
  {
   "cell_type": "code",
   "execution_count": 2,
   "metadata": {},
   "outputs": [],
   "source": [
    "seed()"
   ]
  },
  {
   "cell_type": "code",
   "execution_count": 3,
   "metadata": {},
   "outputs": [],
   "source": [
    "ANIM_SECONDS = 0.01\n",
    "CUR_DIR = \"C:\\\\Users\\\\Shevis\\\\src\\\\github.com\\\\shevisj\\\\splitbuilder\"\n",
    "BUILD_MODE = \"move_speed.png\"\n",
    "OBJECTS_MENU = \"objects_menu.png\"\n",
    "TOOLS_MENU = \"tools_menu.png\"\n",
    "MOVEMENT_MENU = \"movement_menu.png\"\n",
    "ROTATION_MENU = \"rotation_menu.png\"\n",
    "BLOCKS_MENU = \"blocks_menu.png\"\n",
    "RAMPS_MENU = \"blocks_ramps_menu.png\"\n",
    "FLOORS_MENU = \"blocks_floors_menu.png\"\n",
    "GLASS_RAMP = \"glass_ramp.png\"\n",
    "GLASS_FLOOR = \"glass_floor.png\"\n",
    "ENVIRONMENT_MENU = \"environment_menu.png\""
   ]
  },
  {
   "cell_type": "code",
   "execution_count": 4,
   "metadata": {},
   "outputs": [],
   "source": [
    "X_POS = (216, 935)\n",
    "Y_POS = (216, 1107)\n",
    "Z_POS = (216, 1280)\n",
    "SURF_RAMP_ANGLE = -31\n",
    "DOWN_STRAIGHT_START_ROT = (-135, 0, -45)"
   ]
  },
  {
   "cell_type": "markdown",
   "metadata": {},
   "source": [
    "# Types"
   ]
  },
  {
   "cell_type": "code",
   "execution_count": 12,
   "metadata": {},
   "outputs": [],
   "source": [
    "class Vector3:\n",
    "    def __init__(self, x=0, y=0, z=0):\n",
    "        self.x = x\n",
    "        self.y = y\n",
    "        self.z = z\n",
    "    \n",
    "    def __repr__(self):\n",
    "        return f\"(x: {self.x}, y: {self.y}, z: {self.z})\"\n",
    "\n",
    "class Transform:\n",
    "    def __init__(self, position: Vector3, rotation: Vector3):\n",
    "        self.position = position\n",
    "        self.rotation = rotation\n",
    "    \n",
    "    def forward(self, distance: int) -> Vector3:\n",
    "        pos_x = self.position.x - round(math.sin(-1.0 * math.radians(self.rotation.y)) * distance)\n",
    "        pos_z = self.position.z - round(math.cos(-1.0 * math.radians(self.rotation.y)) * distance)\n",
    "        return Vector3(pos_x, self.position.y, pos_z)\n",
    "    \n",
    "    def copy(self, position: Vector3 = None, rotation: Vector3 = None):\n",
    "        new = deepcopy(self)\n",
    "        if position is not None:\n",
    "            new.position = position\n",
    "        if rotation is not None:\n",
    "            new.rotation = rotation\n",
    "        return new\n",
    "\n",
    "    def __repr__(self):\n",
    "        return f\"Transform(\\n\\tposition: {self.position},\\n\\trotation: {self.rotation},\\n)\"\n"
   ]
  },
  {
   "cell_type": "markdown",
   "metadata": {},
   "source": [
    "# Start Game"
   ]
  },
  {
   "cell_type": "code",
   "execution_count": 19,
   "metadata": {},
   "outputs": [],
   "source": [
    "def find_icon(icon_name, no_print=False):\n",
    "    # Find the game icon\n",
    "    image_path = path.join(CUR_DIR, 'images', icon_name)\n",
    "    try:\n",
    "        game_icon = pyautogui.locateOnScreen(image_path, confidence=0.8)\n",
    "        if game_icon:\n",
    "            if not no_print:\n",
    "                print(f\"{icon_name} found: {game_icon}\")\n",
    "            return pyautogui.center(game_icon)\n",
    "        return None\n",
    "    except pyautogui.ImageNotFoundException:\n",
    "        if not no_print:\n",
    "            print(\"Unable to locate image file\")\n",
    "        return None\n",
    "\n",
    "def click_icon(icon_name, no_print=False):\n",
    "    game_icon = find_icon(icon_name=icon_name, no_print=no_print)\n",
    "    if game_icon:\n",
    "        # Start the game\n",
    "        pyautogui.moveTo(game_icon.x, game_icon.y, duration=ANIM_SECONDS)\n",
    "        pyautogui.click(game_icon)\n",
    "    elif not no_print:\n",
    "        print(\"Unable to locate game icon\", icon_name)\n",
    "\n",
    "def click_spot(x, y, dur=ANIM_SECONDS):\n",
    "    pyautogui.moveTo(x, y)\n",
    "    pyautogui.click(x=x, y=y)"
   ]
  },
  {
   "cell_type": "markdown",
   "metadata": {},
   "source": [
    "# Movement"
   ]
  },
  {
   "cell_type": "code",
   "execution_count": 7,
   "metadata": {},
   "outputs": [],
   "source": [
    "def walk_wasd(dur=2):\n",
    "    pyautogui.keyDown('w')\n",
    "    sleep(dur)\n",
    "    pyautogui.keyUp('w')"
   ]
  },
  {
   "cell_type": "markdown",
   "metadata": {},
   "source": [
    "# Building"
   ]
  },
  {
   "cell_type": "code",
   "execution_count": 23,
   "metadata": {},
   "outputs": [],
   "source": [
    "def is_active(img):\n",
    "    icon_path = path.join(CUR_DIR, 'images', img)\n",
    "    icon = pyautogui.locateOnScreen(icon_path, confidence=0.8)\n",
    "    return icon is not None\n",
    "\n",
    "def activate_build_mode():\n",
    "    if not is_active(BUILD_MODE):\n",
    "        pyautogui.press('`')\n",
    "\n",
    "def open_build_menu():\n",
    "    if not is_active(OBJECTS_MENU):\n",
    "        pyautogui.press('m')\n",
    "\n",
    "def reset_build_menu():\n",
    "    open_build_menu()\n",
    "    click_icon(OBJECTS_MENU)\n",
    "    for _ in range(3):\n",
    "        if not is_active(ENVIRONMENT_MENU):\n",
    "            pyautogui.press('escape')\n",
    "            continue\n",
    "        break\n",
    "\n",
    "def enter_value(spot, val):\n",
    "    click_spot(spot[0], spot[1])\n",
    "    val_chars = list(str(val))\n",
    "    for ch in val_chars:\n",
    "        pyautogui.press(ch)\n",
    "    pyautogui.press('enter')\n",
    "\n",
    "def place_object(nav, transform: Transform):\n",
    "    click_icon(OBJECTS_MENU)\n",
    "    for menu in nav:\n",
    "        click_icon(menu, no_print=True)\n",
    "    click_icon(TOOLS_MENU)\n",
    "    click_icon(MOVEMENT_MENU)\n",
    "    enter_value(X_POS, transform.position.x)\n",
    "    enter_value(Y_POS, transform.position.y)\n",
    "    enter_value(Z_POS, transform.position.z)\n",
    "    click_icon(ROTATION_MENU)\n",
    "    enter_value(X_POS, transform.rotation.x)\n",
    "    enter_value(Y_POS, transform.rotation.y)\n",
    "    enter_value(Z_POS, transform.rotation.z)\n",
    "    click_spot(1122, 1122)\n",
    "\n",
    "def straight_panal_extrapolator(transform: Transform, n_panals):\n",
    "    pos_x = transform.position.x\n",
    "    pos_y = transform.position.y\n",
    "    pos_z = transform.position.z\n",
    "    rot_x = transform.rotation.x\n",
    "    rot_y = transform.rotation.y\n",
    "    rot_z = transform.rotation.z\n",
    "    panal_width = 400\n",
    "    sign = math.copysign(1, n_panals)\n",
    "    panal_mag = abs(n_panals)\n",
    "    def extrapolate():\n",
    "        nonlocal pos_x, pos_z\n",
    "        for _ in range(panal_mag - 1):\n",
    "            pos_x = pos_x + round(math.sin(-1.0 * math.radians(rot_y)) * panal_width * sign)\n",
    "            pos_z = pos_z + round(math.cos(-1.0 * math.radians(rot_y)) * panal_width * sign)\n",
    "            yield Transform(\n",
    "                position=Vector3(pos_x, pos_y, pos_z),\n",
    "                rotation=Vector3(rot_x, rot_y, rot_z)\n",
    "            )\n",
    "    return extrapolate\n",
    "\n",
    "def place_surf_straight(transform: Transform, n_panals):\n",
    "    reset_build_menu()\n",
    "    place_object(\n",
    "        [OBJECTS_MENU, BLOCKS_MENU, RAMPS_MENU, GLASS_RAMP],\n",
    "        transform\n",
    "    )\n",
    "    spe = straight_panal_extrapolator(transform, n_panals=n_panals)\n",
    "    for new_transform in spe():\n",
    "        place_object(\n",
    "            [GLASS_RAMP],\n",
    "            new_transform\n",
    "        )\n",
    "\n",
    "def calc_sep_deg(radius):\n",
    "    return math.degrees(math.atan(400.0 / (float(radius) + (800 * math.cos(math.radians(45))))))\n",
    "\n",
    "# Radii is a list of 2-tuples with radius, count pairs\n",
    "def flex_curv_extrapolator(transform: Transform, radii, sign=1, h_deltas=None):\n",
    "    pos_x = transform.position.x\n",
    "    pos_y = transform.position.y\n",
    "    pos_z = transform.position.z\n",
    "    rot_x = transform.rotation.x\n",
    "    rot_y = transform.rotation.y\n",
    "    rot_z = transform.rotation.z\n",
    "    n_panals = sum([r[1] for r in radii])\n",
    "    if h_deltas is not None:\n",
    "        assert (isinstance(h_deltas, list))\n",
    "        n_deltas = sum([r[1] for r in h_deltas])\n",
    "        assert n_deltas == n_panals\n",
    "        result = []\n",
    "        for delta in h_deltas:\n",
    "            result.extend([delta[0]] * delta[1])\n",
    "        h_deltas = result\n",
    "    else:\n",
    "        h_deltas = [0] * n_panals\n",
    "    def extrapolate():\n",
    "        cur_pos_x = pos_x\n",
    "        cur_pos_z = pos_z\n",
    "        cur_rot_y = rot_y\n",
    "        cur_pos_y = pos_y\n",
    "        i = -1\n",
    "        for cur_radius in radii:\n",
    "            cur_center_x = cur_pos_x + round(math.sin(-1.0 * math.radians(cur_rot_y + 90)) * cur_radius[0] * -1.0)\n",
    "            cur_center_z = cur_pos_z + round(math.cos(-1.0 * math.radians(cur_rot_y + 90)) * cur_radius[0] * -1.0)\n",
    "            deg_offset = calc_sep_deg(cur_radius[0]) * sign\n",
    "            for _ in range(cur_radius[1]):\n",
    "                i += 1\n",
    "                cur_pos_y = cur_pos_y + h_deltas[i]\n",
    "                cur_rot_y = mod_rot(round(cur_rot_y + deg_offset))\n",
    "                cur_pos_x = cur_center_x + round(math.sin(-1.0 * math.radians(cur_rot_y + 90)) * cur_radius[0])\n",
    "                cur_pos_z = cur_center_z + round(math.cos(-1.0 * math.radians(cur_rot_y + 90)) * cur_radius[0])\n",
    "                yield Transform(\n",
    "                    position=Vector3(cur_pos_x, cur_pos_y, cur_pos_z),\n",
    "                    rotation=Vector3(rot_x, cur_rot_y, rot_z)\n",
    "                )\n",
    "    return extrapolate\n",
    "\n",
    "def place_flex_curv(transform: Transform, radii, sign=1, h_deltas=None, ignore_first=False):\n",
    "    reset_build_menu()\n",
    "    if not ignore_first:\n",
    "        place_object(\n",
    "            [OBJECTS_MENU, BLOCKS_MENU, RAMPS_MENU, GLASS_RAMP],\n",
    "            transform\n",
    "        )\n",
    "    fce = flex_curv_extrapolator(transform, radii, sign, h_deltas)\n",
    "    first = True\n",
    "    for new_transform in fce():\n",
    "        place_object(\n",
    "            [OBJECTS_MENU, BLOCKS_MENU, RAMPS_MENU, GLASS_RAMP] if ignore_first and first else [GLASS_RAMP],\n",
    "            new_transform\n",
    "        )\n",
    "        first = False\n",
    "\n",
    "def mod_rot(rot):\n",
    "    currot = rot\n",
    "    while currot < -180:\n",
    "        currot += 360\n",
    "    return ((rot + 180) % 360) - 180\n",
    "        \n",
    "\n",
    "def curv_extrapolator(transform: Transform, radius, n_panals=5, h_delta=0, r_delta=0):\n",
    "    pos_x = transform.position.x\n",
    "    pos_y = transform.position.y\n",
    "    pos_z = transform.position.z\n",
    "    rot_x = transform.rotation.x\n",
    "    rot_y = transform.rotation.y\n",
    "    rot_z = transform.rotation.z\n",
    "    abs_radius = abs(radius)\n",
    "    sign = math.copysign(1, n_panals)\n",
    "    abs_n_panals = abs(n_panals)\n",
    "    center_x = pos_x + round(math.sin(-1.0 * math.radians(rot_y + 90)) * abs_radius * -1.0)\n",
    "    center_z = pos_z + round(math.cos(-1.0 * math.radians(rot_y + 90)) * abs_radius * -1.0)\n",
    "    def extrapolate():\n",
    "        deg_offset = 0\n",
    "        cur_pos_y = pos_y\n",
    "        cur_abs_radius = abs_radius\n",
    "        for _ in range(abs_n_panals - 1):\n",
    "            \n",
    "            cur_pos_y += h_delta\n",
    "            cur_abs_radius += r_delta\n",
    "\n",
    "            deg_offset += calc_sep_deg(cur_abs_radius) * sign\n",
    "            new_x = center_x + round(math.sin(-1.0 * math.radians(rot_y + 90 + deg_offset)) * cur_abs_radius)\n",
    "            new_z = center_z + round(math.cos(-1.0 * math.radians(rot_y + 90 + deg_offset)) * cur_abs_radius)\n",
    "            yield Transform(\n",
    "                position=Vector3(new_x, cur_pos_y, new_z),\n",
    "                rotation=Vector3(rot_x, mod_rot(round(rot_y + deg_offset)), rot_z)\n",
    "            )\n",
    "    return extrapolate\n",
    "\n",
    "def place_curv(transform: Transform, radius: int, n_panals=5, h_delta=0, r_delta=0, ignore_first=False):\n",
    "    reset_build_menu()\n",
    "    if not ignore_first:\n",
    "        place_object(\n",
    "            [OBJECTS_MENU, BLOCKS_MENU, RAMPS_MENU, GLASS_RAMP],\n",
    "            transform\n",
    "        )\n",
    "    ce = curv_extrapolator(transform, radius, n_panals, h_delta, r_delta)\n",
    "    first = True\n",
    "    for new_transform in ce():\n",
    "        place_object(\n",
    "            [OBJECTS_MENU, BLOCKS_MENU, RAMPS_MENU, GLASS_RAMP] if ignore_first and first else [GLASS_RAMP],\n",
    "            new_transform\n",
    "        )\n",
    "        first = False\n",
    "    "
   ]
  },
  {
   "cell_type": "markdown",
   "metadata": {},
   "source": [
    "# Composite structures"
   ]
  },
  {
   "cell_type": "code",
   "execution_count": 30,
   "metadata": {},
   "outputs": [],
   "source": [
    "roots = [\n",
    "    Transform(\n",
    "        position=Vector3(0, 19000, 19800),\n",
    "        rotation=Vector3(0, 0, 0)\n",
    "    ),\n",
    "    Transform(\n",
    "        position=Vector3(11638, 19000, 16019),\n",
    "        rotation=Vector3(0, 36, 0)\n",
    "    ),\n",
    "    Transform(\n",
    "        position=Vector3(18831, 19000, 6119),\n",
    "        rotation=Vector3(0, 72, 0)\n",
    "    ),\n",
    "    Transform(\n",
    "        position=Vector3(18831, 19000, -6119),\n",
    "        rotation=Vector3(0, 108, 0)\n",
    "    ),\n",
    "    Transform(\n",
    "        position=Vector3(11638, 19000, -16019),\n",
    "        rotation=Vector3(0, 144, 0)\n",
    "    ),\n",
    "    Transform(\n",
    "        position=Vector3(0, 19000, -19800),\n",
    "        rotation=Vector3(0, 180, 0)\n",
    "    ),\n",
    "    Transform(\n",
    "        position=Vector3(-11638, 19000, -16019),\n",
    "        rotation=Vector3(0, -144, 0)\n",
    "    ),\n",
    "    Transform(\n",
    "        position=Vector3(-18831, 19000, -6119),\n",
    "        rotation=Vector3(0, -108, 0)\n",
    "    ),\n",
    "    Transform(\n",
    "        position=Vector3(-188310, 19000, 6119),\n",
    "        rotation=Vector3(0, -72, 0)\n",
    "    ),\n",
    "    Transform(\n",
    "        position=Vector3(-11638, 19000, 16019),\n",
    "        rotation=Vector3(0, -36, 0)\n",
    "    ),\n",
    "]\n",
    "\n",
    "def build_whirlwind_arm(root: Transform):\n",
    "    reset_build_menu()\n",
    "    # Place root\n",
    "    place_object(\n",
    "        [BLOCKS_MENU, FLOORS_MENU, GLASS_FLOOR],\n",
    "        root\n",
    "    )\n",
    "\n",
    "    # Section A\n",
    "    section_a_start_pos = root.forward(2000)\n",
    "    section_a_start_pos.y -= 1000\n",
    "\n",
    "    place_curv(\n",
    "        Transform(\n",
    "            position=section_a_start_pos,\n",
    "            rotation=Vector3(root.rotation.x, root.rotation.y, -31)\n",
    "        ),\n",
    "        10000,\n",
    "        20,\n",
    "        -200,\n",
    "        -200\n",
    "    )\n",
    "\n",
    "    #place_flex_curv(\n",
    "    #    Transform(\n",
    "    #        position=section_a_start_pos,\n",
    "    #        rotation=Vector3(root.rotation.x, root.rotation.y, -31)\n",
    "    #    ),\n",
    "    #   [\n",
    "    #        (5000, 1),\n",
    "    #        (4000, 2),\n",
    "    #        (3000, 3),\n",
    "    #        (4000, 2),\n",
    "    #        (5000, 1),\n",
    "    #    ],\n",
    "    #    1,\n",
    "    #    [\n",
    "    #        (-50, 9)\n",
    "    #    ]\n",
    "    #)\n",
    "    "
   ]
  },
  {
   "cell_type": "markdown",
   "metadata": {},
   "source": [
    "# Runner"
   ]
  },
  {
   "cell_type": "code",
   "execution_count": 32,
   "metadata": {},
   "outputs": [
    {
     "name": "stdout",
     "output_type": "stream",
     "text": [
      "game_icon.png found: Box(left=1321, top=2115, width=30, height=20)\n",
      "objects_menu.png found: Box(left=315, top=371, width=144, height=24)\n",
      "objects_menu.png found: Box(left=315, top=371, width=144, height=24)\n",
      "tools_menu.png found: Box(left=557, top=371, width=104, height=24)\n",
      "movement_menu.png found: Box(left=401, top=572, width=142, height=20)\n",
      "rotation_menu.png found: Box(left=628, top=572, width=125, height=20)\n",
      "objects_menu.png found: Box(left=315, top=371, width=144, height=24)\n",
      "objects_menu.png found: Box(left=315, top=371, width=144, height=24)\n",
      "tools_menu.png found: Box(left=557, top=371, width=104, height=24)\n",
      "movement_menu.png found: Box(left=401, top=572, width=142, height=20)\n",
      "rotation_menu.png found: Box(left=628, top=572, width=125, height=20)\n",
      "objects_menu.png found: Box(left=315, top=371, width=144, height=24)\n",
      "tools_menu.png found: Box(left=557, top=371, width=104, height=24)\n",
      "movement_menu.png found: Box(left=401, top=572, width=142, height=20)\n",
      "rotation_menu.png found: Box(left=628, top=572, width=125, height=20)\n",
      "objects_menu.png found: Box(left=315, top=371, width=144, height=24)\n",
      "tools_menu.png found: Box(left=557, top=371, width=104, height=24)\n",
      "movement_menu.png found: Box(left=401, top=572, width=142, height=20)\n",
      "rotation_menu.png found: Box(left=628, top=572, width=125, height=20)\n",
      "objects_menu.png found: Box(left=315, top=371, width=144, height=24)\n",
      "tools_menu.png found: Box(left=557, top=371, width=104, height=24)\n",
      "movement_menu.png found: Box(left=401, top=572, width=142, height=20)\n",
      "rotation_menu.png found: Box(left=628, top=572, width=125, height=20)\n",
      "objects_menu.png found: Box(left=315, top=371, width=144, height=24)\n",
      "tools_menu.png found: Box(left=557, top=371, width=104, height=24)\n",
      "movement_menu.png found: Box(left=401, top=572, width=142, height=20)\n",
      "rotation_menu.png found: Box(left=628, top=572, width=125, height=20)\n",
      "objects_menu.png found: Box(left=315, top=371, width=144, height=24)\n",
      "tools_menu.png found: Box(left=557, top=371, width=104, height=24)\n",
      "movement_menu.png found: Box(left=401, top=572, width=142, height=20)\n",
      "rotation_menu.png found: Box(left=628, top=572, width=125, height=20)\n",
      "objects_menu.png found: Box(left=315, top=371, width=144, height=24)\n",
      "tools_menu.png found: Box(left=557, top=371, width=104, height=24)\n",
      "movement_menu.png found: Box(left=401, top=572, width=142, height=20)\n",
      "rotation_menu.png found: Box(left=628, top=572, width=125, height=20)\n",
      "objects_menu.png found: Box(left=315, top=371, width=144, height=24)\n",
      "tools_menu.png found: Box(left=557, top=371, width=104, height=24)\n",
      "movement_menu.png found: Box(left=401, top=572, width=142, height=20)\n",
      "rotation_menu.png found: Box(left=628, top=572, width=125, height=20)\n",
      "objects_menu.png found: Box(left=315, top=371, width=144, height=24)\n",
      "tools_menu.png found: Box(left=557, top=371, width=104, height=24)\n",
      "movement_menu.png found: Box(left=401, top=572, width=142, height=20)\n",
      "rotation_menu.png found: Box(left=628, top=572, width=125, height=20)\n",
      "objects_menu.png found: Box(left=315, top=371, width=144, height=24)\n",
      "tools_menu.png found: Box(left=557, top=371, width=104, height=24)\n",
      "movement_menu.png found: Box(left=401, top=572, width=142, height=20)\n",
      "rotation_menu.png found: Box(left=628, top=572, width=125, height=20)\n",
      "objects_menu.png found: Box(left=315, top=371, width=144, height=24)\n",
      "tools_menu.png found: Box(left=557, top=371, width=104, height=24)\n",
      "movement_menu.png found: Box(left=401, top=572, width=142, height=20)\n",
      "rotation_menu.png found: Box(left=628, top=572, width=125, height=20)\n",
      "objects_menu.png found: Box(left=315, top=371, width=144, height=24)\n",
      "tools_menu.png found: Box(left=557, top=371, width=104, height=24)\n",
      "movement_menu.png found: Box(left=401, top=572, width=142, height=20)\n",
      "rotation_menu.png found: Box(left=628, top=572, width=125, height=20)\n",
      "objects_menu.png found: Box(left=315, top=371, width=144, height=24)\n",
      "tools_menu.png found: Box(left=557, top=371, width=104, height=24)\n",
      "movement_menu.png found: Box(left=401, top=572, width=142, height=20)\n",
      "rotation_menu.png found: Box(left=628, top=572, width=125, height=20)\n",
      "objects_menu.png found: Box(left=315, top=371, width=144, height=24)\n",
      "tools_menu.png found: Box(left=557, top=371, width=104, height=24)\n",
      "movement_menu.png found: Box(left=401, top=572, width=142, height=20)\n",
      "rotation_menu.png found: Box(left=628, top=572, width=125, height=20)\n",
      "objects_menu.png found: Box(left=315, top=371, width=144, height=24)\n",
      "tools_menu.png found: Box(left=557, top=371, width=104, height=24)\n",
      "movement_menu.png found: Box(left=401, top=572, width=142, height=20)\n",
      "rotation_menu.png found: Box(left=628, top=572, width=125, height=20)\n",
      "objects_menu.png found: Box(left=315, top=371, width=144, height=24)\n",
      "tools_menu.png found: Box(left=557, top=371, width=104, height=24)\n",
      "movement_menu.png found: Box(left=401, top=572, width=142, height=20)\n",
      "rotation_menu.png found: Box(left=628, top=572, width=125, height=20)\n",
      "objects_menu.png found: Box(left=315, top=371, width=144, height=24)\n",
      "tools_menu.png found: Box(left=557, top=371, width=104, height=24)\n",
      "movement_menu.png found: Box(left=401, top=572, width=142, height=20)\n",
      "rotation_menu.png found: Box(left=628, top=572, width=125, height=20)\n",
      "objects_menu.png found: Box(left=315, top=371, width=144, height=24)\n",
      "tools_menu.png found: Box(left=557, top=371, width=104, height=24)\n",
      "movement_menu.png found: Box(left=401, top=572, width=142, height=20)\n",
      "rotation_menu.png found: Box(left=628, top=572, width=125, height=20)\n",
      "objects_menu.png found: Box(left=315, top=371, width=144, height=24)\n",
      "tools_menu.png found: Box(left=557, top=371, width=104, height=24)\n",
      "movement_menu.png found: Box(left=401, top=572, width=142, height=20)\n",
      "rotation_menu.png found: Box(left=628, top=572, width=125, height=20)\n",
      "objects_menu.png found: Box(left=315, top=371, width=144, height=24)\n",
      "tools_menu.png found: Box(left=557, top=371, width=104, height=24)\n",
      "movement_menu.png found: Box(left=401, top=572, width=142, height=20)\n",
      "rotation_menu.png found: Box(left=628, top=572, width=125, height=20)\n"
     ]
    }
   ],
   "source": [
    "try:\n",
    "    click_icon('game_icon.png')\n",
    "    activate_build_mode()\n",
    "    open_build_menu()\n",
    "    build_whirlwind_arm(roots[0])\n",
    "    #place_flex_curv(\n",
    "    #    Transform(\n",
    "    #        position=Vector3(12646, 17890, -14235),\n",
    "    #        rotation=Vector3(0, -45, -31)\n",
    "    #    ),\n",
    "    #    [\n",
    "    #        (5000, 1),\n",
    "    #        (4000, 2),\n",
    "    #        (3000, 3),\n",
    "    #        (4000, 2),\n",
    "    #        (5000, 1),\n",
    "    #    ],\n",
    "    #    -1,\n",
    "    #    [\n",
    "    #        (-10, 1),\n",
    "    #        (-15, 2),\n",
    "    #        (-20, 3),\n",
    "    #        (-25, 2),\n",
    "    #        (-30, 1),\n",
    "    #    ]\n",
    "    #)\n",
    "    #place_curv(\n",
    "    #    (2646, 18890, -14235),\n",
    "    #    (0, 100, -31),\n",
    "    #    1500,\n",
    "    #    28,\n",
    "    #    -50,\n",
    "    #    -50\n",
    "    #)\n",
    "except KeyboardInterrupt as e:\n",
    "    print(\"Exiting\")"
   ]
  },
  {
   "cell_type": "code",
   "execution_count": null,
   "metadata": {},
   "outputs": [],
   "source": []
  },
  {
   "cell_type": "code",
   "execution_count": 25,
   "metadata": {},
   "outputs": [],
   "source": [
    "image = pyautogui.screenshot()\n",
    "image.save('testing.png')"
   ]
  },
  {
   "cell_type": "code",
   "execution_count": null,
   "metadata": {},
   "outputs": [],
   "source": [
    "ep = straight_panal_extrapolator((0, 0, 0), (0, 0, 0), 4)"
   ]
  },
  {
   "cell_type": "code",
   "execution_count": null,
   "metadata": {},
   "outputs": [
    {
     "name": "stdout",
     "output_type": "stream",
     "text": [
      "(400, 0, 0) (0, 0, 0)\n",
      "(800, 0, 0) (0, 0, 0)\n",
      "(1200, 0, 0) (0, 0, 0)\n"
     ]
    }
   ],
   "source": [
    "for p, r in ep():\n",
    "    print(p, r)"
   ]
  },
  {
   "cell_type": "code",
   "execution_count": null,
   "metadata": {},
   "outputs": [
    {
     "name": "stdout",
     "output_type": "stream",
     "text": [
      "0 5000 -1000\n"
     ]
    }
   ],
   "source": [
    "curv_extrapolator((0, 5000, 0), (0, -90, -31), 1000, 5)"
   ]
  },
  {
   "cell_type": "code",
   "execution_count": null,
   "metadata": {},
   "outputs": [],
   "source": [
    "ce = curv_extrapolator((-1546, 12890, 1235), (0, 0, -31), 1000, 5)"
   ]
  },
  {
   "cell_type": "code",
   "execution_count": null,
   "metadata": {},
   "outputs": [
    {
     "name": "stdout",
     "output_type": "stream",
     "text": [
      "(-1546, 12890, 1235) (0, 0, -31)\n",
      "(-1542, 12890, 1148) (0, 5.0, -31)\n",
      "(-1531, 12890, 1061) (0, 10.0, -31)\n",
      "(-1512, 12890, 976) (0, 15.0, -31)\n",
      "(-1486, 12890, 893) (0, 20.0, -31)\n"
     ]
    }
   ],
   "source": [
    "print((-1546, 12890, 1235), (0, 0, -31))\n",
    "for loc, rot in ce():\n",
    "    print(loc, rot)"
   ]
  },
  {
   "cell_type": "code",
   "execution_count": null,
   "metadata": {},
   "outputs": [
    {
     "data": {
      "text/plain": [
       "11.309932474020215"
      ]
     },
     "execution_count": 49,
     "metadata": {},
     "output_type": "execute_result"
    }
   ],
   "source": [
    "math.degrees(math.atan(400.0 / float(2000)))"
   ]
  },
  {
   "cell_type": "code",
   "execution_count": null,
   "metadata": {},
   "outputs": [
    {
     "data": {
      "text/plain": [
       "685.7338405616898"
      ]
     },
     "execution_count": 55,
     "metadata": {},
     "output_type": "execute_result"
    }
   ],
   "source": [
    "800 * math.cos(math.radians(31))"
   ]
  },
  {
   "cell_type": "code",
   "execution_count": null,
   "metadata": {},
   "outputs": [
    {
     "data": {
      "text/plain": [
       "0.8571673007021123"
      ]
     },
     "execution_count": 54,
     "metadata": {},
     "output_type": "execute_result"
    }
   ],
   "source": [
    "math.cos(math.radians(31))"
   ]
  },
  {
   "cell_type": "code",
   "execution_count": 74,
   "metadata": {},
   "outputs": [
    {
     "data": {
      "text/plain": [
       "-66"
      ]
     },
     "execution_count": 74,
     "metadata": {},
     "output_type": "execute_result"
    }
   ],
   "source": [
    "mod_rot(-66666)"
   ]
  },
  {
   "cell_type": "code",
   "execution_count": 85,
   "metadata": {},
   "outputs": [],
   "source": [
    "fce = flex_curv_extrapolator((-1546, 12890, 1235), (0, 0, -31), [(1000, 2), (500, 3), (1000, 2)])"
   ]
  },
  {
   "cell_type": "code",
   "execution_count": 87,
   "metadata": {},
   "outputs": [
    {
     "name": "stdout",
     "output_type": "stream",
     "text": [
      "(-1546, 12890, 1235) (0, 0, -31)\n",
      "(-1516, 12890, 993) (0, 14, -31)\n",
      "(-1277, 12890, 553) (0, 43, -31)\n",
      "(-1130, 12890, 445) (0, 64, -31)\n",
      "(-782, 12890, 411) (0, 105, -31)\n",
      "(-424, 12890, 782) (0, 167, -31)\n",
      "(-398, 12890, 1024) (0, -179, -31)\n",
      "(-532, 12890, 1507) (0, -150, -31)\n"
     ]
    }
   ],
   "source": [
    "print((-1546, 12890, 1235), (0, 0, -31))\n",
    "for loc, rot in fce():\n",
    "    print(loc, rot)"
   ]
  },
  {
   "cell_type": "code",
   "execution_count": 21,
   "metadata": {},
   "outputs": [
    {
     "name": "stdout",
     "output_type": "stream",
     "text": [
      "-180\n",
      "-144\n",
      "-108\n",
      "-72\n",
      "-36\n",
      "0\n",
      "36\n",
      "72\n",
      "108\n",
      "144\n"
     ]
    }
   ],
   "source": [
    "for i in range(-180, 180, 36):\n",
    "    print(i)"
   ]
  },
  {
   "cell_type": "code",
   "execution_count": 39,
   "metadata": {},
   "outputs": [],
   "source": [
    "r = roots[0]"
   ]
  },
  {
   "cell_type": "code",
   "execution_count": 40,
   "metadata": {},
   "outputs": [
    {
     "data": {
      "text/plain": [
       "Transform(\n",
       "\tposition: (x: 0, y: 1900, z: 19800),\n",
       "\trotation: (x: 0, y: 0, z: 0),\n",
       ")"
      ]
     },
     "execution_count": 40,
     "metadata": {},
     "output_type": "execute_result"
    }
   ],
   "source": [
    "r"
   ]
  },
  {
   "cell_type": "code",
   "execution_count": 41,
   "metadata": {},
   "outputs": [
    {
     "data": {
      "text/plain": [
       "(x: 0, y: 1900, z: 20800)"
      ]
     },
     "execution_count": 41,
     "metadata": {},
     "output_type": "execute_result"
    }
   ],
   "source": [
    "r.forward(1000)"
   ]
  },
  {
   "cell_type": "code",
   "execution_count": null,
   "metadata": {},
   "outputs": [],
   "source": []
  }
 ],
 "metadata": {
  "kernelspec": {
   "display_name": "Python 3.10.5 64-bit (windows store)",
   "language": "python",
   "name": "python3"
  },
  "language_info": {
   "codemirror_mode": {
    "name": "ipython",
    "version": 3
   },
   "file_extension": ".py",
   "mimetype": "text/x-python",
   "name": "python",
   "nbconvert_exporter": "python",
   "pygments_lexer": "ipython3",
   "version": "3.10.5"
  },
  "orig_nbformat": 4,
  "vscode": {
   "interpreter": {
    "hash": "a0e22ae3c8aa5c2c5262c64072f6a25b93ef971aa6947536f3568c6b9664087c"
   }
  }
 },
 "nbformat": 4,
 "nbformat_minor": 2
}
