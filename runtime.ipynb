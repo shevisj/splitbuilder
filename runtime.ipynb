{
 "cells": [
  {
   "cell_type": "code",
   "execution_count": 1,
   "metadata": {},
   "outputs": [],
   "source": [
    "from time import sleep\n",
    "import pyautogui\n",
    "from os import path\n",
    "from random import uniform, seed\n",
    "import math\n",
    "import pprint\n",
    "from copy import deepcopy"
   ]
  },
  {
   "cell_type": "code",
   "execution_count": 2,
   "metadata": {},
   "outputs": [],
   "source": [
    "seed()"
   ]
  },
  {
   "cell_type": "code",
   "execution_count": 3,
   "metadata": {},
   "outputs": [],
   "source": [
    "ANIM_SECONDS_MIN = 0.01\n",
    "ANIM_SECONDS_MAX = 0.3\n",
    "CUR_DIR = \"C:\\\\Users\\\\Shevis\\\\src\\\\github.com\\\\shevisj\\\\splitbuilder\"\n",
    "BUILD_MODE = \"move_speed.png\"\n",
    "OBJECTS_MENU = \"objects_menu.png\"\n",
    "TOOLS_MENU = \"tools_menu.png\"\n",
    "MOVEMENT_MENU = \"movement_menu.png\"\n",
    "ROTATION_MENU = \"rotation_menu.png\"\n",
    "BLOCKS_MENU = \"blocks_menu.png\"\n",
    "RAMPS_MENU = \"blocks_ramps_menu.png\"\n",
    "FLOORS_MENU = \"blocks_floors_menu.png\"\n",
    "GLASS_RAMP = \"glass_ramp.png\"\n",
    "GLASS_FLOOR = \"glass_floor.png\"\n",
    "ENVIRONMENT_MENU = \"environment_menu.png\""
   ]
  },
  {
   "cell_type": "code",
   "execution_count": 4,
   "metadata": {},
   "outputs": [],
   "source": [
    "X_POS = (216, 935)\n",
    "Y_POS = (216, 1107)\n",
    "Z_POS = (216, 1280)\n",
    "SURF_RAMP_ANGLE = -31\n",
    "DOWN_STRAIGHT_START_ROT = (-135, 0, -45)"
   ]
  },
  {
   "cell_type": "markdown",
   "metadata": {},
   "source": [
    "# Types"
   ]
  },
  {
   "cell_type": "code",
   "execution_count": 69,
   "metadata": {},
   "outputs": [],
   "source": [
    "class Vector3:\n",
    "    def __init__(self, x=0.0, y=0.0, z=0.0):\n",
    "        self.x = round(float(x), 2)\n",
    "        self.y = round(float(y), 2)\n",
    "        self.z = round(float(z), 2)\n",
    "    \n",
    "    def __repr__(self):\n",
    "        return f\"(x: {self.x}, y: {self.y}, z: {self.z})\"\n",
    "\n",
    "    def angle_to(self, other: 'Vector3'):\n",
    "        pass\n",
    "\n",
    "class Transform:\n",
    "    def __init__(self, position: Vector3 = Vector3(), rotation: Vector3 = Vector3()):\n",
    "        self.position = position\n",
    "        self.rotation = rotation\n",
    "    \n",
    "    def forward(self, distance: float):\n",
    "        pos_x = self.position.x - round(math.sin(-1.0 * math.radians(self.rotation.y)) * distance, 2)\n",
    "        pos_z = self.position.z - round(math.cos(-1.0 * math.radians(self.rotation.y)) * distance, 2)\n",
    "        return self.copy(\n",
    "            position=Vector3(pos_x, self.position.y, pos_z)\n",
    "        )\n",
    "\n",
    "    def backward(self, distance: float):\n",
    "        pos_x = self.position.x + round(math.sin(-1.0 * math.radians(self.rotation.y)) * distance, 2)\n",
    "        pos_z = self.position.z + round(math.cos(-1.0 * math.radians(self.rotation.y)) * distance, 2)\n",
    "        return self.copy(\n",
    "            position=Vector3(pos_x, self.position.y, pos_z)\n",
    "        )\n",
    "\n",
    "    def left(self, distance: float):\n",
    "        pos_x = self.position.x - round(math.cos(-1.0 * math.radians(self.rotation.y)) * distance, 2)\n",
    "        pos_z = self.position.z + round(math.sin(-1.0 * math.radians(self.rotation.y)) * distance, 2)\n",
    "        return self.copy(\n",
    "            position=Vector3(pos_x, self.position.y, pos_z)\n",
    "        )\n",
    "\n",
    "    def right(self, distance: float):\n",
    "        pos_x = self.position.x + round(math.cos(-1.0 * math.radians(self.rotation.y)) * distance, 2)\n",
    "        pos_z = self.position.z - round(math.sin(-1.0 * math.radians(self.rotation.y)) * distance, 2)\n",
    "        return self.copy(\n",
    "            position=Vector3(pos_x, self.position.y, pos_z)\n",
    "        )\n",
    "    \n",
    "    def copy(self, position: Vector3 = None, rotation: Vector3 = None):\n",
    "        new = deepcopy(self)\n",
    "        if position is not None:\n",
    "            new.position = position\n",
    "        if rotation is not None:\n",
    "            new.rotation = rotation\n",
    "        return new\n",
    "\n",
    "    def __repr__(self):\n",
    "        return f\"Transform(\\n\\tposition: {self.position},\\n\\trotation: {self.rotation},\\n)\"\n"
   ]
  },
  {
   "cell_type": "code",
   "execution_count": 6,
   "metadata": {},
   "outputs": [],
   "source": [
    "t0 = Transform(rotation=Vector3(y=-45))"
   ]
  },
  {
   "cell_type": "code",
   "execution_count": 7,
   "metadata": {},
   "outputs": [
    {
     "data": {
      "text/plain": [
       "(x: -354, y: 0, z: 354)"
      ]
     },
     "execution_count": 7,
     "metadata": {},
     "output_type": "execute_result"
    }
   ],
   "source": [
    "t0.left(500).position"
   ]
  },
  {
   "cell_type": "code",
   "execution_count": null,
   "metadata": {},
   "outputs": [],
   "source": []
  },
  {
   "cell_type": "markdown",
   "metadata": {},
   "source": [
    "# Start Game"
   ]
  },
  {
   "cell_type": "code",
   "execution_count": 6,
   "metadata": {},
   "outputs": [],
   "source": [
    "def find_icon(icon_name, no_print=False):\n",
    "    # Find the game icon\n",
    "    image_path = path.join(CUR_DIR, 'images', icon_name)\n",
    "    try:\n",
    "        game_icon = pyautogui.locateOnScreen(image_path, confidence=0.8)\n",
    "        if game_icon:\n",
    "            if not no_print:\n",
    "                print(f\"{icon_name} found: {game_icon}\")\n",
    "            return pyautogui.center(game_icon)\n",
    "        return None\n",
    "    except pyautogui.ImageNotFoundException:\n",
    "        if not no_print:\n",
    "            print(\"Unable to locate image file\")\n",
    "        return None\n",
    "\n",
    "def click_icon(icon_name, no_print=False):\n",
    "    game_icon = find_icon(icon_name=icon_name, no_print=no_print)\n",
    "    if game_icon:\n",
    "        # Start the game\n",
    "        y_delta = int(game_icon.y + uniform(-20, 20))\n",
    "        x_delta = int(game_icon.x + uniform(-20, 20))\n",
    "        pyautogui.moveTo(x_delta, y_delta, duration=uniform(ANIM_SECONDS_MIN, ANIM_SECONDS_MAX))\n",
    "        pyautogui.click(game_icon)\n",
    "    elif not no_print:\n",
    "        print(\"Unable to locate game icon\", icon_name)\n",
    "\n",
    "def click_spot(x, y):\n",
    "    y_delta = int(y + uniform(-20, 20))\n",
    "    x_delta = int(x + uniform(-40, 40))\n",
    "    pyautogui.moveTo(x_delta, y_delta, duration=uniform(ANIM_SECONDS_MIN, ANIM_SECONDS_MAX))\n",
    "    pyautogui.click(x=x_delta, y=y_delta)"
   ]
  },
  {
   "cell_type": "markdown",
   "metadata": {},
   "source": [
    "# Movement"
   ]
  },
  {
   "cell_type": "code",
   "execution_count": 8,
   "metadata": {},
   "outputs": [],
   "source": [
    "def walk_wasd(dur=2):\n",
    "    pyautogui.keyDown('w')\n",
    "    sleep(dur)\n",
    "    pyautogui.keyUp('w')"
   ]
  },
  {
   "cell_type": "markdown",
   "metadata": {},
   "source": [
    "# Building"
   ]
  },
  {
   "cell_type": "code",
   "execution_count": 70,
   "metadata": {},
   "outputs": [],
   "source": [
    "def is_active(img):\n",
    "    icon_path = path.join(CUR_DIR, 'images', img)\n",
    "    icon = pyautogui.locateOnScreen(icon_path, confidence=0.8)\n",
    "    return icon is not None\n",
    "\n",
    "def activate_build_mode():\n",
    "    if not is_active(BUILD_MODE):\n",
    "        pyautogui.press('`', interval=uniform(ANIM_SECONDS_MIN, ANIM_SECONDS_MAX), _pause=True)\n",
    "\n",
    "def open_build_menu():\n",
    "    if not is_active(OBJECTS_MENU):\n",
    "        pyautogui.press('m', interval=uniform(ANIM_SECONDS_MIN, ANIM_SECONDS_MAX), _pause=True)\n",
    "\n",
    "def reset_build_menu():\n",
    "    open_build_menu()\n",
    "    click_icon(OBJECTS_MENU)\n",
    "    for _ in range(3):\n",
    "        if not is_active(ENVIRONMENT_MENU):\n",
    "            pyautogui.press('escape', interval=uniform(ANIM_SECONDS_MIN, ANIM_SECONDS_MAX), _pause=True)\n",
    "            continue\n",
    "        break\n",
    "\n",
    "def enter_value(spot, val):\n",
    "    click_spot(spot[0], spot[1])\n",
    "    val_chars = list(str(val))\n",
    "    for ch in val_chars:\n",
    "        pyautogui.press(ch, interval=uniform(ANIM_SECONDS_MIN, ANIM_SECONDS_MAX), _pause=True)\n",
    "    pyautogui.press('enter', interval=uniform(ANIM_SECONDS_MIN, ANIM_SECONDS_MAX), _pause=True)\n",
    "\n",
    "def place_object_base(transform: Transform):\n",
    "    click_icon(TOOLS_MENU)\n",
    "    click_icon(MOVEMENT_MENU)\n",
    "    enter_value(X_POS, transform.position.x)\n",
    "    enter_value(Y_POS, transform.position.y)\n",
    "    enter_value(Z_POS, transform.position.z)\n",
    "    click_icon(ROTATION_MENU)\n",
    "    enter_value(X_POS, transform.rotation.x)\n",
    "    enter_value(Y_POS, transform.rotation.y)\n",
    "    enter_value(Z_POS, transform.rotation.z)\n",
    "    click_spot(1132, 1132)\n",
    "\n",
    "def place_object(nav, transform: Transform):\n",
    "    click_icon(OBJECTS_MENU)\n",
    "    for menu in nav:\n",
    "        click_icon(menu, no_print=True)\n",
    "    place_object_base(transform)\n",
    "\n",
    "def place_previous_object(transform: Transform):\n",
    "    sleep(uniform(ANIM_SECONDS_MIN, ANIM_SECONDS_MAX))\n",
    "    pyautogui.press('z', interval=uniform(ANIM_SECONDS_MIN, ANIM_SECONDS_MAX), _pause=True)\n",
    "    place_object_base(transform)\n",
    "\n",
    "def straight_panal_extrapolator(transform: Transform, n_panals):\n",
    "    pos_x = transform.position.x\n",
    "    pos_y = transform.position.y\n",
    "    pos_z = transform.position.z\n",
    "    rot_x = transform.rotation.x\n",
    "    rot_y = transform.rotation.y\n",
    "    rot_z = transform.rotation.z\n",
    "    panal_width = 400\n",
    "    sign = math.copysign(1, n_panals)\n",
    "    panal_mag = abs(n_panals)\n",
    "    def extrapolate():\n",
    "        nonlocal pos_x, pos_z\n",
    "        for _ in range(panal_mag - 1):\n",
    "            pos_x = pos_x + round(math.sin(-1.0 * math.radians(rot_y)) * panal_width * sign, 2)\n",
    "            pos_z = pos_z + round(math.cos(-1.0 * math.radians(rot_y)) * panal_width * sign, 2)\n",
    "            yield Transform(\n",
    "                position=Vector3(pos_x, pos_y, pos_z),\n",
    "                rotation=Vector3(rot_x, rot_y, rot_z)\n",
    "            )\n",
    "    return extrapolate\n",
    "\n",
    "def place_surf_straight(transform: Transform, n_panals):\n",
    "    reset_build_menu()\n",
    "    place_object(\n",
    "        [OBJECTS_MENU, BLOCKS_MENU, FLOORS_MENU, GLASS_FLOOR],\n",
    "        transform\n",
    "    )\n",
    "    spe = straight_panal_extrapolator(transform, n_panals=n_panals)\n",
    "    for new_transform in spe():\n",
    "        place_previous_object(\n",
    "            new_transform\n",
    "        )\n",
    "\n",
    "def calc_sep_deg(radius):\n",
    "    return math.degrees(math.atan(400.0 / (float(radius) + (800 * math.cos(math.radians(45))))))\n",
    "\n",
    "# Radii is a list of 2-tuples with radius, count pairs\n",
    "def flex_curv_extrapolator(transform: Transform, radii, sign=1, h_deltas=None):\n",
    "    pos_x = transform.position.x\n",
    "    pos_y = transform.position.y\n",
    "    pos_z = transform.position.z\n",
    "    rot_x = transform.rotation.x\n",
    "    rot_y = transform.rotation.y\n",
    "    rot_z = transform.rotation.z\n",
    "    n_panals = sum([r[1] for r in radii])\n",
    "    if h_deltas is not None:\n",
    "        assert (isinstance(h_deltas, list))\n",
    "        n_deltas = sum([r[1] for r in h_deltas])\n",
    "        assert n_deltas == n_panals\n",
    "        result = []\n",
    "        for delta in h_deltas:\n",
    "            result.extend([delta[0]] * delta[1])\n",
    "        h_deltas = result\n",
    "    else:\n",
    "        h_deltas = [0] * n_panals\n",
    "    def extrapolate():\n",
    "        cur_pos_x = pos_x\n",
    "        cur_pos_z = pos_z\n",
    "        cur_rot_y = rot_y\n",
    "        cur_pos_y = pos_y\n",
    "        i = -1\n",
    "        for cur_radius in radii:\n",
    "            cur_center_x = cur_pos_x + round(math.sin(-1.0 * math.radians(cur_rot_y + 90)) * cur_radius[0] * -1.0, 2)\n",
    "            cur_center_z = cur_pos_z + round(math.cos(-1.0 * math.radians(cur_rot_y + 90)) * cur_radius[0] * -1.0, 2)\n",
    "            deg_offset = calc_sep_deg(cur_radius[0]) * sign\n",
    "            for _ in range(cur_radius[1]):\n",
    "                i += 1\n",
    "                cur_pos_y = cur_pos_y + h_deltas[i]\n",
    "                cur_rot_y = mod_rot(round(cur_rot_y + deg_offset, 2))\n",
    "                cur_pos_x = cur_center_x + round(math.sin(-1.0 * math.radians(cur_rot_y + 90)) * cur_radius[0], 2)\n",
    "                cur_pos_z = cur_center_z + round(math.cos(-1.0 * math.radians(cur_rot_y + 90)) * cur_radius[0], 2)\n",
    "                yield Transform(\n",
    "                    position=Vector3(cur_pos_x, cur_pos_y, cur_pos_z),\n",
    "                    rotation=Vector3(rot_x, cur_rot_y, rot_z)\n",
    "                )\n",
    "    return extrapolate\n",
    "\n",
    "def place_flex_curv(transform: Transform, radii, sign=1, h_deltas=None, ignore_first=False):\n",
    "    reset_build_menu()\n",
    "    if not ignore_first:\n",
    "        place_object(\n",
    "            [OBJECTS_MENU, BLOCKS_MENU, RAMPS_MENU, GLASS_RAMP],\n",
    "            transform\n",
    "        )\n",
    "    fce = flex_curv_extrapolator(transform, radii, sign, h_deltas)\n",
    "    first = True\n",
    "    for new_transform in fce():\n",
    "        if ignore_first and first:\n",
    "            place_object(\n",
    "                [OBJECTS_MENU, BLOCKS_MENU, RAMPS_MENU, GLASS_RAMP],\n",
    "                new_transform\n",
    "            )\n",
    "        else:\n",
    "            place_previous_object(\n",
    "                new_transform\n",
    "            )\n",
    "        first = False\n",
    "\n",
    "def mod_rot(rot):\n",
    "    currot = rot\n",
    "    while currot < -180.0:\n",
    "        currot += 360.0\n",
    "    return round(((rot + 180.0) % 360.0) - 180.0, 2)\n",
    "        \n",
    "\n",
    "def curv_extrapolator(transform: Transform, radius, n_panals=5, h_delta=0, r_delta=0):\n",
    "    pos_x = transform.position.x\n",
    "    pos_y = transform.position.y\n",
    "    pos_z = transform.position.z\n",
    "    rot_x = transform.rotation.x\n",
    "    rot_y = transform.rotation.y\n",
    "    rot_z = transform.rotation.z\n",
    "    r_sign = math.copysign(1.0, radius)\n",
    "    abs_radius = abs(radius)\n",
    "    sign = math.copysign(1.0, n_panals)\n",
    "    abs_n_panals = abs(n_panals)\n",
    "    center_x = pos_x + round(math.sin(-1.0 * math.radians(rot_y + 90)) * abs_radius * -1.0 * r_sign, 2)\n",
    "    center_z = pos_z + round(math.cos(-1.0 * math.radians(rot_y + 90)) * abs_radius * -1.0 * r_sign, 2)\n",
    "    def extrapolate():\n",
    "        deg_offset = 0\n",
    "        cur_pos_y = pos_y\n",
    "        cur_abs_radius = abs_radius\n",
    "        for _ in range(abs_n_panals - 1):\n",
    "            \n",
    "            cur_pos_y += h_delta\n",
    "            cur_abs_radius += r_delta\n",
    "\n",
    "            deg_offset += calc_sep_deg(cur_abs_radius) * sign\n",
    "            new_x = center_x + round(math.sin(-1.0 * math.radians(rot_y + 90 + deg_offset)) * cur_abs_radius * r_sign, 2)\n",
    "            new_z = center_z + round(math.cos(-1.0 * math.radians(rot_y + 90 + deg_offset)) * cur_abs_radius * r_sign, 2)\n",
    "            yield Transform(\n",
    "                position=Vector3(new_x, cur_pos_y, new_z),\n",
    "                rotation=Vector3(rot_x, mod_rot(round(rot_y + deg_offset, 2)), rot_z)\n",
    "            )\n",
    "    return extrapolate\n",
    "\n",
    "def place_curv(transform: Transform, radius: int, n_panals=5, h_delta=0, r_delta=0, ignore_first=False):\n",
    "    reset_build_menu()\n",
    "    if not ignore_first:\n",
    "        place_object(\n",
    "            [OBJECTS_MENU, BLOCKS_MENU, FLOORS_MENU, GLASS_FLOOR],\n",
    "            transform\n",
    "        )\n",
    "    ce = curv_extrapolator(transform, radius, n_panals, h_delta, r_delta)\n",
    "    first = True\n",
    "    for new_transform in ce():\n",
    "        if ignore_first and first:\n",
    "            place_object(\n",
    "                [OBJECTS_MENU, BLOCKS_MENU, FLOORS_MENU, GLASS_FLOOR],\n",
    "                new_transform\n",
    "            )\n",
    "        else:\n",
    "            place_previous_object(\n",
    "                new_transform\n",
    "            )\n",
    "        first = False\n",
    "    "
   ]
  },
  {
   "cell_type": "markdown",
   "metadata": {},
   "source": [
    "# Composite structures"
   ]
  },
  {
   "cell_type": "code",
   "execution_count": 11,
   "metadata": {},
   "outputs": [],
   "source": [
    "roots = [\n",
    "    Transform(\n",
    "        position=Vector3(0, 19000, 19800),\n",
    "        rotation=Vector3(0, 0, 0)\n",
    "    ),\n",
    "    Transform(\n",
    "        position=Vector3(11638, 19000, 16019),\n",
    "        rotation=Vector3(0, -36, 0)\n",
    "    ),\n",
    "    Transform(\n",
    "        position=Vector3(18831, 19000, 6119),\n",
    "        rotation=Vector3(0, -72, 0)\n",
    "    ),\n",
    "    Transform(\n",
    "        position=Vector3(18831, 19000, -6119),\n",
    "        rotation=Vector3(0, -108, 0)\n",
    "    ),\n",
    "    Transform(\n",
    "        position=Vector3(11638, 19000, -16019),\n",
    "        rotation=Vector3(0, -144, 0)\n",
    "    ),\n",
    "    Transform(\n",
    "        position=Vector3(0, 19000, -19800),\n",
    "        rotation=Vector3(0, 180, 0)\n",
    "    ),\n",
    "    Transform(\n",
    "        position=Vector3(-11638, 19000, -16019),\n",
    "        rotation=Vector3(0, 144, 0)\n",
    "    ),\n",
    "    Transform(\n",
    "        position=Vector3(-18831, 19000, -6119),\n",
    "        rotation=Vector3(0, 108, 0)\n",
    "    ),\n",
    "    Transform(\n",
    "        position=Vector3(-188310, 19000, 6119),\n",
    "        rotation=Vector3(0, 72, 0)\n",
    "    ),\n",
    "    Transform(\n",
    "        position=Vector3(-11638, 19000, 16019),\n",
    "        rotation=Vector3(0, 36, 0)\n",
    "    ),\n",
    "]\n",
    "\n",
    "def build_whirlwind_arm(root: Transform):\n",
    "    reset_build_menu()\n",
    "    # Place root\n",
    "    place_object(\n",
    "        [BLOCKS_MENU, FLOORS_MENU, GLASS_FLOOR],\n",
    "        root\n",
    "    )\n",
    "\n",
    "    # Section A\n",
    "    section_a_transform = root.forward(2000)\n",
    "    section_a_transform.position.y -= 1000\n",
    "    section_a_transform.rotation = Vector3(root.rotation.x, root.rotation.y - 36, -45)\n",
    "    \n",
    "    place_curv(\n",
    "        section_a_transform,\n",
    "        10000,\n",
    "        3,\n",
    "        -200,\n",
    "        -198\n",
    "    )\n",
    "\n",
    "    section_a_transform_upper = section_a_transform.left(565)\n",
    "    section_a_transform_upper.position.y += 566\n",
    "    place_curv(\n",
    "        section_a_transform_upper,\n",
    "        10566,\n",
    "        3,\n",
    "        -200,\n",
    "        -198\n",
    "    )\n",
    "\n",
    "    #place_flex_curv(\n",
    "    #    Transform(\n",
    "    #        position=section_a_start_pos,\n",
    "    #        rotation=Vector3(root.rotation.x, root.rotation.y, -31)\n",
    "    #    ),\n",
    "    #   [\n",
    "    #        (5000, 1),\n",
    "    #        (4000, 2),\n",
    "    #        (3000, 3),\n",
    "    #        (4000, 2),\n",
    "    #        (5000, 1),\n",
    "    #    ],\n",
    "    #    1,\n",
    "    #    [\n",
    "    #        (-50, 9)\n",
    "    #    ]\n",
    "    #)\n",
    "\n",
    "def relative_position_test(start: Transform):\n",
    "    reset_build_menu()\n",
    "    place_object(\n",
    "        [OBJECTS_MENU, BLOCKS_MENU, RAMPS_MENU, GLASS_FLOOR],\n",
    "        start\n",
    "    )\n",
    "    for i in range(0, 360, 15):\n",
    "        start.rotation.y = mod_rot(i)\n",
    "        place_object(\n",
    "            [GLASS_FLOOR],\n",
    "            start.left(2000 + i)\n",
    "        )\n"
   ]
  },
  {
   "cell_type": "code",
   "execution_count": null,
   "metadata": {},
   "outputs": [],
   "source": []
  },
  {
   "cell_type": "markdown",
   "metadata": {},
   "source": [
    "# Runner"
   ]
  },
  {
   "cell_type": "code",
   "execution_count": 75,
   "metadata": {},
   "outputs": [
    {
     "name": "stdout",
     "output_type": "stream",
     "text": [
      "game_icon.png found: Box(left=1321, top=2115, width=30, height=20)\n",
      "objects_menu.png found: Box(left=225, top=371, width=144, height=24)\n",
      "objects_menu.png found: Box(left=315, top=371, width=144, height=24)\n",
      "tools_menu.png found: Box(left=557, top=371, width=104, height=24)\n",
      "movement_menu.png found: Box(left=401, top=572, width=142, height=20)\n",
      "rotation_menu.png found: Box(left=628, top=572, width=125, height=20)\n",
      "tools_menu.png found: Box(left=557, top=371, width=104, height=24)\n",
      "movement_menu.png found: Box(left=401, top=572, width=142, height=20)\n",
      "rotation_menu.png found: Box(left=628, top=572, width=125, height=20)\n",
      "tools_menu.png found: Box(left=557, top=371, width=104, height=24)\n",
      "movement_menu.png found: Box(left=401, top=572, width=142, height=20)\n",
      "rotation_menu.png found: Box(left=628, top=572, width=125, height=20)\n",
      "tools_menu.png found: Box(left=557, top=371, width=104, height=24)\n",
      "movement_menu.png found: Box(left=401, top=572, width=142, height=20)\n",
      "rotation_menu.png found: Box(left=628, top=572, width=125, height=20)\n",
      "tools_menu.png found: Box(left=557, top=371, width=104, height=24)\n",
      "movement_menu.png found: Box(left=401, top=572, width=142, height=20)\n",
      "rotation_menu.png found: Box(left=628, top=572, width=125, height=20)\n",
      "tools_menu.png found: Box(left=557, top=371, width=104, height=24)\n",
      "movement_menu.png found: Box(left=401, top=572, width=142, height=20)\n",
      "rotation_menu.png found: Box(left=628, top=572, width=125, height=20)\n",
      "tools_menu.png found: Box(left=557, top=371, width=104, height=24)\n",
      "movement_menu.png found: Box(left=401, top=572, width=142, height=20)\n",
      "rotation_menu.png found: Box(left=628, top=572, width=125, height=20)\n",
      "tools_menu.png found: Box(left=557, top=371, width=104, height=24)\n",
      "movement_menu.png found: Box(left=401, top=572, width=142, height=20)\n",
      "rotation_menu.png found: Box(left=628, top=572, width=125, height=20)\n",
      "tools_menu.png found: Box(left=557, top=371, width=104, height=24)\n",
      "movement_menu.png found: Box(left=401, top=572, width=142, height=20)\n",
      "rotation_menu.png found: Box(left=628, top=572, width=125, height=20)\n",
      "tools_menu.png found: Box(left=557, top=371, width=104, height=24)\n",
      "movement_menu.png found: Box(left=401, top=572, width=142, height=20)\n",
      "rotation_menu.png found: Box(left=628, top=572, width=125, height=20)\n",
      "tools_menu.png found: Box(left=557, top=371, width=104, height=24)\n",
      "movement_menu.png found: Box(left=401, top=572, width=142, height=20)\n",
      "rotation_menu.png found: Box(left=628, top=572, width=125, height=20)\n",
      "tools_menu.png found: Box(left=557, top=371, width=104, height=24)\n",
      "movement_menu.png found: Box(left=401, top=572, width=142, height=20)\n",
      "rotation_menu.png found: Box(left=628, top=572, width=125, height=20)\n",
      "tools_menu.png found: Box(left=557, top=371, width=104, height=24)\n",
      "movement_menu.png found: Box(left=401, top=572, width=142, height=20)\n",
      "rotation_menu.png found: Box(left=628, top=572, width=125, height=20)\n",
      "tools_menu.png found: Box(left=557, top=371, width=104, height=24)\n",
      "movement_menu.png found: Box(left=401, top=572, width=142, height=20)\n",
      "rotation_menu.png found: Box(left=628, top=572, width=125, height=20)\n",
      "tools_menu.png found: Box(left=557, top=371, width=104, height=24)\n",
      "movement_menu.png found: Box(left=401, top=572, width=142, height=20)\n",
      "rotation_menu.png found: Box(left=628, top=572, width=125, height=20)\n",
      "objects_menu.png found: Box(left=315, top=371, width=144, height=24)\n",
      "objects_menu.png found: Box(left=315, top=371, width=144, height=24)\n",
      "tools_menu.png found: Box(left=557, top=371, width=104, height=24)\n",
      "movement_menu.png found: Box(left=401, top=572, width=142, height=20)\n",
      "rotation_menu.png found: Box(left=628, top=572, width=125, height=20)\n",
      "tools_menu.png found: Box(left=557, top=371, width=104, height=24)\n",
      "movement_menu.png found: Box(left=401, top=572, width=142, height=20)\n",
      "rotation_menu.png found: Box(left=628, top=572, width=125, height=20)\n",
      "tools_menu.png found: Box(left=557, top=371, width=104, height=24)\n",
      "movement_menu.png found: Box(left=401, top=572, width=142, height=20)\n",
      "rotation_menu.png found: Box(left=628, top=572, width=125, height=20)\n",
      "tools_menu.png found: Box(left=557, top=371, width=104, height=24)\n",
      "movement_menu.png found: Box(left=401, top=572, width=142, height=20)\n",
      "rotation_menu.png found: Box(left=628, top=572, width=125, height=20)\n",
      "tools_menu.png found: Box(left=557, top=371, width=104, height=24)\n",
      "movement_menu.png found: Box(left=401, top=572, width=142, height=20)\n",
      "rotation_menu.png found: Box(left=628, top=572, width=125, height=20)\n",
      "tools_menu.png found: Box(left=557, top=371, width=104, height=24)\n",
      "movement_menu.png found: Box(left=401, top=572, width=142, height=20)\n",
      "rotation_menu.png found: Box(left=628, top=572, width=125, height=20)\n",
      "tools_menu.png found: Box(left=557, top=371, width=104, height=24)\n",
      "movement_menu.png found: Box(left=401, top=572, width=142, height=20)\n",
      "rotation_menu.png found: Box(left=628, top=572, width=125, height=20)\n",
      "tools_menu.png found: Box(left=557, top=371, width=104, height=24)\n",
      "movement_menu.png found: Box(left=401, top=572, width=142, height=20)\n",
      "rotation_menu.png found: Box(left=628, top=572, width=125, height=20)\n",
      "tools_menu.png found: Box(left=557, top=371, width=104, height=24)\n",
      "movement_menu.png found: Box(left=401, top=572, width=142, height=20)\n",
      "rotation_menu.png found: Box(left=628, top=572, width=125, height=20)\n",
      "tools_menu.png found: Box(left=557, top=371, width=104, height=24)\n",
      "movement_menu.png found: Box(left=401, top=572, width=142, height=20)\n",
      "rotation_menu.png found: Box(left=628, top=572, width=125, height=20)\n",
      "tools_menu.png found: Box(left=557, top=371, width=104, height=24)\n",
      "movement_menu.png found: Box(left=401, top=572, width=142, height=20)\n",
      "rotation_menu.png found: Box(left=628, top=572, width=125, height=20)\n",
      "tools_menu.png found: Box(left=557, top=371, width=104, height=24)\n",
      "movement_menu.png found: Box(left=401, top=572, width=142, height=20)\n"
     ]
    },
    {
     "ename": "FailSafeException",
     "evalue": "PyAutoGUI fail-safe triggered from mouse moving to a corner of the screen. To disable this fail-safe, set pyautogui.FAILSAFE to False. DISABLING FAIL-SAFE IS NOT RECOMMENDED.",
     "output_type": "error",
     "traceback": [
      "\u001b[1;31m---------------------------------------------------------------------------\u001b[0m",
      "\u001b[1;31mFailSafeException\u001b[0m                         Traceback (most recent call last)",
      "\u001b[1;32mc:\\Users\\Shevis\\src\\github.com\\shevisj\\splitbuilder\\runtime.ipynb Cell 20\u001b[0m in \u001b[0;36m<cell line: 1>\u001b[1;34m()\u001b[0m\n\u001b[0;32m      <a href='vscode-notebook-cell:/c%3A/Users/Shevis/src/github.com/shevisj/splitbuilder/runtime.ipynb#X25sZmlsZQ%3D%3D?line=3'>4</a>\u001b[0m     \u001b[39m# place_flex_curv(\u001b[39;00m\n\u001b[0;32m      <a href='vscode-notebook-cell:/c%3A/Users/Shevis/src/github.com/shevisj/splitbuilder/runtime.ipynb#X25sZmlsZQ%3D%3D?line=4'>5</a>\u001b[0m     \u001b[39m#     transform=Transform(\u001b[39;00m\n\u001b[0;32m      <a href='vscode-notebook-cell:/c%3A/Users/Shevis/src/github.com/shevisj/splitbuilder/runtime.ipynb#X25sZmlsZQ%3D%3D?line=5'>6</a>\u001b[0m     \u001b[39m#         position=Vector3(17800, 18400, 18300),\u001b[39;00m\n\u001b[1;32m   (...)\u001b[0m\n\u001b[0;32m     <a href='vscode-notebook-cell:/c%3A/Users/Shevis/src/github.com/shevisj/splitbuilder/runtime.ipynb#X25sZmlsZQ%3D%3D?line=24'>25</a>\u001b[0m     \u001b[39m#     # ]\u001b[39;00m\n\u001b[0;32m     <a href='vscode-notebook-cell:/c%3A/Users/Shevis/src/github.com/shevisj/splitbuilder/runtime.ipynb#X25sZmlsZQ%3D%3D?line=25'>26</a>\u001b[0m     \u001b[39m# )\u001b[39;00m\n\u001b[0;32m     <a href='vscode-notebook-cell:/c%3A/Users/Shevis/src/github.com/shevisj/splitbuilder/runtime.ipynb#X25sZmlsZQ%3D%3D?line=26'>27</a>\u001b[0m     place_curv(\n\u001b[0;32m     <a href='vscode-notebook-cell:/c%3A/Users/Shevis/src/github.com/shevisj/splitbuilder/runtime.ipynb#X25sZmlsZQ%3D%3D?line=27'>28</a>\u001b[0m         transform\u001b[39m=\u001b[39mTransform(\n\u001b[0;32m     <a href='vscode-notebook-cell:/c%3A/Users/Shevis/src/github.com/shevisj/splitbuilder/runtime.ipynb#X25sZmlsZQ%3D%3D?line=28'>29</a>\u001b[0m             position\u001b[39m=\u001b[39mVector3(\u001b[39m8600\u001b[39m, \u001b[39m18000\u001b[39m, \u001b[39m5900\u001b[39m),\n\u001b[1;32m   (...)\u001b[0m\n\u001b[0;32m     <a href='vscode-notebook-cell:/c%3A/Users/Shevis/src/github.com/shevisj/splitbuilder/runtime.ipynb#X25sZmlsZQ%3D%3D?line=35'>36</a>\u001b[0m        ignore_first\u001b[39m=\u001b[39m\u001b[39mFalse\u001b[39;00m\n\u001b[0;32m     <a href='vscode-notebook-cell:/c%3A/Users/Shevis/src/github.com/shevisj/splitbuilder/runtime.ipynb#X25sZmlsZQ%3D%3D?line=36'>37</a>\u001b[0m     )\n\u001b[1;32m---> <a href='vscode-notebook-cell:/c%3A/Users/Shevis/src/github.com/shevisj/splitbuilder/runtime.ipynb#X25sZmlsZQ%3D%3D?line=37'>38</a>\u001b[0m     place_curv(\n\u001b[0;32m     <a href='vscode-notebook-cell:/c%3A/Users/Shevis/src/github.com/shevisj/splitbuilder/runtime.ipynb#X25sZmlsZQ%3D%3D?line=38'>39</a>\u001b[0m        transform\u001b[39m=\u001b[39;49mTransform(\n\u001b[0;32m     <a href='vscode-notebook-cell:/c%3A/Users/Shevis/src/github.com/shevisj/splitbuilder/runtime.ipynb#X25sZmlsZQ%3D%3D?line=39'>40</a>\u001b[0m             position\u001b[39m=\u001b[39;49mVector3(\u001b[39m5900\u001b[39;49m, \u001b[39m18000\u001b[39;49m, \u001b[39m8600\u001b[39;49m),\n\u001b[0;32m     <a href='vscode-notebook-cell:/c%3A/Users/Shevis/src/github.com/shevisj/splitbuilder/runtime.ipynb#X25sZmlsZQ%3D%3D?line=40'>41</a>\u001b[0m             rotation\u001b[39m=\u001b[39;49mVector3(\u001b[39m0\u001b[39;49m, \u001b[39m-\u001b[39;49m\u001b[39m47.85\u001b[39;49m, \u001b[39m-\u001b[39;49m\u001b[39m45\u001b[39;49m)\n\u001b[0;32m     <a href='vscode-notebook-cell:/c%3A/Users/Shevis/src/github.com/shevisj/splitbuilder/runtime.ipynb#X25sZmlsZQ%3D%3D?line=41'>42</a>\u001b[0m         ),\n\u001b[0;32m     <a href='vscode-notebook-cell:/c%3A/Users/Shevis/src/github.com/shevisj/splitbuilder/runtime.ipynb#X25sZmlsZQ%3D%3D?line=42'>43</a>\u001b[0m        radius\u001b[39m=\u001b[39;49m\u001b[39m3000\u001b[39;49m,\n\u001b[0;32m     <a href='vscode-notebook-cell:/c%3A/Users/Shevis/src/github.com/shevisj/splitbuilder/runtime.ipynb#X25sZmlsZQ%3D%3D?line=43'>44</a>\u001b[0m        n_panals\u001b[39m=\u001b[39;49m\u001b[39m15\u001b[39;49m,\n\u001b[0;32m     <a href='vscode-notebook-cell:/c%3A/Users/Shevis/src/github.com/shevisj/splitbuilder/runtime.ipynb#X25sZmlsZQ%3D%3D?line=44'>45</a>\u001b[0m        h_delta\u001b[39m=\u001b[39;49m\u001b[39m0\u001b[39;49m,\n\u001b[0;32m     <a href='vscode-notebook-cell:/c%3A/Users/Shevis/src/github.com/shevisj/splitbuilder/runtime.ipynb#X25sZmlsZQ%3D%3D?line=45'>46</a>\u001b[0m        r_delta\u001b[39m=\u001b[39;49m\u001b[39m0\u001b[39;49m,\n\u001b[0;32m     <a href='vscode-notebook-cell:/c%3A/Users/Shevis/src/github.com/shevisj/splitbuilder/runtime.ipynb#X25sZmlsZQ%3D%3D?line=46'>47</a>\u001b[0m        ignore_first\u001b[39m=\u001b[39;49m\u001b[39mFalse\u001b[39;49;00m\n\u001b[0;32m     <a href='vscode-notebook-cell:/c%3A/Users/Shevis/src/github.com/shevisj/splitbuilder/runtime.ipynb#X25sZmlsZQ%3D%3D?line=47'>48</a>\u001b[0m     )\n\u001b[0;32m     <a href='vscode-notebook-cell:/c%3A/Users/Shevis/src/github.com/shevisj/splitbuilder/runtime.ipynb#X25sZmlsZQ%3D%3D?line=48'>49</a>\u001b[0m \u001b[39mexcept\u001b[39;00m \u001b[39mKeyboardInterrupt\u001b[39;00m \u001b[39mas\u001b[39;00m e:\n\u001b[0;32m     <a href='vscode-notebook-cell:/c%3A/Users/Shevis/src/github.com/shevisj/splitbuilder/runtime.ipynb#X25sZmlsZQ%3D%3D?line=49'>50</a>\u001b[0m     \u001b[39mprint\u001b[39m(\u001b[39m\"\u001b[39m\u001b[39mExiting\u001b[39m\u001b[39m\"\u001b[39m)\n",
      "\u001b[1;32mc:\\Users\\Shevis\\src\\github.com\\shevisj\\splitbuilder\\runtime.ipynb Cell 20\u001b[0m in \u001b[0;36mplace_curv\u001b[1;34m(transform, radius, n_panals, h_delta, r_delta, ignore_first)\u001b[0m\n\u001b[0;32m    <a href='vscode-notebook-cell:/c%3A/Users/Shevis/src/github.com/shevisj/splitbuilder/runtime.ipynb#X25sZmlsZQ%3D%3D?line=199'>200</a>\u001b[0m     place_object(\n\u001b[0;32m    <a href='vscode-notebook-cell:/c%3A/Users/Shevis/src/github.com/shevisj/splitbuilder/runtime.ipynb#X25sZmlsZQ%3D%3D?line=200'>201</a>\u001b[0m         [OBJECTS_MENU, BLOCKS_MENU, FLOORS_MENU, GLASS_FLOOR],\n\u001b[0;32m    <a href='vscode-notebook-cell:/c%3A/Users/Shevis/src/github.com/shevisj/splitbuilder/runtime.ipynb#X25sZmlsZQ%3D%3D?line=201'>202</a>\u001b[0m         new_transform\n\u001b[0;32m    <a href='vscode-notebook-cell:/c%3A/Users/Shevis/src/github.com/shevisj/splitbuilder/runtime.ipynb#X25sZmlsZQ%3D%3D?line=202'>203</a>\u001b[0m     )\n\u001b[0;32m    <a href='vscode-notebook-cell:/c%3A/Users/Shevis/src/github.com/shevisj/splitbuilder/runtime.ipynb#X25sZmlsZQ%3D%3D?line=203'>204</a>\u001b[0m \u001b[39melse\u001b[39;00m:\n\u001b[1;32m--> <a href='vscode-notebook-cell:/c%3A/Users/Shevis/src/github.com/shevisj/splitbuilder/runtime.ipynb#X25sZmlsZQ%3D%3D?line=204'>205</a>\u001b[0m     place_previous_object(\n\u001b[0;32m    <a href='vscode-notebook-cell:/c%3A/Users/Shevis/src/github.com/shevisj/splitbuilder/runtime.ipynb#X25sZmlsZQ%3D%3D?line=205'>206</a>\u001b[0m         new_transform\n\u001b[0;32m    <a href='vscode-notebook-cell:/c%3A/Users/Shevis/src/github.com/shevisj/splitbuilder/runtime.ipynb#X25sZmlsZQ%3D%3D?line=206'>207</a>\u001b[0m     )\n\u001b[0;32m    <a href='vscode-notebook-cell:/c%3A/Users/Shevis/src/github.com/shevisj/splitbuilder/runtime.ipynb#X25sZmlsZQ%3D%3D?line=207'>208</a>\u001b[0m first \u001b[39m=\u001b[39m \u001b[39mFalse\u001b[39;00m\n",
      "\u001b[1;32mc:\\Users\\Shevis\\src\\github.com\\shevisj\\splitbuilder\\runtime.ipynb Cell 20\u001b[0m in \u001b[0;36mplace_previous_object\u001b[1;34m(transform)\u001b[0m\n\u001b[0;32m     <a href='vscode-notebook-cell:/c%3A/Users/Shevis/src/github.com/shevisj/splitbuilder/runtime.ipynb#X25sZmlsZQ%3D%3D?line=48'>49</a>\u001b[0m sleep(uniform(ANIM_SECONDS_MIN, ANIM_SECONDS_MAX))\n\u001b[0;32m     <a href='vscode-notebook-cell:/c%3A/Users/Shevis/src/github.com/shevisj/splitbuilder/runtime.ipynb#X25sZmlsZQ%3D%3D?line=49'>50</a>\u001b[0m pyautogui\u001b[39m.\u001b[39mpress(\u001b[39m'\u001b[39m\u001b[39mz\u001b[39m\u001b[39m'\u001b[39m, interval\u001b[39m=\u001b[39muniform(ANIM_SECONDS_MIN, ANIM_SECONDS_MAX), _pause\u001b[39m=\u001b[39m\u001b[39mTrue\u001b[39;00m)\n\u001b[1;32m---> <a href='vscode-notebook-cell:/c%3A/Users/Shevis/src/github.com/shevisj/splitbuilder/runtime.ipynb#X25sZmlsZQ%3D%3D?line=50'>51</a>\u001b[0m place_object_base(transform)\n",
      "\u001b[1;32mc:\\Users\\Shevis\\src\\github.com\\shevisj\\splitbuilder\\runtime.ipynb Cell 20\u001b[0m in \u001b[0;36mplace_object_base\u001b[1;34m(transform)\u001b[0m\n\u001b[0;32m     <a href='vscode-notebook-cell:/c%3A/Users/Shevis/src/github.com/shevisj/splitbuilder/runtime.ipynb#X25sZmlsZQ%3D%3D?line=30'>31</a>\u001b[0m click_icon(TOOLS_MENU)\n\u001b[0;32m     <a href='vscode-notebook-cell:/c%3A/Users/Shevis/src/github.com/shevisj/splitbuilder/runtime.ipynb#X25sZmlsZQ%3D%3D?line=31'>32</a>\u001b[0m click_icon(MOVEMENT_MENU)\n\u001b[1;32m---> <a href='vscode-notebook-cell:/c%3A/Users/Shevis/src/github.com/shevisj/splitbuilder/runtime.ipynb#X25sZmlsZQ%3D%3D?line=32'>33</a>\u001b[0m enter_value(X_POS, transform\u001b[39m.\u001b[39;49mposition\u001b[39m.\u001b[39;49mx)\n\u001b[0;32m     <a href='vscode-notebook-cell:/c%3A/Users/Shevis/src/github.com/shevisj/splitbuilder/runtime.ipynb#X25sZmlsZQ%3D%3D?line=33'>34</a>\u001b[0m enter_value(Y_POS, transform\u001b[39m.\u001b[39mposition\u001b[39m.\u001b[39my)\n\u001b[0;32m     <a href='vscode-notebook-cell:/c%3A/Users/Shevis/src/github.com/shevisj/splitbuilder/runtime.ipynb#X25sZmlsZQ%3D%3D?line=34'>35</a>\u001b[0m enter_value(Z_POS, transform\u001b[39m.\u001b[39mposition\u001b[39m.\u001b[39mz)\n",
      "\u001b[1;32mc:\\Users\\Shevis\\src\\github.com\\shevisj\\splitbuilder\\runtime.ipynb Cell 20\u001b[0m in \u001b[0;36menter_value\u001b[1;34m(spot, val)\u001b[0m\n\u001b[0;32m     <a href='vscode-notebook-cell:/c%3A/Users/Shevis/src/github.com/shevisj/splitbuilder/runtime.ipynb#X25sZmlsZQ%3D%3D?line=22'>23</a>\u001b[0m \u001b[39mdef\u001b[39;00m \u001b[39menter_value\u001b[39m(spot, val):\n\u001b[1;32m---> <a href='vscode-notebook-cell:/c%3A/Users/Shevis/src/github.com/shevisj/splitbuilder/runtime.ipynb#X25sZmlsZQ%3D%3D?line=23'>24</a>\u001b[0m     click_spot(spot[\u001b[39m0\u001b[39;49m], spot[\u001b[39m1\u001b[39;49m])\n\u001b[0;32m     <a href='vscode-notebook-cell:/c%3A/Users/Shevis/src/github.com/shevisj/splitbuilder/runtime.ipynb#X25sZmlsZQ%3D%3D?line=24'>25</a>\u001b[0m     val_chars \u001b[39m=\u001b[39m \u001b[39mlist\u001b[39m(\u001b[39mstr\u001b[39m(val))\n\u001b[0;32m     <a href='vscode-notebook-cell:/c%3A/Users/Shevis/src/github.com/shevisj/splitbuilder/runtime.ipynb#X25sZmlsZQ%3D%3D?line=25'>26</a>\u001b[0m     \u001b[39mfor\u001b[39;00m ch \u001b[39min\u001b[39;00m val_chars:\n",
      "\u001b[1;32mc:\\Users\\Shevis\\src\\github.com\\shevisj\\splitbuilder\\runtime.ipynb Cell 20\u001b[0m in \u001b[0;36mclick_spot\u001b[1;34m(x, y)\u001b[0m\n\u001b[0;32m     <a href='vscode-notebook-cell:/c%3A/Users/Shevis/src/github.com/shevisj/splitbuilder/runtime.ipynb#X25sZmlsZQ%3D%3D?line=27'>28</a>\u001b[0m y_delta \u001b[39m=\u001b[39m \u001b[39mint\u001b[39m(y \u001b[39m+\u001b[39m uniform(\u001b[39m-\u001b[39m\u001b[39m20\u001b[39m, \u001b[39m20\u001b[39m))\n\u001b[0;32m     <a href='vscode-notebook-cell:/c%3A/Users/Shevis/src/github.com/shevisj/splitbuilder/runtime.ipynb#X25sZmlsZQ%3D%3D?line=28'>29</a>\u001b[0m x_delta \u001b[39m=\u001b[39m \u001b[39mint\u001b[39m(x \u001b[39m+\u001b[39m uniform(\u001b[39m-\u001b[39m\u001b[39m40\u001b[39m, \u001b[39m40\u001b[39m))\n\u001b[1;32m---> <a href='vscode-notebook-cell:/c%3A/Users/Shevis/src/github.com/shevisj/splitbuilder/runtime.ipynb#X25sZmlsZQ%3D%3D?line=29'>30</a>\u001b[0m pyautogui\u001b[39m.\u001b[39;49mmoveTo(x_delta, y_delta, duration\u001b[39m=\u001b[39;49muniform(ANIM_SECONDS_MIN, ANIM_SECONDS_MAX))\n\u001b[0;32m     <a href='vscode-notebook-cell:/c%3A/Users/Shevis/src/github.com/shevisj/splitbuilder/runtime.ipynb#X25sZmlsZQ%3D%3D?line=30'>31</a>\u001b[0m pyautogui\u001b[39m.\u001b[39mclick(x\u001b[39m=\u001b[39mx_delta, y\u001b[39m=\u001b[39my_delta)\n",
      "File \u001b[1;32m~\\AppData\\Local\\Packages\\PythonSoftwareFoundation.Python.3.10_qbz5n2kfra8p0\\LocalCache\\local-packages\\Python310\\site-packages\\pyautogui\\__init__.py:598\u001b[0m, in \u001b[0;36m_genericPyAutoGUIChecks.<locals>.wrapper\u001b[1;34m(*args, **kwargs)\u001b[0m\n\u001b[0;32m    595\u001b[0m \u001b[39m@functools\u001b[39m\u001b[39m.\u001b[39mwraps(wrappedFunction)\n\u001b[0;32m    596\u001b[0m \u001b[39mdef\u001b[39;00m \u001b[39mwrapper\u001b[39m(\u001b[39m*\u001b[39margs, \u001b[39m*\u001b[39m\u001b[39m*\u001b[39mkwargs):\n\u001b[0;32m    597\u001b[0m     failSafeCheck()\n\u001b[1;32m--> 598\u001b[0m     returnVal \u001b[39m=\u001b[39m wrappedFunction(\u001b[39m*\u001b[39margs, \u001b[39m*\u001b[39m\u001b[39m*\u001b[39mkwargs)\n\u001b[0;32m    599\u001b[0m     _handlePause(kwargs\u001b[39m.\u001b[39mget(\u001b[39m\"\u001b[39m\u001b[39m_pause\u001b[39m\u001b[39m\"\u001b[39m, \u001b[39mTrue\u001b[39;00m))\n\u001b[0;32m    600\u001b[0m     \u001b[39mreturn\u001b[39;00m returnVal\n",
      "File \u001b[1;32m~\\AppData\\Local\\Packages\\PythonSoftwareFoundation.Python.3.10_qbz5n2kfra8p0\\LocalCache\\local-packages\\Python310\\site-packages\\pyautogui\\__init__.py:1283\u001b[0m, in \u001b[0;36mmoveTo\u001b[1;34m(x, y, duration, tween, logScreenshot, _pause)\u001b[0m\n\u001b[0;32m   1280\u001b[0m x, y \u001b[39m=\u001b[39m _normalizeXYArgs(x, y)\n\u001b[0;32m   1282\u001b[0m _logScreenshot(logScreenshot, \u001b[39m\"\u001b[39m\u001b[39mmoveTo\u001b[39m\u001b[39m\"\u001b[39m, \u001b[39m\"\u001b[39m\u001b[39m%s\u001b[39;00m\u001b[39m,\u001b[39m\u001b[39m%s\u001b[39;00m\u001b[39m\"\u001b[39m \u001b[39m%\u001b[39m (x, y), folder\u001b[39m=\u001b[39m\u001b[39m\"\u001b[39m\u001b[39m.\u001b[39m\u001b[39m\"\u001b[39m)\n\u001b[1;32m-> 1283\u001b[0m _mouseMoveDrag(\u001b[39m\"\u001b[39;49m\u001b[39mmove\u001b[39;49m\u001b[39m\"\u001b[39;49m, x, y, \u001b[39m0\u001b[39;49m, \u001b[39m0\u001b[39;49m, duration, tween)\n",
      "File \u001b[1;32m~\\AppData\\Local\\Packages\\PythonSoftwareFoundation.Python.3.10_qbz5n2kfra8p0\\LocalCache\\local-packages\\Python310\\site-packages\\pyautogui\\__init__.py:1499\u001b[0m, in \u001b[0;36m_mouseMoveDrag\u001b[1;34m(moveOrDrag, x, y, xOffset, yOffset, duration, tween, button)\u001b[0m\n\u001b[0;32m   1495\u001b[0m \u001b[39m# Do a fail-safe check to see if the user moved the mouse to a fail-safe position, but not if the mouse cursor\u001b[39;00m\n\u001b[0;32m   1496\u001b[0m \u001b[39m# moved there as a result of this function. (Just because tweenX and tweenY aren't in a fail-safe position\u001b[39;00m\n\u001b[0;32m   1497\u001b[0m \u001b[39m# doesn't mean the user couldn't have moved the mouse cursor to a fail-safe position.)\u001b[39;00m\n\u001b[0;32m   1498\u001b[0m \u001b[39mif\u001b[39;00m (tweenX, tweenY) \u001b[39mnot\u001b[39;00m \u001b[39min\u001b[39;00m FAILSAFE_POINTS:\n\u001b[1;32m-> 1499\u001b[0m     failSafeCheck()\n\u001b[0;32m   1501\u001b[0m \u001b[39mif\u001b[39;00m moveOrDrag \u001b[39m==\u001b[39m \u001b[39m\"\u001b[39m\u001b[39mmove\u001b[39m\u001b[39m\"\u001b[39m:\n\u001b[0;32m   1502\u001b[0m     platformModule\u001b[39m.\u001b[39m_moveTo(tweenX, tweenY)\n",
      "File \u001b[1;32m~\\AppData\\Local\\Packages\\PythonSoftwareFoundation.Python.3.10_qbz5n2kfra8p0\\LocalCache\\local-packages\\Python310\\site-packages\\pyautogui\\__init__.py:1722\u001b[0m, in \u001b[0;36mfailSafeCheck\u001b[1;34m()\u001b[0m\n\u001b[0;32m   1720\u001b[0m \u001b[39mdef\u001b[39;00m \u001b[39mfailSafeCheck\u001b[39m():\n\u001b[0;32m   1721\u001b[0m     \u001b[39mif\u001b[39;00m FAILSAFE \u001b[39mand\u001b[39;00m \u001b[39mtuple\u001b[39m(position()) \u001b[39min\u001b[39;00m FAILSAFE_POINTS:\n\u001b[1;32m-> 1722\u001b[0m         \u001b[39mraise\u001b[39;00m FailSafeException(\n\u001b[0;32m   1723\u001b[0m             \u001b[39m\"\u001b[39m\u001b[39mPyAutoGUI fail-safe triggered from mouse moving to a corner of the screen. To disable this fail-safe, set pyautogui.FAILSAFE to False. DISABLING FAIL-SAFE IS NOT RECOMMENDED.\u001b[39m\u001b[39m\"\u001b[39m\n\u001b[0;32m   1724\u001b[0m         )\n",
      "\u001b[1;31mFailSafeException\u001b[0m: PyAutoGUI fail-safe triggered from mouse moving to a corner of the screen. To disable this fail-safe, set pyautogui.FAILSAFE to False. DISABLING FAIL-SAFE IS NOT RECOMMENDED."
     ]
    }
   ],
   "source": [
    "try:\n",
    "    click_icon('game_icon.png')\n",
    "    activate_build_mode()\n",
    "    # place_flex_curv(\n",
    "    #     transform=Transform(\n",
    "    #         position=Vector3(17800, 18400, 18300),\n",
    "    #         rotation=Vector3(0, 135, -31)\n",
    "    #     ),\n",
    "    #     radii=[\n",
    "    #        (-5000, 1),\n",
    "    #        (-4000, 2),\n",
    "    #        (-3000, 3),\n",
    "    #        (-4000, 2),\n",
    "    #        (-5000, 1),\n",
    "    #     ],\n",
    "    #     sign=-1,\n",
    "    #     h_deltas=[(0, 9)],\n",
    "    #     ignore_first=True\n",
    "    #     # [\n",
    "    #     #    (-10, 1),\n",
    "    #     #    (-15, 2),\n",
    "    #     #    (-20, 3),\n",
    "    #     #    (-25, 2),\n",
    "    #     #    (-30, 1),\n",
    "    #     # ]\n",
    "    # )\n",
    "    place_curv(\n",
    "        transform=Transform(\n",
    "            position=Vector3(8600, 18000, 5900),\n",
    "            rotation=Vector3(0, -42.15, 45)\n",
    "        ),\n",
    "       radius=-3000,\n",
    "       n_panals=-15,\n",
    "       h_delta=0,\n",
    "       r_delta=0,\n",
    "       ignore_first=False\n",
    "    )\n",
    "    place_curv(\n",
    "       transform=Transform(\n",
    "            position=Vector3(5900, 18000, 8600),\n",
    "            rotation=Vector3(0, -47.85, -45)\n",
    "        ),\n",
    "       radius=3000,\n",
    "       n_panals=15,\n",
    "       h_delta=0,\n",
    "       r_delta=0,\n",
    "       ignore_first=False\n",
    "    )\n",
    "except KeyboardInterrupt as e:\n",
    "    print(\"Exiting\")"
   ]
  },
  {
   "cell_type": "code",
   "execution_count": 25,
   "metadata": {},
   "outputs": [],
   "source": [
    "image = pyautogui.screenshot()\n",
    "image.save('testing.png')"
   ]
  },
  {
   "cell_type": "code",
   "execution_count": null,
   "metadata": {},
   "outputs": [],
   "source": [
    "ep = straight_panal_extrapolator((0, 0, 0), (0, 0, 0), 4)"
   ]
  },
  {
   "cell_type": "code",
   "execution_count": null,
   "metadata": {},
   "outputs": [
    {
     "name": "stdout",
     "output_type": "stream",
     "text": [
      "(400, 0, 0) (0, 0, 0)\n",
      "(800, 0, 0) (0, 0, 0)\n",
      "(1200, 0, 0) (0, 0, 0)\n"
     ]
    }
   ],
   "source": [
    "for p, r in ep():\n",
    "    print(p, r)"
   ]
  },
  {
   "cell_type": "code",
   "execution_count": null,
   "metadata": {},
   "outputs": [
    {
     "name": "stdout",
     "output_type": "stream",
     "text": [
      "0 5000 -1000\n"
     ]
    }
   ],
   "source": [
    "curv_extrapolator((0, 5000, 0), (0, -90, -31), 1000, 5)"
   ]
  },
  {
   "cell_type": "code",
   "execution_count": null,
   "metadata": {},
   "outputs": [],
   "source": [
    "ce = curv_extrapolator((-1546, 12890, 1235), (0, 0, -31), 1000, 5)"
   ]
  },
  {
   "cell_type": "code",
   "execution_count": null,
   "metadata": {},
   "outputs": [
    {
     "name": "stdout",
     "output_type": "stream",
     "text": [
      "(-1546, 12890, 1235) (0, 0, -31)\n",
      "(-1542, 12890, 1148) (0, 5.0, -31)\n",
      "(-1531, 12890, 1061) (0, 10.0, -31)\n",
      "(-1512, 12890, 976) (0, 15.0, -31)\n",
      "(-1486, 12890, 893) (0, 20.0, -31)\n"
     ]
    }
   ],
   "source": [
    "print((-1546, 12890, 1235), (0, 0, -31))\n",
    "for loc, rot in ce():\n",
    "    print(loc, rot)"
   ]
  },
  {
   "cell_type": "code",
   "execution_count": null,
   "metadata": {},
   "outputs": [
    {
     "data": {
      "text/plain": [
       "11.309932474020215"
      ]
     },
     "execution_count": 49,
     "metadata": {},
     "output_type": "execute_result"
    }
   ],
   "source": [
    "math.degrees(math.atan(400.0 / float(2000)))"
   ]
  },
  {
   "cell_type": "code",
   "execution_count": 24,
   "metadata": {},
   "outputs": [
    {
     "data": {
      "text/plain": [
       "565.685424949238"
      ]
     },
     "execution_count": 24,
     "metadata": {},
     "output_type": "execute_result"
    }
   ],
   "source": [
    "800 * math.cos(math.radians(45))"
   ]
  },
  {
   "cell_type": "code",
   "execution_count": null,
   "metadata": {},
   "outputs": [
    {
     "data": {
      "text/plain": [
       "0.8571673007021123"
      ]
     },
     "execution_count": 54,
     "metadata": {},
     "output_type": "execute_result"
    }
   ],
   "source": [
    "math.cos(math.radians(31))"
   ]
  },
  {
   "cell_type": "code",
   "execution_count": 74,
   "metadata": {},
   "outputs": [
    {
     "data": {
      "text/plain": [
       "-66"
      ]
     },
     "execution_count": 74,
     "metadata": {},
     "output_type": "execute_result"
    }
   ],
   "source": [
    "mod_rot(-66666)"
   ]
  },
  {
   "cell_type": "code",
   "execution_count": 85,
   "metadata": {},
   "outputs": [],
   "source": [
    "fce = flex_curv_extrapolator((-1546, 12890, 1235), (0, 0, -31), [(1000, 2), (500, 3), (1000, 2)])"
   ]
  },
  {
   "cell_type": "code",
   "execution_count": 87,
   "metadata": {},
   "outputs": [
    {
     "name": "stdout",
     "output_type": "stream",
     "text": [
      "(-1546, 12890, 1235) (0, 0, -31)\n",
      "(-1516, 12890, 993) (0, 14, -31)\n",
      "(-1277, 12890, 553) (0, 43, -31)\n",
      "(-1130, 12890, 445) (0, 64, -31)\n",
      "(-782, 12890, 411) (0, 105, -31)\n",
      "(-424, 12890, 782) (0, 167, -31)\n",
      "(-398, 12890, 1024) (0, -179, -31)\n",
      "(-532, 12890, 1507) (0, -150, -31)\n"
     ]
    }
   ],
   "source": [
    "print((-1546, 12890, 1235), (0, 0, -31))\n",
    "for loc, rot in fce():\n",
    "    print(loc, rot)"
   ]
  },
  {
   "cell_type": "code",
   "execution_count": 21,
   "metadata": {},
   "outputs": [
    {
     "name": "stdout",
     "output_type": "stream",
     "text": [
      "-180\n",
      "-144\n",
      "-108\n",
      "-72\n",
      "-36\n",
      "0\n",
      "36\n",
      "72\n",
      "108\n",
      "144\n"
     ]
    }
   ],
   "source": [
    "for i in range(-180, 180, 36):\n",
    "    print(i)"
   ]
  },
  {
   "cell_type": "code",
   "execution_count": 39,
   "metadata": {},
   "outputs": [],
   "source": [
    "r = roots[0]"
   ]
  },
  {
   "cell_type": "code",
   "execution_count": 40,
   "metadata": {},
   "outputs": [
    {
     "data": {
      "text/plain": [
       "Transform(\n",
       "\tposition: (x: 0, y: 1900, z: 19800),\n",
       "\trotation: (x: 0, y: 0, z: 0),\n",
       ")"
      ]
     },
     "execution_count": 40,
     "metadata": {},
     "output_type": "execute_result"
    }
   ],
   "source": [
    "r"
   ]
  },
  {
   "cell_type": "code",
   "execution_count": 41,
   "metadata": {},
   "outputs": [
    {
     "data": {
      "text/plain": [
       "(x: 0, y: 1900, z: 20800)"
      ]
     },
     "execution_count": 41,
     "metadata": {},
     "output_type": "execute_result"
    }
   ],
   "source": [
    "r.forward(1000)"
   ]
  },
  {
   "cell_type": "code",
   "execution_count": 24,
   "metadata": {},
   "outputs": [
    {
     "data": {
      "text/plain": [
       "565.685424949238"
      ]
     },
     "execution_count": 24,
     "metadata": {},
     "output_type": "execute_result"
    }
   ],
   "source": [
    "(800 * math.cos(math.radians(45)))"
   ]
  },
  {
   "cell_type": "code",
   "execution_count": 61,
   "metadata": {},
   "outputs": [],
   "source": [
    "root = roots[2]"
   ]
  },
  {
   "cell_type": "code",
   "execution_count": 73,
   "metadata": {},
   "outputs": [],
   "source": [
    "section_a_transform = root.forward(2000)\n",
    "section_a_transform.position.y -= 1000\n",
    "section_a_transform.rotation = Vector3(root.rotation.x, root.rotation.y - 36, -31)"
   ]
  },
  {
   "cell_type": "code",
   "execution_count": 65,
   "metadata": {},
   "outputs": [],
   "source": [
    "section_a_transform.position = Vector3(y=1000)"
   ]
  },
  {
   "cell_type": "code",
   "execution_count": 74,
   "metadata": {},
   "outputs": [
    {
     "data": {
      "text/plain": [
       "Transform(\n",
       "\tposition: (x: 16929, y: 18000, z: 5501),\n",
       "\trotation: (x: 0, y: -108, z: -31),\n",
       ")"
      ]
     },
     "execution_count": 74,
     "metadata": {},
     "output_type": "execute_result"
    }
   ],
   "source": [
    "section_a_transform"
   ]
  },
  {
   "cell_type": "code",
   "execution_count": 75,
   "metadata": {},
   "outputs": [
    {
     "data": {
      "text/plain": [
       "Transform(\n",
       "\tposition: (x: 16754, y: 18000, z: 6038),\n",
       "\trotation: (x: 0, y: -108, z: -31),\n",
       ")"
      ]
     },
     "execution_count": 75,
     "metadata": {},
     "output_type": "execute_result"
    }
   ],
   "source": [
    "section_a_transform.left(565)"
   ]
  },
  {
   "cell_type": "code",
   "execution_count": 6,
   "metadata": {},
   "outputs": [],
   "source": [
    "import numpy as np\n",
    "import math as m\n",
    "  \n",
    "def Rx(theta):\n",
    "  return np.matrix([[ 1, 0           , 0           ],\n",
    "                   [ 0, m.cos(theta),-m.sin(theta)],\n",
    "                   [ 0, m.sin(theta), m.cos(theta)]])\n",
    "  \n",
    "def Ry(theta):\n",
    "  return np.matrix([[ m.cos(theta), 0, m.sin(theta)],\n",
    "                   [ 0           , 1, 0           ],\n",
    "                   [-m.sin(theta), 0, m.cos(theta)]])\n",
    "  \n",
    "def Rz(theta):\n",
    "  return np.matrix([[ m.cos(theta), -m.sin(theta), 0 ],\n",
    "                   [ m.sin(theta), m.cos(theta) , 0 ],\n",
    "                   [ 0           , 0            , 1 ]])"
   ]
  },
  {
   "cell_type": "code",
   "execution_count": 7,
   "metadata": {},
   "outputs": [
    {
     "name": "stdout",
     "output_type": "stream",
     "text": [
      "phi = 1.5707963267948966\n",
      "theta  = 0.7853981633974483\n",
      "psi = 1.5707963267948966\n",
      "[[ 0.   -0.    1.  ]\n",
      " [ 0.71  0.71 -0.  ]\n",
      " [-0.71  0.71  0.  ]]\n"
     ]
    }
   ],
   "source": [
    "phi = m.pi/2\n",
    "theta = m.pi/4\n",
    "psi = m.pi/2\n",
    "print(\"phi =\", phi)\n",
    "print(\"theta  =\", theta)\n",
    "print(\"psi =\", psi)\n",
    "  \n",
    "  \n",
    "R = Rz(psi) * Ry(theta) * Rx(phi)\n",
    "print(np.round(R, decimals=2))"
   ]
  },
  {
   "cell_type": "code",
   "execution_count": 8,
   "metadata": {},
   "outputs": [
    {
     "name": "stdout",
     "output_type": "stream",
     "text": [
      "phi = 1.5707963267948966\n",
      "theta  = 0.7853981633974483\n",
      "psi = 1.5707963267948966\n"
     ]
    }
   ],
   "source": [
    "import sys\n",
    "tol = sys.float_info.epsilon * 10\n",
    "  \n",
    "if abs(R.item(0,0))< tol and abs(R.item(1,0)) < tol:\n",
    "   eul1 = 0\n",
    "   eul2 = m.atan2(-R.item(2,0), R.item(0,0))\n",
    "   eul3 = m.atan2(-R.item(1,2), R.item(1,1))\n",
    "else:   \n",
    "   eul1 = m.atan2(R.item(1,0),R.item(0,0))\n",
    "   sp = m.sin(eul1)\n",
    "   cp = m.cos(eul1)\n",
    "   eul2 = m.atan2(-R.item(2,0),cp*R.item(0,0)+sp*R.item(1,0))\n",
    "   eul3 = m.atan2(sp*R.item(0,2)-cp*R.item(1,2),cp*R.item(1,1)-sp*R.item(0,1))\n",
    "  \n",
    "print(\"phi =\", eul1)\n",
    "print(\"theta  =\", eul2)\n",
    "print(\"psi =\", eul3)"
   ]
  },
  {
   "cell_type": "code",
   "execution_count": 63,
   "metadata": {},
   "outputs": [
    {
     "data": {
      "text/plain": [
       "25.45584412271571"
      ]
     },
     "execution_count": 63,
     "metadata": {},
     "output_type": "execute_result"
    }
   ],
   "source": [
    "math.sqrt(324*2)"
   ]
  },
  {
   "cell_type": "code",
   "execution_count": 62,
   "metadata": {},
   "outputs": [
    {
     "data": {
      "text/plain": [
       "324"
      ]
     },
     "execution_count": 62,
     "metadata": {},
     "output_type": "execute_result"
    }
   ],
   "source": [
    "18**2"
   ]
  },
  {
   "cell_type": "code",
   "execution_count": 31,
   "metadata": {},
   "outputs": [
    {
     "data": {
      "text/plain": [
       "80000.0"
      ]
     },
     "execution_count": 31,
     "metadata": {},
     "output_type": "execute_result"
    }
   ],
   "source": [
    "160000/2"
   ]
  },
  {
   "cell_type": "code",
   "execution_count": 33,
   "metadata": {},
   "outputs": [
    {
     "data": {
      "text/plain": [
       "40000.0"
      ]
     },
     "execution_count": 33,
     "metadata": {},
     "output_type": "execute_result"
    }
   ],
   "source": [
    "80000/2"
   ]
  },
  {
   "cell_type": "code",
   "execution_count": 34,
   "metadata": {},
   "outputs": [
    {
     "data": {
      "text/plain": [
       "200.0"
      ]
     },
     "execution_count": 34,
     "metadata": {},
     "output_type": "execute_result"
    }
   ],
   "source": [
    "math.sqrt(40000.0)"
   ]
  },
  {
   "cell_type": "code",
   "execution_count": 59,
   "metadata": {},
   "outputs": [
    {
     "data": {
      "text/plain": [
       "576"
      ]
     },
     "execution_count": 59,
     "metadata": {},
     "output_type": "execute_result"
    }
   ],
   "source": [
    "24**2"
   ]
  },
  {
   "cell_type": "code",
   "execution_count": 68,
   "metadata": {},
   "outputs": [
    {
     "data": {
      "text/plain": [
       "2.33"
      ]
     },
     "execution_count": 68,
     "metadata": {},
     "output_type": "execute_result"
    }
   ],
   "source": [
    "round(2.3345, 2)"
   ]
  },
  {
   "cell_type": "code",
   "execution_count": 73,
   "metadata": {},
   "outputs": [
    {
     "data": {
      "text/plain": [
       "-47.85"
      ]
     },
     "execution_count": 73,
     "metadata": {},
     "output_type": "execute_result"
    }
   ],
   "source": [
    "-90 + 42.15"
   ]
  },
  {
   "cell_type": "code",
   "execution_count": null,
   "metadata": {},
   "outputs": [],
   "source": []
  }
 ],
 "metadata": {
  "kernelspec": {
   "display_name": "Python 3.10.5 64-bit (windows store)",
   "language": "python",
   "name": "python3"
  },
  "language_info": {
   "codemirror_mode": {
    "name": "ipython",
    "version": 3
   },
   "file_extension": ".py",
   "mimetype": "text/x-python",
   "name": "python",
   "nbconvert_exporter": "python",
   "pygments_lexer": "ipython3",
   "version": "3.10.6"
  },
  "orig_nbformat": 4,
  "vscode": {
   "interpreter": {
    "hash": "a0e22ae3c8aa5c2c5262c64072f6a25b93ef971aa6947536f3568c6b9664087c"
   }
  }
 },
 "nbformat": 4,
 "nbformat_minor": 2
}
